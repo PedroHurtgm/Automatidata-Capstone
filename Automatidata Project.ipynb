{
 "cells": [
  {
   "cell_type": "markdown",
   "id": "f21b8b08",
   "metadata": {},
   "source": [
    "## Projecto Taxis de Nueva York"
   ]
  },
  {
   "cell_type": "markdown",
   "id": "596bd025",
   "metadata": {},
   "source": [
    "### Entendiendo el escenario y el problema"
   ]
  },
  {
   "cell_type": "markdown",
   "id": "1cdd8334",
   "metadata": {},
   "source": [
    "El proyecto trata en primer lugar de analizar el dataset, realizar una limpieza de datos que no necesitemos, cambiar el formato del dato en las columnas en las que sea necesario y preparar el dataset para su posterior análisis y uso.\n",
    "\n",
    "Una vez el análisis este completado se realizará un test de hipótesis del tipo A/B y se intentarán realizar dos modelos. Uno que prediga el precio que tendrá el viaje en taxi y el otro que se encargue de predecir si un cliente va a ser generoso con la propina o no."
   ]
  },
  {
   "cell_type": "code",
   "execution_count": 1,
   "id": "e2841a00",
   "metadata": {},
   "outputs": [],
   "source": [
    "# Importamos librerias\n",
    "import numpy as np\n",
    "import pandas as pd\n",
    "\n",
    "import matplotlib.pyplot as plt\n",
    "import seaborn as sns\n",
    "\n",
    "pd.set_option('display.max_columns', None)\n",
    "\n",
    "from scipy import stats\n",
    "\n",
    "from xgboost import XGBClassifier\n",
    "from xgboost import XGBRegressor\n",
    "from xgboost import plot_importance\n",
    "\n",
    "from sklearn.linear_model import LogisticRegression\n",
    "from sklearn.preprocessing import StandardScaler\n",
    "from sklearn.tree import DecisionTreeClassifier\n",
    "from sklearn.ensemble import RandomForestClassifier\n",
    "\n",
    "from sklearn.model_selection import GridSearchCV, train_test_split\n",
    "from sklearn.metrics import accuracy_score, precision_score, recall_score, f1_score, confusion_matrix, ConfusionMatrixDisplay,\\\n",
    "classification_report\n",
    "from sklearn.metrics import roc_auc_score, roc_curve\n",
    "from sklearn.tree import plot_tree\n",
    "\n",
    "from sklearn.linear_model import LinearRegression\n",
    "from sklearn.metrics import mean_absolute_error,r2_score,mean_squared_error\n",
    "\n",
    "import pickle"
   ]
  },
  {
   "cell_type": "code",
   "execution_count": 2,
   "id": "fe08c84d",
   "metadata": {},
   "outputs": [],
   "source": [
    "pd.set_option('display.max_columns', None)"
   ]
  },
  {
   "cell_type": "code",
   "execution_count": 3,
   "id": "235a4a97",
   "metadata": {},
   "outputs": [],
   "source": [
    "df0 = pd.read_csv('2017_Yellow_Taxi_Trip_Data.csv')"
   ]
  },
  {
   "cell_type": "markdown",
   "id": "ce7d457f",
   "metadata": {},
   "source": [
    "El data set contiene las siguientes variables:"
   ]
  },
  {
   "cell_type": "markdown",
   "id": "e041d987",
   "metadata": {},
   "source": [
    "Column Name  |Description |\n",
    "-----|:-----|\n",
    "ID|Trip identification number|\n",
    "VendorID|A code indicating the TPEP provider that provide the record.|\n",
    "tpep_pickup_datetime|The date and time when the meter was engaged.|\n",
    "tpep_dropoff_datetime|The date and time when the meter was disengaged.|\n",
    "Passenger_count|The number of passenger in the vehicle (This is a driver-entered value)|\n",
    "Trip_distance|The elapsed trip distance in miles reported by the taximeter (milles)|\n",
    "PULocationID|TLC Taxi Zone in which the taximeter was engaged.|\n",
    "DOLocationID|TLC Taxi Zone in which the taximeter was disengaged.|\n",
    "RateCodeID|The final rate code in effect at the end of the trip.|\n",
    "Store_and_fwd_flag|This flag indicates whether the trip record was held in vehicle memory before sent to the vendor because the vehicle did not have a connection to the server.|\n",
    "Payment_type|A numeric code signifying how the passenger paid for the trip.|\n",
    "Fare_amount|The time-and-distance fare calculated by the meter.|\n",
    "Extra|Miscellaneous extras and surcharges. Currently this only include the $\\$0.50$ and $\\$1$ rush hour and overnight charges.|\n",
    "MTA_tax|$\\$0.50$ MTA tax that is automatically triggered based on the metered rate in use.| \n",
    "Improvement_surcharge|$\\$0.30 $ improvement surcharge assessed trips and the flag drop. The improvement surcharge began being levied in 2015.|\n",
    "Tip_amount|Tip amount - This field is automatically populated for credit card tips. Cash tips are not included.|\n",
    "Tolls_amount|Total amount of all tolls paid in trips.|\n",
    "Total_amount|The total amount charged to passengers. Does not include chas tips.|"
   ]
  },
  {
   "cell_type": "code",
   "execution_count": 4,
   "id": "5b7d8ecf",
   "metadata": {},
   "outputs": [
    {
     "data": {
      "text/html": [
       "<div>\n",
       "<style scoped>\n",
       "    .dataframe tbody tr th:only-of-type {\n",
       "        vertical-align: middle;\n",
       "    }\n",
       "\n",
       "    .dataframe tbody tr th {\n",
       "        vertical-align: top;\n",
       "    }\n",
       "\n",
       "    .dataframe thead th {\n",
       "        text-align: right;\n",
       "    }\n",
       "</style>\n",
       "<table border=\"1\" class=\"dataframe\">\n",
       "  <thead>\n",
       "    <tr style=\"text-align: right;\">\n",
       "      <th></th>\n",
       "      <th>Unnamed: 0</th>\n",
       "      <th>VendorID</th>\n",
       "      <th>tpep_pickup_datetime</th>\n",
       "      <th>tpep_dropoff_datetime</th>\n",
       "      <th>passenger_count</th>\n",
       "      <th>trip_distance</th>\n",
       "      <th>RatecodeID</th>\n",
       "      <th>store_and_fwd_flag</th>\n",
       "      <th>PULocationID</th>\n",
       "      <th>DOLocationID</th>\n",
       "      <th>payment_type</th>\n",
       "      <th>fare_amount</th>\n",
       "      <th>extra</th>\n",
       "      <th>mta_tax</th>\n",
       "      <th>tip_amount</th>\n",
       "      <th>tolls_amount</th>\n",
       "      <th>improvement_surcharge</th>\n",
       "      <th>total_amount</th>\n",
       "    </tr>\n",
       "  </thead>\n",
       "  <tbody>\n",
       "    <tr>\n",
       "      <th>0</th>\n",
       "      <td>24870114</td>\n",
       "      <td>2</td>\n",
       "      <td>03/25/2017 8:55:43 AM</td>\n",
       "      <td>03/25/2017 9:09:47 AM</td>\n",
       "      <td>6</td>\n",
       "      <td>3.34</td>\n",
       "      <td>1</td>\n",
       "      <td>N</td>\n",
       "      <td>100</td>\n",
       "      <td>231</td>\n",
       "      <td>1</td>\n",
       "      <td>13.0</td>\n",
       "      <td>0.0</td>\n",
       "      <td>0.5</td>\n",
       "      <td>2.76</td>\n",
       "      <td>0.0</td>\n",
       "      <td>0.3</td>\n",
       "      <td>16.56</td>\n",
       "    </tr>\n",
       "    <tr>\n",
       "      <th>1</th>\n",
       "      <td>35634249</td>\n",
       "      <td>1</td>\n",
       "      <td>04/11/2017 2:53:28 PM</td>\n",
       "      <td>04/11/2017 3:19:58 PM</td>\n",
       "      <td>1</td>\n",
       "      <td>1.80</td>\n",
       "      <td>1</td>\n",
       "      <td>N</td>\n",
       "      <td>186</td>\n",
       "      <td>43</td>\n",
       "      <td>1</td>\n",
       "      <td>16.0</td>\n",
       "      <td>0.0</td>\n",
       "      <td>0.5</td>\n",
       "      <td>4.00</td>\n",
       "      <td>0.0</td>\n",
       "      <td>0.3</td>\n",
       "      <td>20.80</td>\n",
       "    </tr>\n",
       "    <tr>\n",
       "      <th>2</th>\n",
       "      <td>106203690</td>\n",
       "      <td>1</td>\n",
       "      <td>12/15/2017 7:26:56 AM</td>\n",
       "      <td>12/15/2017 7:34:08 AM</td>\n",
       "      <td>1</td>\n",
       "      <td>1.00</td>\n",
       "      <td>1</td>\n",
       "      <td>N</td>\n",
       "      <td>262</td>\n",
       "      <td>236</td>\n",
       "      <td>1</td>\n",
       "      <td>6.5</td>\n",
       "      <td>0.0</td>\n",
       "      <td>0.5</td>\n",
       "      <td>1.45</td>\n",
       "      <td>0.0</td>\n",
       "      <td>0.3</td>\n",
       "      <td>8.75</td>\n",
       "    </tr>\n",
       "    <tr>\n",
       "      <th>3</th>\n",
       "      <td>38942136</td>\n",
       "      <td>2</td>\n",
       "      <td>05/07/2017 1:17:59 PM</td>\n",
       "      <td>05/07/2017 1:48:14 PM</td>\n",
       "      <td>1</td>\n",
       "      <td>3.70</td>\n",
       "      <td>1</td>\n",
       "      <td>N</td>\n",
       "      <td>188</td>\n",
       "      <td>97</td>\n",
       "      <td>1</td>\n",
       "      <td>20.5</td>\n",
       "      <td>0.0</td>\n",
       "      <td>0.5</td>\n",
       "      <td>6.39</td>\n",
       "      <td>0.0</td>\n",
       "      <td>0.3</td>\n",
       "      <td>27.69</td>\n",
       "    </tr>\n",
       "    <tr>\n",
       "      <th>4</th>\n",
       "      <td>30841670</td>\n",
       "      <td>2</td>\n",
       "      <td>04/15/2017 11:32:20 PM</td>\n",
       "      <td>04/15/2017 11:49:03 PM</td>\n",
       "      <td>1</td>\n",
       "      <td>4.37</td>\n",
       "      <td>1</td>\n",
       "      <td>N</td>\n",
       "      <td>4</td>\n",
       "      <td>112</td>\n",
       "      <td>2</td>\n",
       "      <td>16.5</td>\n",
       "      <td>0.5</td>\n",
       "      <td>0.5</td>\n",
       "      <td>0.00</td>\n",
       "      <td>0.0</td>\n",
       "      <td>0.3</td>\n",
       "      <td>17.80</td>\n",
       "    </tr>\n",
       "    <tr>\n",
       "      <th>5</th>\n",
       "      <td>23345809</td>\n",
       "      <td>2</td>\n",
       "      <td>03/25/2017 8:34:11 PM</td>\n",
       "      <td>03/25/2017 8:42:11 PM</td>\n",
       "      <td>6</td>\n",
       "      <td>2.30</td>\n",
       "      <td>1</td>\n",
       "      <td>N</td>\n",
       "      <td>161</td>\n",
       "      <td>236</td>\n",
       "      <td>1</td>\n",
       "      <td>9.0</td>\n",
       "      <td>0.5</td>\n",
       "      <td>0.5</td>\n",
       "      <td>2.06</td>\n",
       "      <td>0.0</td>\n",
       "      <td>0.3</td>\n",
       "      <td>12.36</td>\n",
       "    </tr>\n",
       "    <tr>\n",
       "      <th>6</th>\n",
       "      <td>37660487</td>\n",
       "      <td>2</td>\n",
       "      <td>05/03/2017 7:04:09 PM</td>\n",
       "      <td>05/03/2017 8:03:47 PM</td>\n",
       "      <td>1</td>\n",
       "      <td>12.83</td>\n",
       "      <td>1</td>\n",
       "      <td>N</td>\n",
       "      <td>79</td>\n",
       "      <td>241</td>\n",
       "      <td>1</td>\n",
       "      <td>47.5</td>\n",
       "      <td>1.0</td>\n",
       "      <td>0.5</td>\n",
       "      <td>9.86</td>\n",
       "      <td>0.0</td>\n",
       "      <td>0.3</td>\n",
       "      <td>59.16</td>\n",
       "    </tr>\n",
       "    <tr>\n",
       "      <th>7</th>\n",
       "      <td>69059411</td>\n",
       "      <td>2</td>\n",
       "      <td>08/15/2017 5:41:06 PM</td>\n",
       "      <td>08/15/2017 6:03:05 PM</td>\n",
       "      <td>1</td>\n",
       "      <td>2.98</td>\n",
       "      <td>1</td>\n",
       "      <td>N</td>\n",
       "      <td>237</td>\n",
       "      <td>114</td>\n",
       "      <td>1</td>\n",
       "      <td>16.0</td>\n",
       "      <td>1.0</td>\n",
       "      <td>0.5</td>\n",
       "      <td>1.78</td>\n",
       "      <td>0.0</td>\n",
       "      <td>0.3</td>\n",
       "      <td>19.58</td>\n",
       "    </tr>\n",
       "    <tr>\n",
       "      <th>8</th>\n",
       "      <td>8433159</td>\n",
       "      <td>2</td>\n",
       "      <td>02/04/2017 4:17:07 PM</td>\n",
       "      <td>02/04/2017 4:29:14 PM</td>\n",
       "      <td>1</td>\n",
       "      <td>1.20</td>\n",
       "      <td>1</td>\n",
       "      <td>N</td>\n",
       "      <td>234</td>\n",
       "      <td>249</td>\n",
       "      <td>2</td>\n",
       "      <td>9.0</td>\n",
       "      <td>0.0</td>\n",
       "      <td>0.5</td>\n",
       "      <td>0.00</td>\n",
       "      <td>0.0</td>\n",
       "      <td>0.3</td>\n",
       "      <td>9.80</td>\n",
       "    </tr>\n",
       "    <tr>\n",
       "      <th>9</th>\n",
       "      <td>95294817</td>\n",
       "      <td>1</td>\n",
       "      <td>11/10/2017 3:20:29 PM</td>\n",
       "      <td>11/10/2017 3:40:55 PM</td>\n",
       "      <td>1</td>\n",
       "      <td>1.60</td>\n",
       "      <td>1</td>\n",
       "      <td>N</td>\n",
       "      <td>239</td>\n",
       "      <td>237</td>\n",
       "      <td>1</td>\n",
       "      <td>13.0</td>\n",
       "      <td>0.0</td>\n",
       "      <td>0.5</td>\n",
       "      <td>2.75</td>\n",
       "      <td>0.0</td>\n",
       "      <td>0.3</td>\n",
       "      <td>16.55</td>\n",
       "    </tr>\n",
       "  </tbody>\n",
       "</table>\n",
       "</div>"
      ],
      "text/plain": [
       "   Unnamed: 0  VendorID    tpep_pickup_datetime   tpep_dropoff_datetime  \\\n",
       "0    24870114         2   03/25/2017 8:55:43 AM   03/25/2017 9:09:47 AM   \n",
       "1    35634249         1   04/11/2017 2:53:28 PM   04/11/2017 3:19:58 PM   \n",
       "2   106203690         1   12/15/2017 7:26:56 AM   12/15/2017 7:34:08 AM   \n",
       "3    38942136         2   05/07/2017 1:17:59 PM   05/07/2017 1:48:14 PM   \n",
       "4    30841670         2  04/15/2017 11:32:20 PM  04/15/2017 11:49:03 PM   \n",
       "5    23345809         2   03/25/2017 8:34:11 PM   03/25/2017 8:42:11 PM   \n",
       "6    37660487         2   05/03/2017 7:04:09 PM   05/03/2017 8:03:47 PM   \n",
       "7    69059411         2   08/15/2017 5:41:06 PM   08/15/2017 6:03:05 PM   \n",
       "8     8433159         2   02/04/2017 4:17:07 PM   02/04/2017 4:29:14 PM   \n",
       "9    95294817         1   11/10/2017 3:20:29 PM   11/10/2017 3:40:55 PM   \n",
       "\n",
       "   passenger_count  trip_distance  RatecodeID store_and_fwd_flag  \\\n",
       "0                6           3.34           1                  N   \n",
       "1                1           1.80           1                  N   \n",
       "2                1           1.00           1                  N   \n",
       "3                1           3.70           1                  N   \n",
       "4                1           4.37           1                  N   \n",
       "5                6           2.30           1                  N   \n",
       "6                1          12.83           1                  N   \n",
       "7                1           2.98           1                  N   \n",
       "8                1           1.20           1                  N   \n",
       "9                1           1.60           1                  N   \n",
       "\n",
       "   PULocationID  DOLocationID  payment_type  fare_amount  extra  mta_tax  \\\n",
       "0           100           231             1         13.0    0.0      0.5   \n",
       "1           186            43             1         16.0    0.0      0.5   \n",
       "2           262           236             1          6.5    0.0      0.5   \n",
       "3           188            97             1         20.5    0.0      0.5   \n",
       "4             4           112             2         16.5    0.5      0.5   \n",
       "5           161           236             1          9.0    0.5      0.5   \n",
       "6            79           241             1         47.5    1.0      0.5   \n",
       "7           237           114             1         16.0    1.0      0.5   \n",
       "8           234           249             2          9.0    0.0      0.5   \n",
       "9           239           237             1         13.0    0.0      0.5   \n",
       "\n",
       "   tip_amount  tolls_amount  improvement_surcharge  total_amount  \n",
       "0        2.76           0.0                    0.3         16.56  \n",
       "1        4.00           0.0                    0.3         20.80  \n",
       "2        1.45           0.0                    0.3          8.75  \n",
       "3        6.39           0.0                    0.3         27.69  \n",
       "4        0.00           0.0                    0.3         17.80  \n",
       "5        2.06           0.0                    0.3         12.36  \n",
       "6        9.86           0.0                    0.3         59.16  \n",
       "7        1.78           0.0                    0.3         19.58  \n",
       "8        0.00           0.0                    0.3          9.80  \n",
       "9        2.75           0.0                    0.3         16.55  "
      ]
     },
     "execution_count": 4,
     "metadata": {},
     "output_type": "execute_result"
    }
   ],
   "source": [
    "df0.head(10)"
   ]
  },
  {
   "cell_type": "markdown",
   "id": "18e36574",
   "metadata": {},
   "source": [
    "### Información básica de los datos"
   ]
  },
  {
   "cell_type": "code",
   "execution_count": 5,
   "id": "2d93c636",
   "metadata": {},
   "outputs": [
    {
     "name": "stdout",
     "output_type": "stream",
     "text": [
      "<class 'pandas.core.frame.DataFrame'>\n",
      "RangeIndex: 22699 entries, 0 to 22698\n",
      "Data columns (total 18 columns):\n",
      " #   Column                 Non-Null Count  Dtype  \n",
      "---  ------                 --------------  -----  \n",
      " 0   Unnamed: 0             22699 non-null  int64  \n",
      " 1   VendorID               22699 non-null  int64  \n",
      " 2   tpep_pickup_datetime   22699 non-null  object \n",
      " 3   tpep_dropoff_datetime  22699 non-null  object \n",
      " 4   passenger_count        22699 non-null  int64  \n",
      " 5   trip_distance          22699 non-null  float64\n",
      " 6   RatecodeID             22699 non-null  int64  \n",
      " 7   store_and_fwd_flag     22699 non-null  object \n",
      " 8   PULocationID           22699 non-null  int64  \n",
      " 9   DOLocationID           22699 non-null  int64  \n",
      " 10  payment_type           22699 non-null  int64  \n",
      " 11  fare_amount            22699 non-null  float64\n",
      " 12  extra                  22699 non-null  float64\n",
      " 13  mta_tax                22699 non-null  float64\n",
      " 14  tip_amount             22699 non-null  float64\n",
      " 15  tolls_amount           22699 non-null  float64\n",
      " 16  improvement_surcharge  22699 non-null  float64\n",
      " 17  total_amount           22699 non-null  float64\n",
      "dtypes: float64(8), int64(7), object(3)\n",
      "memory usage: 3.1+ MB\n"
     ]
    }
   ],
   "source": [
    "df0.info()"
   ]
  },
  {
   "cell_type": "markdown",
   "id": "0aa1792d",
   "metadata": {},
   "source": [
    "Podemos ver que los valores en las columnas `tpep_pickup_datetime` y `tpep_dropoff_datetime` son objects. Más adelante tendremos que convertir el tipo de los datos para poder operar con ellos si queremos crear columnas nuevas en base a esas dos columnas."
   ]
  },
  {
   "cell_type": "code",
   "execution_count": 6,
   "id": "d44368b6",
   "metadata": {},
   "outputs": [
    {
     "data": {
      "text/html": [
       "<div>\n",
       "<style scoped>\n",
       "    .dataframe tbody tr th:only-of-type {\n",
       "        vertical-align: middle;\n",
       "    }\n",
       "\n",
       "    .dataframe tbody tr th {\n",
       "        vertical-align: top;\n",
       "    }\n",
       "\n",
       "    .dataframe thead th {\n",
       "        text-align: right;\n",
       "    }\n",
       "</style>\n",
       "<table border=\"1\" class=\"dataframe\">\n",
       "  <thead>\n",
       "    <tr style=\"text-align: right;\">\n",
       "      <th></th>\n",
       "      <th>Unnamed: 0</th>\n",
       "      <th>VendorID</th>\n",
       "      <th>passenger_count</th>\n",
       "      <th>trip_distance</th>\n",
       "      <th>RatecodeID</th>\n",
       "      <th>PULocationID</th>\n",
       "      <th>DOLocationID</th>\n",
       "      <th>payment_type</th>\n",
       "      <th>fare_amount</th>\n",
       "      <th>extra</th>\n",
       "      <th>mta_tax</th>\n",
       "      <th>tip_amount</th>\n",
       "      <th>tolls_amount</th>\n",
       "      <th>improvement_surcharge</th>\n",
       "      <th>total_amount</th>\n",
       "    </tr>\n",
       "  </thead>\n",
       "  <tbody>\n",
       "    <tr>\n",
       "      <th>count</th>\n",
       "      <td>2.269900e+04</td>\n",
       "      <td>22699.000000</td>\n",
       "      <td>22699.000000</td>\n",
       "      <td>22699.000000</td>\n",
       "      <td>22699.000000</td>\n",
       "      <td>22699.000000</td>\n",
       "      <td>22699.000000</td>\n",
       "      <td>22699.000000</td>\n",
       "      <td>22699.000000</td>\n",
       "      <td>22699.000000</td>\n",
       "      <td>22699.000000</td>\n",
       "      <td>22699.000000</td>\n",
       "      <td>22699.000000</td>\n",
       "      <td>22699.000000</td>\n",
       "      <td>22699.000000</td>\n",
       "    </tr>\n",
       "    <tr>\n",
       "      <th>mean</th>\n",
       "      <td>5.675849e+07</td>\n",
       "      <td>1.556236</td>\n",
       "      <td>1.642319</td>\n",
       "      <td>2.913313</td>\n",
       "      <td>1.043394</td>\n",
       "      <td>162.412353</td>\n",
       "      <td>161.527997</td>\n",
       "      <td>1.336887</td>\n",
       "      <td>13.026629</td>\n",
       "      <td>0.333275</td>\n",
       "      <td>0.497445</td>\n",
       "      <td>1.835781</td>\n",
       "      <td>0.312542</td>\n",
       "      <td>0.299551</td>\n",
       "      <td>16.310502</td>\n",
       "    </tr>\n",
       "    <tr>\n",
       "      <th>std</th>\n",
       "      <td>3.274493e+07</td>\n",
       "      <td>0.496838</td>\n",
       "      <td>1.285231</td>\n",
       "      <td>3.653171</td>\n",
       "      <td>0.708391</td>\n",
       "      <td>66.633373</td>\n",
       "      <td>70.139691</td>\n",
       "      <td>0.496211</td>\n",
       "      <td>13.243791</td>\n",
       "      <td>0.463097</td>\n",
       "      <td>0.039465</td>\n",
       "      <td>2.800626</td>\n",
       "      <td>1.399212</td>\n",
       "      <td>0.015673</td>\n",
       "      <td>16.097295</td>\n",
       "    </tr>\n",
       "    <tr>\n",
       "      <th>min</th>\n",
       "      <td>1.212700e+04</td>\n",
       "      <td>1.000000</td>\n",
       "      <td>0.000000</td>\n",
       "      <td>0.000000</td>\n",
       "      <td>1.000000</td>\n",
       "      <td>1.000000</td>\n",
       "      <td>1.000000</td>\n",
       "      <td>1.000000</td>\n",
       "      <td>-120.000000</td>\n",
       "      <td>-1.000000</td>\n",
       "      <td>-0.500000</td>\n",
       "      <td>0.000000</td>\n",
       "      <td>0.000000</td>\n",
       "      <td>-0.300000</td>\n",
       "      <td>-120.300000</td>\n",
       "    </tr>\n",
       "    <tr>\n",
       "      <th>25%</th>\n",
       "      <td>2.852056e+07</td>\n",
       "      <td>1.000000</td>\n",
       "      <td>1.000000</td>\n",
       "      <td>0.990000</td>\n",
       "      <td>1.000000</td>\n",
       "      <td>114.000000</td>\n",
       "      <td>112.000000</td>\n",
       "      <td>1.000000</td>\n",
       "      <td>6.500000</td>\n",
       "      <td>0.000000</td>\n",
       "      <td>0.500000</td>\n",
       "      <td>0.000000</td>\n",
       "      <td>0.000000</td>\n",
       "      <td>0.300000</td>\n",
       "      <td>8.750000</td>\n",
       "    </tr>\n",
       "    <tr>\n",
       "      <th>50%</th>\n",
       "      <td>5.673150e+07</td>\n",
       "      <td>2.000000</td>\n",
       "      <td>1.000000</td>\n",
       "      <td>1.610000</td>\n",
       "      <td>1.000000</td>\n",
       "      <td>162.000000</td>\n",
       "      <td>162.000000</td>\n",
       "      <td>1.000000</td>\n",
       "      <td>9.500000</td>\n",
       "      <td>0.000000</td>\n",
       "      <td>0.500000</td>\n",
       "      <td>1.350000</td>\n",
       "      <td>0.000000</td>\n",
       "      <td>0.300000</td>\n",
       "      <td>11.800000</td>\n",
       "    </tr>\n",
       "    <tr>\n",
       "      <th>75%</th>\n",
       "      <td>8.537452e+07</td>\n",
       "      <td>2.000000</td>\n",
       "      <td>2.000000</td>\n",
       "      <td>3.060000</td>\n",
       "      <td>1.000000</td>\n",
       "      <td>233.000000</td>\n",
       "      <td>233.000000</td>\n",
       "      <td>2.000000</td>\n",
       "      <td>14.500000</td>\n",
       "      <td>0.500000</td>\n",
       "      <td>0.500000</td>\n",
       "      <td>2.450000</td>\n",
       "      <td>0.000000</td>\n",
       "      <td>0.300000</td>\n",
       "      <td>17.800000</td>\n",
       "    </tr>\n",
       "    <tr>\n",
       "      <th>max</th>\n",
       "      <td>1.134863e+08</td>\n",
       "      <td>2.000000</td>\n",
       "      <td>6.000000</td>\n",
       "      <td>33.960000</td>\n",
       "      <td>99.000000</td>\n",
       "      <td>265.000000</td>\n",
       "      <td>265.000000</td>\n",
       "      <td>4.000000</td>\n",
       "      <td>999.990000</td>\n",
       "      <td>4.500000</td>\n",
       "      <td>0.500000</td>\n",
       "      <td>200.000000</td>\n",
       "      <td>19.100000</td>\n",
       "      <td>0.300000</td>\n",
       "      <td>1200.290000</td>\n",
       "    </tr>\n",
       "  </tbody>\n",
       "</table>\n",
       "</div>"
      ],
      "text/plain": [
       "         Unnamed: 0      VendorID  passenger_count  trip_distance  \\\n",
       "count  2.269900e+04  22699.000000     22699.000000   22699.000000   \n",
       "mean   5.675849e+07      1.556236         1.642319       2.913313   \n",
       "std    3.274493e+07      0.496838         1.285231       3.653171   \n",
       "min    1.212700e+04      1.000000         0.000000       0.000000   \n",
       "25%    2.852056e+07      1.000000         1.000000       0.990000   \n",
       "50%    5.673150e+07      2.000000         1.000000       1.610000   \n",
       "75%    8.537452e+07      2.000000         2.000000       3.060000   \n",
       "max    1.134863e+08      2.000000         6.000000      33.960000   \n",
       "\n",
       "         RatecodeID  PULocationID  DOLocationID  payment_type   fare_amount  \\\n",
       "count  22699.000000  22699.000000  22699.000000  22699.000000  22699.000000   \n",
       "mean       1.043394    162.412353    161.527997      1.336887     13.026629   \n",
       "std        0.708391     66.633373     70.139691      0.496211     13.243791   \n",
       "min        1.000000      1.000000      1.000000      1.000000   -120.000000   \n",
       "25%        1.000000    114.000000    112.000000      1.000000      6.500000   \n",
       "50%        1.000000    162.000000    162.000000      1.000000      9.500000   \n",
       "75%        1.000000    233.000000    233.000000      2.000000     14.500000   \n",
       "max       99.000000    265.000000    265.000000      4.000000    999.990000   \n",
       "\n",
       "              extra       mta_tax    tip_amount  tolls_amount  \\\n",
       "count  22699.000000  22699.000000  22699.000000  22699.000000   \n",
       "mean       0.333275      0.497445      1.835781      0.312542   \n",
       "std        0.463097      0.039465      2.800626      1.399212   \n",
       "min       -1.000000     -0.500000      0.000000      0.000000   \n",
       "25%        0.000000      0.500000      0.000000      0.000000   \n",
       "50%        0.000000      0.500000      1.350000      0.000000   \n",
       "75%        0.500000      0.500000      2.450000      0.000000   \n",
       "max        4.500000      0.500000    200.000000     19.100000   \n",
       "\n",
       "       improvement_surcharge  total_amount  \n",
       "count           22699.000000  22699.000000  \n",
       "mean                0.299551     16.310502  \n",
       "std                 0.015673     16.097295  \n",
       "min                -0.300000   -120.300000  \n",
       "25%                 0.300000      8.750000  \n",
       "50%                 0.300000     11.800000  \n",
       "75%                 0.300000     17.800000  \n",
       "max                 0.300000   1200.290000  "
      ]
     },
     "execution_count": 6,
     "metadata": {},
     "output_type": "execute_result"
    }
   ],
   "source": [
    "df0.describe()"
   ]
  },
  {
   "cell_type": "markdown",
   "id": "e6660159",
   "metadata": {},
   "source": [
    "### Comprobando si faltan valores y si hay filas duplicadas"
   ]
  },
  {
   "cell_type": "code",
   "execution_count": 7,
   "id": "d3cf12b4",
   "metadata": {},
   "outputs": [
    {
     "data": {
      "text/plain": [
       "Unnamed: 0               0\n",
       "VendorID                 0\n",
       "tpep_pickup_datetime     0\n",
       "tpep_dropoff_datetime    0\n",
       "passenger_count          0\n",
       "trip_distance            0\n",
       "RatecodeID               0\n",
       "store_and_fwd_flag       0\n",
       "PULocationID             0\n",
       "DOLocationID             0\n",
       "payment_type             0\n",
       "fare_amount              0\n",
       "extra                    0\n",
       "mta_tax                  0\n",
       "tip_amount               0\n",
       "tolls_amount             0\n",
       "improvement_surcharge    0\n",
       "total_amount             0\n",
       "dtype: int64"
      ]
     },
     "execution_count": 7,
     "metadata": {},
     "output_type": "execute_result"
    }
   ],
   "source": [
    "#Comprobando valores omitidos\n",
    "df0.isnull().sum()"
   ]
  },
  {
   "cell_type": "code",
   "execution_count": 8,
   "id": "6c996a1a",
   "metadata": {},
   "outputs": [
    {
     "data": {
      "text/plain": [
       "0"
      ]
     },
     "execution_count": 8,
     "metadata": {},
     "output_type": "execute_result"
    }
   ],
   "source": [
    "#Comprobando valores duplicados\n",
    "df0.duplicated().sum()"
   ]
  },
  {
   "cell_type": "markdown",
   "id": "d21eee81",
   "metadata": {},
   "source": [
    "Hemos comprobado que no hay ni valores omitidos ni filas duplicadas. Esto nos facilita claramente la preparación de los datos y el análisis"
   ]
  },
  {
   "cell_type": "markdown",
   "id": "e38c2054",
   "metadata": {},
   "source": [
    "### Convertir las columnas `tpep_pickup_datetime` y `tpep_dropoff_datetime` a tipo datetime"
   ]
  },
  {
   "cell_type": "markdown",
   "id": "c796708a",
   "metadata": {},
   "source": [
    "Como he dicho anteriormente hay que cambiar las columnas `tpep_pickup_datetime` y `tpep_dropoff_datetime` a formato datetime. Esto lo hago principalmente porque voy a querer operar con ellas para crear una columna que me de la duración total del viaje. Si dejase las columnas como objetos no podría realizar esta operación."
   ]
  },
  {
   "cell_type": "code",
   "execution_count": 9,
   "id": "eb560249",
   "metadata": {},
   "outputs": [
    {
     "data": {
      "text/plain": [
       "'03/25/2017 8:55:43 AM'"
      ]
     },
     "execution_count": 9,
     "metadata": {},
     "output_type": "execute_result"
    }
   ],
   "source": [
    "#Comprobando el formato\n",
    "df0['tpep_pickup_datetime'][0]"
   ]
  },
  {
   "cell_type": "code",
   "execution_count": 10,
   "id": "47d51724",
   "metadata": {},
   "outputs": [],
   "source": [
    "#Convertir a formato datetime\n",
    "df0['tpep_pickup_datetime'] = pd.to_datetime(df0['tpep_pickup_datetime'], format = '%m/%d/%Y %I:%M:%S %p')\n",
    "df0['tpep_dropoff_datetime'] = pd.to_datetime(df0['tpep_dropoff_datetime'], format = '%m/%d/%Y %I:%M:%S %p')"
   ]
  },
  {
   "cell_type": "code",
   "execution_count": 11,
   "id": "2deaedc5",
   "metadata": {},
   "outputs": [
    {
     "name": "stdout",
     "output_type": "stream",
     "text": [
      "Data type of tpep_pickup_datetime: datetime64[ns]\n",
      "Data type of tpep_dropoff_datetime: datetime64[ns]\n"
     ]
    }
   ],
   "source": [
    "#Comprobando el formato otra vez \n",
    "print('Data type of tpep_pickup_datetime:', df0['tpep_pickup_datetime'].dtype)\n",
    "print('Data type of tpep_dropoff_datetime:', df0['tpep_dropoff_datetime'].dtype)"
   ]
  },
  {
   "cell_type": "markdown",
   "id": "240aa54f",
   "metadata": {},
   "source": [
    "### Crear una columna de duración"
   ]
  },
  {
   "cell_type": "code",
   "execution_count": 12,
   "id": "86ab02e8",
   "metadata": {},
   "outputs": [],
   "source": [
    "#Creamos la nueva columna. Las unidades de la columna serán minutos.\n",
    "df0['duration'] = (df0['tpep_dropoff_datetime'] - df0['tpep_pickup_datetime'])/np.timedelta64(1,'m')"
   ]
  },
  {
   "cell_type": "code",
   "execution_count": 13,
   "id": "695d7995",
   "metadata": {},
   "outputs": [
    {
     "data": {
      "text/html": [
       "<div>\n",
       "<style scoped>\n",
       "    .dataframe tbody tr th:only-of-type {\n",
       "        vertical-align: middle;\n",
       "    }\n",
       "\n",
       "    .dataframe tbody tr th {\n",
       "        vertical-align: top;\n",
       "    }\n",
       "\n",
       "    .dataframe thead th {\n",
       "        text-align: right;\n",
       "    }\n",
       "</style>\n",
       "<table border=\"1\" class=\"dataframe\">\n",
       "  <thead>\n",
       "    <tr style=\"text-align: right;\">\n",
       "      <th></th>\n",
       "      <th>Unnamed: 0</th>\n",
       "      <th>VendorID</th>\n",
       "      <th>tpep_pickup_datetime</th>\n",
       "      <th>tpep_dropoff_datetime</th>\n",
       "      <th>passenger_count</th>\n",
       "      <th>trip_distance</th>\n",
       "      <th>RatecodeID</th>\n",
       "      <th>store_and_fwd_flag</th>\n",
       "      <th>PULocationID</th>\n",
       "      <th>DOLocationID</th>\n",
       "      <th>payment_type</th>\n",
       "      <th>fare_amount</th>\n",
       "      <th>extra</th>\n",
       "      <th>mta_tax</th>\n",
       "      <th>tip_amount</th>\n",
       "      <th>tolls_amount</th>\n",
       "      <th>improvement_surcharge</th>\n",
       "      <th>total_amount</th>\n",
       "      <th>duration</th>\n",
       "    </tr>\n",
       "  </thead>\n",
       "  <tbody>\n",
       "    <tr>\n",
       "      <th>0</th>\n",
       "      <td>24870114</td>\n",
       "      <td>2</td>\n",
       "      <td>2017-03-25 08:55:43</td>\n",
       "      <td>2017-03-25 09:09:47</td>\n",
       "      <td>6</td>\n",
       "      <td>3.34</td>\n",
       "      <td>1</td>\n",
       "      <td>N</td>\n",
       "      <td>100</td>\n",
       "      <td>231</td>\n",
       "      <td>1</td>\n",
       "      <td>13.0</td>\n",
       "      <td>0.0</td>\n",
       "      <td>0.5</td>\n",
       "      <td>2.76</td>\n",
       "      <td>0.0</td>\n",
       "      <td>0.3</td>\n",
       "      <td>16.56</td>\n",
       "      <td>14.066667</td>\n",
       "    </tr>\n",
       "    <tr>\n",
       "      <th>1</th>\n",
       "      <td>35634249</td>\n",
       "      <td>1</td>\n",
       "      <td>2017-04-11 14:53:28</td>\n",
       "      <td>2017-04-11 15:19:58</td>\n",
       "      <td>1</td>\n",
       "      <td>1.80</td>\n",
       "      <td>1</td>\n",
       "      <td>N</td>\n",
       "      <td>186</td>\n",
       "      <td>43</td>\n",
       "      <td>1</td>\n",
       "      <td>16.0</td>\n",
       "      <td>0.0</td>\n",
       "      <td>0.5</td>\n",
       "      <td>4.00</td>\n",
       "      <td>0.0</td>\n",
       "      <td>0.3</td>\n",
       "      <td>20.80</td>\n",
       "      <td>26.500000</td>\n",
       "    </tr>\n",
       "    <tr>\n",
       "      <th>2</th>\n",
       "      <td>106203690</td>\n",
       "      <td>1</td>\n",
       "      <td>2017-12-15 07:26:56</td>\n",
       "      <td>2017-12-15 07:34:08</td>\n",
       "      <td>1</td>\n",
       "      <td>1.00</td>\n",
       "      <td>1</td>\n",
       "      <td>N</td>\n",
       "      <td>262</td>\n",
       "      <td>236</td>\n",
       "      <td>1</td>\n",
       "      <td>6.5</td>\n",
       "      <td>0.0</td>\n",
       "      <td>0.5</td>\n",
       "      <td>1.45</td>\n",
       "      <td>0.0</td>\n",
       "      <td>0.3</td>\n",
       "      <td>8.75</td>\n",
       "      <td>7.200000</td>\n",
       "    </tr>\n",
       "    <tr>\n",
       "      <th>3</th>\n",
       "      <td>38942136</td>\n",
       "      <td>2</td>\n",
       "      <td>2017-05-07 13:17:59</td>\n",
       "      <td>2017-05-07 13:48:14</td>\n",
       "      <td>1</td>\n",
       "      <td>3.70</td>\n",
       "      <td>1</td>\n",
       "      <td>N</td>\n",
       "      <td>188</td>\n",
       "      <td>97</td>\n",
       "      <td>1</td>\n",
       "      <td>20.5</td>\n",
       "      <td>0.0</td>\n",
       "      <td>0.5</td>\n",
       "      <td>6.39</td>\n",
       "      <td>0.0</td>\n",
       "      <td>0.3</td>\n",
       "      <td>27.69</td>\n",
       "      <td>30.250000</td>\n",
       "    </tr>\n",
       "    <tr>\n",
       "      <th>4</th>\n",
       "      <td>30841670</td>\n",
       "      <td>2</td>\n",
       "      <td>2017-04-15 23:32:20</td>\n",
       "      <td>2017-04-15 23:49:03</td>\n",
       "      <td>1</td>\n",
       "      <td>4.37</td>\n",
       "      <td>1</td>\n",
       "      <td>N</td>\n",
       "      <td>4</td>\n",
       "      <td>112</td>\n",
       "      <td>2</td>\n",
       "      <td>16.5</td>\n",
       "      <td>0.5</td>\n",
       "      <td>0.5</td>\n",
       "      <td>0.00</td>\n",
       "      <td>0.0</td>\n",
       "      <td>0.3</td>\n",
       "      <td>17.80</td>\n",
       "      <td>16.716667</td>\n",
       "    </tr>\n",
       "  </tbody>\n",
       "</table>\n",
       "</div>"
      ],
      "text/plain": [
       "   Unnamed: 0  VendorID tpep_pickup_datetime tpep_dropoff_datetime  \\\n",
       "0    24870114         2  2017-03-25 08:55:43   2017-03-25 09:09:47   \n",
       "1    35634249         1  2017-04-11 14:53:28   2017-04-11 15:19:58   \n",
       "2   106203690         1  2017-12-15 07:26:56   2017-12-15 07:34:08   \n",
       "3    38942136         2  2017-05-07 13:17:59   2017-05-07 13:48:14   \n",
       "4    30841670         2  2017-04-15 23:32:20   2017-04-15 23:49:03   \n",
       "\n",
       "   passenger_count  trip_distance  RatecodeID store_and_fwd_flag  \\\n",
       "0                6           3.34           1                  N   \n",
       "1                1           1.80           1                  N   \n",
       "2                1           1.00           1                  N   \n",
       "3                1           3.70           1                  N   \n",
       "4                1           4.37           1                  N   \n",
       "\n",
       "   PULocationID  DOLocationID  payment_type  fare_amount  extra  mta_tax  \\\n",
       "0           100           231             1         13.0    0.0      0.5   \n",
       "1           186            43             1         16.0    0.0      0.5   \n",
       "2           262           236             1          6.5    0.0      0.5   \n",
       "3           188            97             1         20.5    0.0      0.5   \n",
       "4             4           112             2         16.5    0.5      0.5   \n",
       "\n",
       "   tip_amount  tolls_amount  improvement_surcharge  total_amount   duration  \n",
       "0        2.76           0.0                    0.3         16.56  14.066667  \n",
       "1        4.00           0.0                    0.3         20.80  26.500000  \n",
       "2        1.45           0.0                    0.3          8.75   7.200000  \n",
       "3        6.39           0.0                    0.3         27.69  30.250000  \n",
       "4        0.00           0.0                    0.3         17.80  16.716667  "
      ]
     },
     "execution_count": 13,
     "metadata": {},
     "output_type": "execute_result"
    }
   ],
   "source": [
    "df0.head()"
   ]
  },
  {
   "cell_type": "markdown",
   "id": "02ef5f15",
   "metadata": {},
   "source": [
    "### Valores atípicos"
   ]
  },
  {
   "cell_type": "markdown",
   "id": "5f49000f",
   "metadata": {},
   "source": [
    "Teniendo en cuenta que muchas de las características no se utilizarán para ajustar el modelo, es probable que las columnas más importantes para comprobar los valores atípicos sean:\n",
    "* `trip_distance`\n",
    "* `fare_amount`\n",
    "* `duration`\n"
   ]
  },
  {
   "cell_type": "code",
   "execution_count": 14,
   "id": "5eed6d25",
   "metadata": {},
   "outputs": [
    {
     "data": {
      "image/png": "[encoded data removed]",
      "text/plain": [
       "<Figure size 1080x144 with 3 Axes>"
      ]
     },
     "metadata": {
      "needs_background": "light"
     },
     "output_type": "display_data"
    }
   ],
   "source": [
    "fig, axes = plt.subplots(1,3,figsize = (15,2))\n",
    "plt.suptitle('Boxplots for outliers detection')\n",
    "sns.boxplot(ax = axes[0], x = df0['trip_distance'])\n",
    "sns.boxplot(ax = axes[1], x = df0['fare_amount'])\n",
    "sns.boxplot(ax = axes[2], x = df0['duration']);"
   ]
  },
  {
   "cell_type": "markdown",
   "id": "8b97b9ab",
   "metadata": {},
   "source": [
    "Podemos observar que las tres columnas contienen valores atípicos. Algunas son casos extremos mientras que otros no. En el caso de la distancia del viaje se puede llegar a aceptar que haya algún valor atípico excesivamente alto pues siempre puede haber un cliente que necesite realizar un viaje especialmente largo. En el caso de la columna `fare_amount` si que aparecen valores problemáticos. Hay tres valores que son claramente problemáticos, desde un valor negativo lo cual no se puede dar, hasta un valor que supera los 1000 dólares. Luego en cuanto a la columna `duration` los mayores valores podría entenderse como viajes muy largos pero claramente los viajes con tiempo menor de cero no tienen ningún sentido."
   ]
  },
  {
   "cell_type": "markdown",
   "id": "51860804",
   "metadata": {},
   "source": [
    "#### Valores atípicos `trip_distance`"
   ]
  },
  {
   "cell_type": "code",
   "execution_count": 15,
   "id": "e9df97af",
   "metadata": {},
   "outputs": [
    {
     "data": {
      "text/plain": [
       "count    22699.000000\n",
       "mean         2.913313\n",
       "std          3.653171\n",
       "min          0.000000\n",
       "25%          0.990000\n",
       "50%          1.610000\n",
       "75%          3.060000\n",
       "max         33.960000\n",
       "Name: trip_distance, dtype: float64"
      ]
     },
     "execution_count": 15,
     "metadata": {},
     "output_type": "execute_result"
    }
   ],
   "source": [
    "df0['trip_distance'].describe()"
   ]
  },
  {
   "cell_type": "code",
   "execution_count": 16,
   "id": "a862903b",
   "metadata": {},
   "outputs": [
    {
     "data": {
      "text/html": [
       "<div>\n",
       "<style scoped>\n",
       "    .dataframe tbody tr th:only-of-type {\n",
       "        vertical-align: middle;\n",
       "    }\n",
       "\n",
       "    .dataframe tbody tr th {\n",
       "        vertical-align: top;\n",
       "    }\n",
       "\n",
       "    .dataframe thead th {\n",
       "        text-align: right;\n",
       "    }\n",
       "</style>\n",
       "<table border=\"1\" class=\"dataframe\">\n",
       "  <thead>\n",
       "    <tr style=\"text-align: right;\">\n",
       "      <th></th>\n",
       "      <th>Unnamed: 0</th>\n",
       "      <th>VendorID</th>\n",
       "      <th>tpep_pickup_datetime</th>\n",
       "      <th>tpep_dropoff_datetime</th>\n",
       "      <th>passenger_count</th>\n",
       "      <th>trip_distance</th>\n",
       "      <th>RatecodeID</th>\n",
       "      <th>store_and_fwd_flag</th>\n",
       "      <th>PULocationID</th>\n",
       "      <th>DOLocationID</th>\n",
       "      <th>payment_type</th>\n",
       "      <th>fare_amount</th>\n",
       "      <th>extra</th>\n",
       "      <th>mta_tax</th>\n",
       "      <th>tip_amount</th>\n",
       "      <th>tolls_amount</th>\n",
       "      <th>improvement_surcharge</th>\n",
       "      <th>total_amount</th>\n",
       "      <th>duration</th>\n",
       "    </tr>\n",
       "  </thead>\n",
       "  <tbody>\n",
       "    <tr>\n",
       "      <th>29</th>\n",
       "      <td>94052446</td>\n",
       "      <td>2</td>\n",
       "      <td>2017-11-06 20:30:50</td>\n",
       "      <td>2017-11-07 00:00:00</td>\n",
       "      <td>1</td>\n",
       "      <td>30.83</td>\n",
       "      <td>1</td>\n",
       "      <td>N</td>\n",
       "      <td>132</td>\n",
       "      <td>23</td>\n",
       "      <td>1</td>\n",
       "      <td>80.00</td>\n",
       "      <td>0.5</td>\n",
       "      <td>0.5</td>\n",
       "      <td>18.56</td>\n",
       "      <td>11.52</td>\n",
       "      <td>0.3</td>\n",
       "      <td>111.38</td>\n",
       "      <td>209.166667</td>\n",
       "    </tr>\n",
       "    <tr>\n",
       "      <th>5792</th>\n",
       "      <td>68023798</td>\n",
       "      <td>2</td>\n",
       "      <td>2017-08-11 14:14:01</td>\n",
       "      <td>2017-08-11 15:17:31</td>\n",
       "      <td>1</td>\n",
       "      <td>30.33</td>\n",
       "      <td>2</td>\n",
       "      <td>N</td>\n",
       "      <td>132</td>\n",
       "      <td>158</td>\n",
       "      <td>1</td>\n",
       "      <td>52.00</td>\n",
       "      <td>0.0</td>\n",
       "      <td>0.5</td>\n",
       "      <td>14.64</td>\n",
       "      <td>5.76</td>\n",
       "      <td>0.3</td>\n",
       "      <td>73.20</td>\n",
       "      <td>63.500000</td>\n",
       "    </tr>\n",
       "    <tr>\n",
       "      <th>6064</th>\n",
       "      <td>49894023</td>\n",
       "      <td>2</td>\n",
       "      <td>2017-06-13 12:30:22</td>\n",
       "      <td>2017-06-13 13:37:51</td>\n",
       "      <td>1</td>\n",
       "      <td>32.72</td>\n",
       "      <td>3</td>\n",
       "      <td>N</td>\n",
       "      <td>138</td>\n",
       "      <td>1</td>\n",
       "      <td>1</td>\n",
       "      <td>107.00</td>\n",
       "      <td>0.0</td>\n",
       "      <td>0.0</td>\n",
       "      <td>55.50</td>\n",
       "      <td>16.26</td>\n",
       "      <td>0.3</td>\n",
       "      <td>179.06</td>\n",
       "      <td>67.483333</td>\n",
       "    </tr>\n",
       "    <tr>\n",
       "      <th>9280</th>\n",
       "      <td>51810714</td>\n",
       "      <td>2</td>\n",
       "      <td>2017-06-18 23:33:25</td>\n",
       "      <td>2017-06-19 00:12:38</td>\n",
       "      <td>2</td>\n",
       "      <td>33.96</td>\n",
       "      <td>5</td>\n",
       "      <td>N</td>\n",
       "      <td>132</td>\n",
       "      <td>265</td>\n",
       "      <td>2</td>\n",
       "      <td>150.00</td>\n",
       "      <td>0.0</td>\n",
       "      <td>0.0</td>\n",
       "      <td>0.00</td>\n",
       "      <td>0.00</td>\n",
       "      <td>0.3</td>\n",
       "      <td>150.30</td>\n",
       "      <td>39.216667</td>\n",
       "    </tr>\n",
       "    <tr>\n",
       "      <th>10291</th>\n",
       "      <td>76319330</td>\n",
       "      <td>2</td>\n",
       "      <td>2017-09-11 11:41:04</td>\n",
       "      <td>2017-09-11 12:18:58</td>\n",
       "      <td>1</td>\n",
       "      <td>31.95</td>\n",
       "      <td>4</td>\n",
       "      <td>N</td>\n",
       "      <td>138</td>\n",
       "      <td>265</td>\n",
       "      <td>2</td>\n",
       "      <td>131.00</td>\n",
       "      <td>0.0</td>\n",
       "      <td>0.5</td>\n",
       "      <td>0.00</td>\n",
       "      <td>0.00</td>\n",
       "      <td>0.3</td>\n",
       "      <td>131.80</td>\n",
       "      <td>37.900000</td>\n",
       "    </tr>\n",
       "    <tr>\n",
       "      <th>13861</th>\n",
       "      <td>40523668</td>\n",
       "      <td>2</td>\n",
       "      <td>2017-05-19 08:20:21</td>\n",
       "      <td>2017-05-19 09:20:30</td>\n",
       "      <td>1</td>\n",
       "      <td>33.92</td>\n",
       "      <td>5</td>\n",
       "      <td>N</td>\n",
       "      <td>229</td>\n",
       "      <td>265</td>\n",
       "      <td>1</td>\n",
       "      <td>200.01</td>\n",
       "      <td>0.0</td>\n",
       "      <td>0.5</td>\n",
       "      <td>51.64</td>\n",
       "      <td>5.76</td>\n",
       "      <td>0.3</td>\n",
       "      <td>258.21</td>\n",
       "      <td>60.150000</td>\n",
       "    </tr>\n",
       "    <tr>\n",
       "      <th>18130</th>\n",
       "      <td>90375786</td>\n",
       "      <td>1</td>\n",
       "      <td>2017-10-26 14:45:01</td>\n",
       "      <td>2017-10-26 16:12:49</td>\n",
       "      <td>1</td>\n",
       "      <td>30.50</td>\n",
       "      <td>1</td>\n",
       "      <td>N</td>\n",
       "      <td>132</td>\n",
       "      <td>220</td>\n",
       "      <td>1</td>\n",
       "      <td>90.50</td>\n",
       "      <td>0.0</td>\n",
       "      <td>0.5</td>\n",
       "      <td>19.85</td>\n",
       "      <td>8.16</td>\n",
       "      <td>0.3</td>\n",
       "      <td>119.31</td>\n",
       "      <td>87.800000</td>\n",
       "    </tr>\n",
       "  </tbody>\n",
       "</table>\n",
       "</div>"
      ],
      "text/plain": [
       "       Unnamed: 0  VendorID tpep_pickup_datetime tpep_dropoff_datetime  \\\n",
       "29       94052446         2  2017-11-06 20:30:50   2017-11-07 00:00:00   \n",
       "5792     68023798         2  2017-08-11 14:14:01   2017-08-11 15:17:31   \n",
       "6064     49894023         2  2017-06-13 12:30:22   2017-06-13 13:37:51   \n",
       "9280     51810714         2  2017-06-18 23:33:25   2017-06-19 00:12:38   \n",
       "10291    76319330         2  2017-09-11 11:41:04   2017-09-11 12:18:58   \n",
       "13861    40523668         2  2017-05-19 08:20:21   2017-05-19 09:20:30   \n",
       "18130    90375786         1  2017-10-26 14:45:01   2017-10-26 16:12:49   \n",
       "\n",
       "       passenger_count  trip_distance  RatecodeID store_and_fwd_flag  \\\n",
       "29                   1          30.83           1                  N   \n",
       "5792                 1          30.33           2                  N   \n",
       "6064                 1          32.72           3                  N   \n",
       "9280                 2          33.96           5                  N   \n",
       "10291                1          31.95           4                  N   \n",
       "13861                1          33.92           5                  N   \n",
       "18130                1          30.50           1                  N   \n",
       "\n",
       "       PULocationID  DOLocationID  payment_type  fare_amount  extra  mta_tax  \\\n",
       "29              132            23             1        80.00    0.5      0.5   \n",
       "5792            132           158             1        52.00    0.0      0.5   \n",
       "6064            138             1             1       107.00    0.0      0.0   \n",
       "9280            132           265             2       150.00    0.0      0.0   \n",
       "10291           138           265             2       131.00    0.0      0.5   \n",
       "13861           229           265             1       200.01    0.0      0.5   \n",
       "18130           132           220             1        90.50    0.0      0.5   \n",
       "\n",
       "       tip_amount  tolls_amount  improvement_surcharge  total_amount  \\\n",
       "29          18.56         11.52                    0.3        111.38   \n",
       "5792        14.64          5.76                    0.3         73.20   \n",
       "6064        55.50         16.26                    0.3        179.06   \n",
       "9280         0.00          0.00                    0.3        150.30   \n",
       "10291        0.00          0.00                    0.3        131.80   \n",
       "13861       51.64          5.76                    0.3        258.21   \n",
       "18130       19.85          8.16                    0.3        119.31   \n",
       "\n",
       "         duration  \n",
       "29     209.166667  \n",
       "5792    63.500000  \n",
       "6064    67.483333  \n",
       "9280    39.216667  \n",
       "10291   37.900000  \n",
       "13861   60.150000  \n",
       "18130   87.800000  "
      ]
     },
     "execution_count": 16,
     "metadata": {},
     "output_type": "execute_result"
    }
   ],
   "source": [
    "df0[df0['trip_distance'] > 30]"
   ]
  },
  {
   "cell_type": "markdown",
   "id": "ba1c0864",
   "metadata": {},
   "source": [
    "Solo hay 7 viajes que tengan una distancia mayor a 30 millas. Esto es perfectamente plausible en el contexto del dataset por lo que no van a suponer un problema en el análisis."
   ]
  },
  {
   "cell_type": "code",
   "execution_count": 17,
   "id": "41c7604f",
   "metadata": {},
   "outputs": [
    {
     "data": {
      "text/plain": [
       "[0.0, 0.01, 0.02, 0.03, 0.04, 0.05, 0.06, 0.07, 0.08, 0.09]"
      ]
     },
     "execution_count": 17,
     "metadata": {},
     "output_type": "execute_result"
    }
   ],
   "source": [
    "#Viajes con la menor distancia\n",
    "sorted(set(df0['trip_distance']))[:10]"
   ]
  },
  {
   "cell_type": "markdown",
   "id": "45a6cd36",
   "metadata": {},
   "source": [
    "Las distancias se capturan con un alto grado de precisión. Sin embargo, podría ser posible que los viajes tuvieran distancias de cero si un pasajero pidiera un taxi y luego cambiara de opinión. Además, ¿hay suficientes valores cero en los datos como para plantear un problema?"
   ]
  },
  {
   "cell_type": "code",
   "execution_count": 18,
   "id": "b5e14112",
   "metadata": {},
   "outputs": [
    {
     "name": "stdout",
     "output_type": "stream",
     "text": [
      "148\n",
      "Percentage of trips with a duration of 0 miles: 0.65 %\n"
     ]
    }
   ],
   "source": [
    "print(sum(df0['trip_distance'] == 0))\n",
    "print('Percentage of trips with a duration of 0 miles:', round((148/22699)*100, 2),'%')"
   ]
  },
  {
   "cell_type": "markdown",
   "id": "d76bf349",
   "metadata": {},
   "source": [
    "El porcentaje es tan bajo que no va a afectar a ningún modelo o predicción que hagamos por lo que podemos dejar esas filas o borrarlas. En nuestro caso vamos a dejarlas."
   ]
  },
  {
   "cell_type": "markdown",
   "id": "ba72511f",
   "metadata": {},
   "source": [
    "#### Valores atípicos `fare_amount`"
   ]
  },
  {
   "cell_type": "code",
   "execution_count": 19,
   "id": "5051dc23",
   "metadata": {},
   "outputs": [
    {
     "data": {
      "text/plain": [
       "count    22699.000000\n",
       "mean        13.026629\n",
       "std         13.243791\n",
       "min       -120.000000\n",
       "25%          6.500000\n",
       "50%          9.500000\n",
       "75%         14.500000\n",
       "max        999.990000\n",
       "Name: fare_amount, dtype: float64"
      ]
     },
     "execution_count": 19,
     "metadata": {},
     "output_type": "execute_result"
    }
   ],
   "source": [
    "df0['fare_amount'].describe()"
   ]
  },
  {
   "cell_type": "markdown",
   "id": "002ec738",
   "metadata": {},
   "source": [
    "Los valores negativos son claramente un problema. Si un valor es negativo en esta columna significaría que el taxista ha pagado al cliente. Lo que vamos a hacer para solucionar esto es cambiar el todos los valores negativos que aparezcan en esta columna por cero. De esta manera no eliminamos filas."
   ]
  },
  {
   "cell_type": "code",
   "execution_count": 20,
   "id": "1067851d",
   "metadata": {},
   "outputs": [
    {
     "data": {
      "text/plain": [
       "count    22699.000000\n",
       "mean        13.033832\n",
       "std         13.212462\n",
       "min          0.000000\n",
       "25%          6.500000\n",
       "50%          9.500000\n",
       "75%         14.500000\n",
       "max        999.990000\n",
       "Name: fare_amount, dtype: float64"
      ]
     },
     "execution_count": 20,
     "metadata": {},
     "output_type": "execute_result"
    }
   ],
   "source": [
    "#Cambiar los valores menores de 0 a 0\n",
    "df0.loc[df0['fare_amount'] < 0, 'fare_amount'] = 0\n",
    "df0['fare_amount'].describe()"
   ]
  },
  {
   "cell_type": "markdown",
   "id": "d7af87c9",
   "metadata": {},
   "source": [
    "Ahora toca solucionar los valores excesivamente grandes. Está claro que el valor de 999 es un problema pues el percentil de 75% es de 14.5. Esto implica que hay una enorme distancia entre el final del rango intercuártilico y dicho valor. Para solucionarlo vamos a usar la siguiente función que he obtenido del curso de Google Advanced Data Analytics."
   ]
  },
  {
   "cell_type": "code",
   "execution_count": 21,
   "id": "393f90fe",
   "metadata": {},
   "outputs": [],
   "source": [
    "def outlier_imputer(column_list, iqr_factor):\n",
    "    '''\n",
    "    Impute upper-limit values in specified columns based on their interquartile range.\n",
    "\n",
    "    Arguments:\n",
    "        column_list: A list of columns to iterate over\n",
    "        iqr_factor: A number representing x in the formula:\n",
    "                    Q3 + (x * IQR). Used to determine maximum threshold,\n",
    "                    beyond which a point is considered an outlier.\n",
    "\n",
    "    The IQR is computed for each column in column_list and values exceeding\n",
    "    the upper threshold for each column are imputed with the upper threshold value.\n",
    "    '''\n",
    "    for col in column_list:\n",
    "        # Reassign minimum to zero\n",
    "        df0.loc[df0[col] < 0, col] = 0\n",
    "\n",
    "        # Calculate upper threshold\n",
    "        q1 = df0[col].quantile(0.25)\n",
    "        q3 = df0[col].quantile(0.75)\n",
    "        iqr = q3 - q1\n",
    "        upper_threshold = q3 + (iqr_factor * iqr)\n",
    "        print(col)\n",
    "        print('q3:', q3)\n",
    "        print('upper_threshold:', upper_threshold)\n",
    "\n",
    "        # Reassign values > threshold to threshold\n",
    "        df0.loc[df0[col] > upper_threshold, col] = upper_threshold\n",
    "        print(df0[col].describe())\n",
    "        print()"
   ]
  },
  {
   "cell_type": "markdown",
   "id": "0acfb56b",
   "metadata": {},
   "source": [
    "Esta función calcula el cuartil 0.25 y el cuartil 0.75, o lo que es lo mismo, el percentil 25% y el 75%. Luego calcula el rango intercuartílco y finalmente te da el umbral superior y sustituye los valores mayores a este por el valor de dicho umbral. "
   ]
  },
  {
   "cell_type": "code",
   "execution_count": 22,
   "id": "cc56c166",
   "metadata": {},
   "outputs": [
    {
     "name": "stdout",
     "output_type": "stream",
     "text": [
      "fare_amount\n",
      "q3: 14.5\n",
      "upper_threshold: 62.5\n",
      "count    22699.000000\n",
      "mean        12.897913\n",
      "std         10.541137\n",
      "min          0.000000\n",
      "25%          6.500000\n",
      "50%          9.500000\n",
      "75%         14.500000\n",
      "max         62.500000\n",
      "Name: fare_amount, dtype: float64\n",
      "\n"
     ]
    }
   ],
   "source": [
    "outlier_imputer(['fare_amount'], 6)"
   ]
  },
  {
   "cell_type": "markdown",
   "id": "d722f5aa",
   "metadata": {},
   "source": [
    "#### Valores atípicos `duration` "
   ]
  },
  {
   "cell_type": "code",
   "execution_count": 23,
   "id": "896123eb",
   "metadata": {},
   "outputs": [
    {
     "data": {
      "text/plain": [
       "count    22699.000000\n",
       "mean        17.013777\n",
       "std         61.996482\n",
       "min        -16.983333\n",
       "25%          6.650000\n",
       "50%         11.183333\n",
       "75%         18.383333\n",
       "max       1439.550000\n",
       "Name: duration, dtype: float64"
      ]
     },
     "execution_count": 23,
     "metadata": {},
     "output_type": "execute_result"
    }
   ],
   "source": [
    "df0['duration'].describe()"
   ]
  },
  {
   "cell_type": "markdown",
   "id": "69439fee",
   "metadata": {},
   "source": [
    "Aquí tenemos los mismos dos problemas que en el apartado anterior. La duración no puede ser menor que cero y el valor máximo es excesivamente alto por lo que vamos a tomar las mismas medidas que con la columna `fare_amount`."
   ]
  },
  {
   "cell_type": "code",
   "execution_count": 24,
   "id": "a54bf6f7",
   "metadata": {},
   "outputs": [
    {
     "name": "stdout",
     "output_type": "stream",
     "text": [
      "duration\n",
      "q3: 18.383333333333333\n",
      "upper_threshold: 88.78333333333333\n",
      "count    22699.000000\n",
      "mean        14.460555\n",
      "std         11.947043\n",
      "min          0.000000\n",
      "25%          6.650000\n",
      "50%         11.183333\n",
      "75%         18.383333\n",
      "max         88.783333\n",
      "Name: duration, dtype: float64\n",
      "\n"
     ]
    }
   ],
   "source": [
    "df0.loc[df0['duration'] < 0, 'duration'] = 0\n",
    "outlier_imputer(['duration'], 6)"
   ]
  },
  {
   "cell_type": "code",
   "execution_count": 25,
   "id": "2a9750bd",
   "metadata": {},
   "outputs": [
    {
     "data": {
      "image/png": "[encoded data removed]",
      "text/plain": [
       "<Figure size 1440x360 with 3 Axes>"
      ]
     },
     "metadata": {
      "needs_background": "light"
     },
     "output_type": "display_data"
    }
   ],
   "source": [
    "fig, axes = plt.subplots(1,3,figsize = (20,5))\n",
    "plt.suptitle('Histograms')\n",
    "sns.histplot(ax = axes[0], x = df0['trip_distance'], bins = range(0,33,1))\n",
    "sns.histplot(ax = axes[1], x = df0['fare_amount'], bins = range(0, 50, 1))\n",
    "sns.histplot(ax = axes[2], x = df0['duration'], bins = range(0,90,1));"
   ]
  },
  {
   "cell_type": "markdown",
   "id": "7b5f8b9a",
   "metadata": {},
   "source": [
    "### Estudio de las propinas dadas"
   ]
  },
  {
   "cell_type": "markdown",
   "id": "d572f62e",
   "metadata": {},
   "source": [
    "Como uno de nuestro objetivos es crear un modelo que nos permita saber cuando un cliente va a dar buenas propinas y cuando no vamos a realizar un análisis de la columna `tip_amount`."
   ]
  },
  {
   "cell_type": "code",
   "execution_count": 26,
   "id": "e79805de",
   "metadata": {},
   "outputs": [
    {
     "data": {
      "text/plain": [
       "count    22699.000000\n",
       "mean         1.835781\n",
       "std          2.800626\n",
       "min          0.000000\n",
       "25%          0.000000\n",
       "50%          1.350000\n",
       "75%          2.450000\n",
       "max        200.000000\n",
       "Name: tip_amount, dtype: float64"
      ]
     },
     "execution_count": 26,
     "metadata": {},
     "output_type": "execute_result"
    }
   ],
   "source": [
    "df0['tip_amount'].describe()"
   ]
  },
  {
   "cell_type": "code",
   "execution_count": 27,
   "id": "9834dc1a",
   "metadata": {},
   "outputs": [
    {
     "data": {
      "text/plain": [
       "[200.0, 55.5, 51.64, 46.69, 42.29, 28.0, 25.2, 25.0, 22.22, 21.3]"
      ]
     },
     "execution_count": 27,
     "metadata": {},
     "output_type": "execute_result"
    }
   ],
   "source": [
    "sorted(set(df0['tip_amount']), reverse = True)[:10]"
   ]
  },
  {
   "cell_type": "markdown",
   "id": "c37b0a03",
   "metadata": {},
   "source": [
    "Hay una gran diferencia entre el valor más grande en esta columna y el resto. Vamos a ver ese valor en mayor profundidad."
   ]
  },
  {
   "cell_type": "code",
   "execution_count": 28,
   "id": "1610ed20",
   "metadata": {},
   "outputs": [
    {
     "data": {
      "text/html": [
       "<div>\n",
       "<style scoped>\n",
       "    .dataframe tbody tr th:only-of-type {\n",
       "        vertical-align: middle;\n",
       "    }\n",
       "\n",
       "    .dataframe tbody tr th {\n",
       "        vertical-align: top;\n",
       "    }\n",
       "\n",
       "    .dataframe thead th {\n",
       "        text-align: right;\n",
       "    }\n",
       "</style>\n",
       "<table border=\"1\" class=\"dataframe\">\n",
       "  <thead>\n",
       "    <tr style=\"text-align: right;\">\n",
       "      <th></th>\n",
       "      <th>Unnamed: 0</th>\n",
       "      <th>VendorID</th>\n",
       "      <th>tpep_pickup_datetime</th>\n",
       "      <th>tpep_dropoff_datetime</th>\n",
       "      <th>passenger_count</th>\n",
       "      <th>trip_distance</th>\n",
       "      <th>RatecodeID</th>\n",
       "      <th>store_and_fwd_flag</th>\n",
       "      <th>PULocationID</th>\n",
       "      <th>DOLocationID</th>\n",
       "      <th>payment_type</th>\n",
       "      <th>fare_amount</th>\n",
       "      <th>extra</th>\n",
       "      <th>mta_tax</th>\n",
       "      <th>tip_amount</th>\n",
       "      <th>tolls_amount</th>\n",
       "      <th>improvement_surcharge</th>\n",
       "      <th>total_amount</th>\n",
       "      <th>duration</th>\n",
       "    </tr>\n",
       "  </thead>\n",
       "  <tbody>\n",
       "    <tr>\n",
       "      <th>8476</th>\n",
       "      <td>11157412</td>\n",
       "      <td>1</td>\n",
       "      <td>2017-02-06 05:50:10</td>\n",
       "      <td>2017-02-06 05:51:08</td>\n",
       "      <td>1</td>\n",
       "      <td>2.6</td>\n",
       "      <td>5</td>\n",
       "      <td>N</td>\n",
       "      <td>226</td>\n",
       "      <td>226</td>\n",
       "      <td>1</td>\n",
       "      <td>62.5</td>\n",
       "      <td>0.0</td>\n",
       "      <td>0.0</td>\n",
       "      <td>200.0</td>\n",
       "      <td>0.0</td>\n",
       "      <td>0.3</td>\n",
       "      <td>1200.29</td>\n",
       "      <td>0.966667</td>\n",
       "    </tr>\n",
       "  </tbody>\n",
       "</table>\n",
       "</div>"
      ],
      "text/plain": [
       "      Unnamed: 0  VendorID tpep_pickup_datetime tpep_dropoff_datetime  \\\n",
       "8476    11157412         1  2017-02-06 05:50:10   2017-02-06 05:51:08   \n",
       "\n",
       "      passenger_count  trip_distance  RatecodeID store_and_fwd_flag  \\\n",
       "8476                1            2.6           5                  N   \n",
       "\n",
       "      PULocationID  DOLocationID  payment_type  fare_amount  extra  mta_tax  \\\n",
       "8476           226           226             1         62.5    0.0      0.0   \n",
       "\n",
       "      tip_amount  tolls_amount  improvement_surcharge  total_amount  duration  \n",
       "8476       200.0           0.0                    0.3       1200.29  0.966667  "
      ]
     },
     "execution_count": 28,
     "metadata": {},
     "output_type": "execute_result"
    }
   ],
   "source": [
    "df0[df0['tip_amount'] == 200]"
   ]
  },
  {
   "cell_type": "markdown",
   "id": "73e9f54e",
   "metadata": {},
   "source": [
    "Esta fila tiene bastantes datos extraños. Es un viaje de 2.6 millas supuestamente. El viaje se realiza en 0.96 minutos lo cual es bastante extraño y el fare amount es 62.5 por lo que claramente ha sido uno de los valores atípicos que hemos modificado en esa columna. El `total_amount` es de 1200 dólares, un poco raro para un viaje de 2 millas que ha durado 0.96 minutos. Claramente esta fila tiene más datos erróneos que correctos por lo que lo más sensato sería eliminarla. "
   ]
  },
  {
   "cell_type": "code",
   "execution_count": 29,
   "id": "464757ed",
   "metadata": {},
   "outputs": [],
   "source": [
    "#Eliminamos la fila\n",
    "df0.drop(df0[(df0['tip_amount'] == 200)].index, inplace=True)"
   ]
  },
  {
   "cell_type": "code",
   "execution_count": 30,
   "id": "1a3a15a8",
   "metadata": {},
   "outputs": [
    {
     "data": {
      "text/plain": [
       "count    22698.000000\n",
       "mean         1.827051\n",
       "std          2.472576\n",
       "min          0.000000\n",
       "25%          0.000000\n",
       "50%          1.350000\n",
       "75%          2.450000\n",
       "max         55.500000\n",
       "Name: tip_amount, dtype: float64"
      ]
     },
     "execution_count": 30,
     "metadata": {},
     "output_type": "execute_result"
    }
   ],
   "source": [
    "df0['tip_amount'].describe()"
   ]
  },
  {
   "cell_type": "code",
   "execution_count": 31,
   "id": "ac68aa17",
   "metadata": {},
   "outputs": [
    {
     "data": {
      "image/png": "[encoded data removed]",
      "text/plain": [
       "<Figure size 1080x360 with 2 Axes>"
      ]
     },
     "metadata": {
      "needs_background": "light"
     },
     "output_type": "display_data"
    }
   ],
   "source": [
    "fig, axes = plt.subplots(1,2, figsize =(15,5))\n",
    "plt.suptitle('Boxplot and histogram of tip_amount')\n",
    "sns.boxplot(ax = axes[0], x = df0['tip_amount'])\n",
    "sns.histplot(ax = axes[1], x = df0['tip_amount'], bins = range(0,20,1));"
   ]
  },
  {
   "cell_type": "markdown",
   "id": "e6ff10cf",
   "metadata": {},
   "source": [
    "Se observa que claramente la mayoría de propinas se agrupan entre los 0 y los 3 doláres. En cuanto a los valores atípicos ya los hemos analizado concluyendo que esos valores de alrededor de 50 podrían llegar a ser plausibles."
   ]
  },
  {
   "cell_type": "markdown",
   "id": "3c557e2a",
   "metadata": {},
   "source": [
    "#### Própinas por distribuidor"
   ]
  },
  {
   "cell_type": "code",
   "execution_count": 32,
   "id": "38200551",
   "metadata": {
    "scrolled": false
   },
   "outputs": [
    {
     "data": {
      "image/png": "[encoded data removed]",
      "text/plain": [
       "<Figure size 864x504 with 1 Axes>"
      ]
     },
     "metadata": {
      "needs_background": "light"
     },
     "output_type": "display_data"
    }
   ],
   "source": [
    "plt.figure(figsize = (12,7))\n",
    "ax = sns.histplot(data = df0, x = 'tip_amount',bins = range(0,21,1),\n",
    "                  hue = 'VendorID',\n",
    "                  multiple = 'stack',\n",
    "                 palette = 'Greens_d')\n",
    "ax.set_xticks(range(0,21,1))\n",
    "ax.set_xticklabels(range(0,21,1))\n",
    "plt.title('Tip amount by Vendor histogram');"
   ]
  },
  {
   "cell_type": "markdown",
   "id": "69847d55",
   "metadata": {},
   "source": [
    "Si se separa el importe de las propinas por vendedor, se observa que no hay aberraciones notables en la distribución de las propinas entre los dos vendedores del conjunto de datos. El vendedor dos se lleva una parte ligeramente superior de los viajes, y esta proporción se mantiene aproximadamente para todos los importes de propina.\n",
    "\n",
    "A continuación, nos centramos en el extremo superior del intervalo de propinas para comprobar si el vendedor uno recibe una parte notablemente mayor de las propinas más generosas."
   ]
  },
  {
   "cell_type": "code",
   "execution_count": 33,
   "id": "2c7b5f59",
   "metadata": {},
   "outputs": [
    {
     "data": {
      "image/png": "[encoded data removed]",
      "text/plain": [
       "<Figure size 864x504 with 1 Axes>"
      ]
     },
     "metadata": {
      "needs_background": "light"
     },
     "output_type": "display_data"
    }
   ],
   "source": [
    "plt.figure(figsize = (12,7))\n",
    "ax = sns.histplot(data = df0, x = 'tip_amount',bins = range(10,21,1),\n",
    "                  hue = 'VendorID',\n",
    "                  multiple = 'stack',\n",
    "                 palette = 'Greens_d')\n",
    "ax.set_xticks(range(10,21,1))\n",
    "ax.set_xticklabels(range(10,21,1))\n",
    "plt.title('Tip amount by Vendor histogram');"
   ]
  },
  {
   "cell_type": "markdown",
   "id": "e7057a1a",
   "metadata": {},
   "source": [
    "Las proporciones se mantienen incluso en estas cantidades de propina más altas, con la excepción del extremo más alto, pero esto no es digno de mención debido al bajo tamaño de la muestra en estas cantidades de propina."
   ]
  },
  {
   "cell_type": "markdown",
   "id": "0b22ad1e",
   "metadata": {},
   "source": [
    "Ahora vamos a analizar si hay alguna relación entre el número de pasajeros y la propina que dan."
   ]
  },
  {
   "cell_type": "code",
   "execution_count": 34,
   "id": "4e7f07cd",
   "metadata": {},
   "outputs": [
    {
     "data": {
      "text/plain": [
       "1    16116\n",
       "2     3305\n",
       "5     1143\n",
       "3      953\n",
       "6      693\n",
       "4      455\n",
       "0       33\n",
       "Name: passenger_count, dtype: int64"
      ]
     },
     "execution_count": 34,
     "metadata": {},
     "output_type": "execute_result"
    }
   ],
   "source": [
    "df0['passenger_count'].value_counts()"
   ]
  },
  {
   "cell_type": "markdown",
   "id": "4cc9f5f9",
   "metadata": {},
   "source": [
    "Casi dos tercios de los viajes son para un único pasajero aunque hay 1100 viajes con 5 pasajeros y 700 con hasta 6 pasajeros. Aparecen 33 viajes con cero pasajeros, estos viajes se van a borrar a no ser que se encuentre una explicación razonable para este valor."
   ]
  },
  {
   "cell_type": "code",
   "execution_count": 35,
   "id": "bff5258d",
   "metadata": {},
   "outputs": [
    {
     "data": {
      "text/html": [
       "<div>\n",
       "<style scoped>\n",
       "    .dataframe tbody tr th:only-of-type {\n",
       "        vertical-align: middle;\n",
       "    }\n",
       "\n",
       "    .dataframe tbody tr th {\n",
       "        vertical-align: top;\n",
       "    }\n",
       "\n",
       "    .dataframe thead th {\n",
       "        text-align: right;\n",
       "    }\n",
       "</style>\n",
       "<table border=\"1\" class=\"dataframe\">\n",
       "  <thead>\n",
       "    <tr style=\"text-align: right;\">\n",
       "      <th></th>\n",
       "      <th>tip_amount</th>\n",
       "    </tr>\n",
       "    <tr>\n",
       "      <th>passenger_count</th>\n",
       "      <th></th>\n",
       "    </tr>\n",
       "  </thead>\n",
       "  <tbody>\n",
       "    <tr>\n",
       "      <th>0</th>\n",
       "      <td>2.135758</td>\n",
       "    </tr>\n",
       "    <tr>\n",
       "      <th>1</th>\n",
       "      <td>1.836625</td>\n",
       "    </tr>\n",
       "    <tr>\n",
       "      <th>2</th>\n",
       "      <td>1.856378</td>\n",
       "    </tr>\n",
       "    <tr>\n",
       "      <th>3</th>\n",
       "      <td>1.716768</td>\n",
       "    </tr>\n",
       "    <tr>\n",
       "      <th>4</th>\n",
       "      <td>1.530264</td>\n",
       "    </tr>\n",
       "    <tr>\n",
       "      <th>5</th>\n",
       "      <td>1.873185</td>\n",
       "    </tr>\n",
       "    <tr>\n",
       "      <th>6</th>\n",
       "      <td>1.720260</td>\n",
       "    </tr>\n",
       "  </tbody>\n",
       "</table>\n",
       "</div>"
      ],
      "text/plain": [
       "                 tip_amount\n",
       "passenger_count            \n",
       "0                  2.135758\n",
       "1                  1.836625\n",
       "2                  1.856378\n",
       "3                  1.716768\n",
       "4                  1.530264\n",
       "5                  1.873185\n",
       "6                  1.720260"
      ]
     },
     "execution_count": 35,
     "metadata": {},
     "output_type": "execute_result"
    }
   ],
   "source": [
    "mean_tips_by_passenger_count = df0.groupby(['passenger_count'])[['tip_amount']].mean()\n",
    "mean_tips_by_passenger_count"
   ]
  },
  {
   "cell_type": "markdown",
   "id": "7354157c",
   "metadata": {},
   "source": [
    "Podemos ver que el grupo que deja propinas más altas son los viajes con cero pasajeros. Viendo que hay tan solo 33 viajes con cero pasajeros y que no hay realmente una explicación para estos viajes sin pasajeros. Teniendo en cuenta que es la media más alta y que luego puede afectar al modelo que intentemos hacer para predecir las propinas que dará un cliente lo mejor sería eliminar estas 33 filas."
   ]
  },
  {
   "cell_type": "code",
   "execution_count": 36,
   "id": "6ccb5c96",
   "metadata": {},
   "outputs": [],
   "source": [
    "df0.drop(df0[(df0['passenger_count'] == 0)].index, inplace=True)"
   ]
  },
  {
   "cell_type": "code",
   "execution_count": 37,
   "id": "414d3dd1",
   "metadata": {},
   "outputs": [
    {
     "data": {
      "text/html": [
       "<div>\n",
       "<style scoped>\n",
       "    .dataframe tbody tr th:only-of-type {\n",
       "        vertical-align: middle;\n",
       "    }\n",
       "\n",
       "    .dataframe tbody tr th {\n",
       "        vertical-align: top;\n",
       "    }\n",
       "\n",
       "    .dataframe thead th {\n",
       "        text-align: right;\n",
       "    }\n",
       "</style>\n",
       "<table border=\"1\" class=\"dataframe\">\n",
       "  <thead>\n",
       "    <tr style=\"text-align: right;\">\n",
       "      <th></th>\n",
       "      <th>tip_amount</th>\n",
       "    </tr>\n",
       "    <tr>\n",
       "      <th>passenger_count</th>\n",
       "      <th></th>\n",
       "    </tr>\n",
       "  </thead>\n",
       "  <tbody>\n",
       "    <tr>\n",
       "      <th>1</th>\n",
       "      <td>1.836625</td>\n",
       "    </tr>\n",
       "    <tr>\n",
       "      <th>2</th>\n",
       "      <td>1.856378</td>\n",
       "    </tr>\n",
       "    <tr>\n",
       "      <th>3</th>\n",
       "      <td>1.716768</td>\n",
       "    </tr>\n",
       "    <tr>\n",
       "      <th>4</th>\n",
       "      <td>1.530264</td>\n",
       "    </tr>\n",
       "    <tr>\n",
       "      <th>5</th>\n",
       "      <td>1.873185</td>\n",
       "    </tr>\n",
       "    <tr>\n",
       "      <th>6</th>\n",
       "      <td>1.720260</td>\n",
       "    </tr>\n",
       "  </tbody>\n",
       "</table>\n",
       "</div>"
      ],
      "text/plain": [
       "                 tip_amount\n",
       "passenger_count            \n",
       "1                  1.836625\n",
       "2                  1.856378\n",
       "3                  1.716768\n",
       "4                  1.530264\n",
       "5                  1.873185\n",
       "6                  1.720260"
      ]
     },
     "execution_count": 37,
     "metadata": {},
     "output_type": "execute_result"
    }
   ],
   "source": [
    "mean_tips_by_passenger_count = df0.groupby(['passenger_count'])[['tip_amount']].mean()\n",
    "mean_tips_by_passenger_count"
   ]
  },
  {
   "cell_type": "code",
   "execution_count": 38,
   "id": "a24bb56f",
   "metadata": {},
   "outputs": [
    {
     "data": {
      "image/png": "[encoded data removed]",
      "text/plain": [
       "<Figure size 864x504 with 1 Axes>"
      ]
     },
     "metadata": {
      "needs_background": "light"
     },
     "output_type": "display_data"
    }
   ],
   "source": [
    "data = mean_tips_by_passenger_count\n",
    "pal = sns.color_palette(\"Greens_d\", len(data))\n",
    "rank = data['tip_amount'].argsort().argsort()\n",
    "plt.figure(figsize =(12,7))\n",
    "ax = sns.barplot(x = data.index, y = data['tip_amount'],\n",
    "                palette = np.array(pal[::-1])[rank])\n",
    "ax.axhline(df0['tip_amount'].mean(), ls = '--', color = 'red', label = 'global mean')\n",
    "ax.legend()\n",
    "plt.title('meant tip amount by passenger count');"
   ]
  },
  {
   "cell_type": "markdown",
   "id": "68519b22",
   "metadata": {},
   "source": [
    " El importe medio de las propinas varía muy poco en función del número de pasajeros. Aunque disminuye notablemente en los viajes con cuatro pasajeros, era de esperar que hubiera un mayor grado de fluctuación, ya que los viajes con cuatro pasajeros eran los menos abundantes en el conjunto de datos (aparte de los viajes con cero pasajeros)."
   ]
  },
  {
   "cell_type": "markdown",
   "id": "2c24a790",
   "metadata": {},
   "source": [
    "#### Viajes por mes"
   ]
  },
  {
   "cell_type": "code",
   "execution_count": 39,
   "id": "9f30d690",
   "metadata": {},
   "outputs": [],
   "source": [
    "#Creamos una columna del mes\n",
    "df0['month'] = df0['tpep_pickup_datetime'].dt.month_name()\n",
    "#Creamos una columna del día\n",
    "df0['day'] = df0['tpep_pickup_datetime'].dt.day_name()"
   ]
  },
  {
   "cell_type": "code",
   "execution_count": 40,
   "id": "14236c68",
   "metadata": {},
   "outputs": [
    {
     "data": {
      "text/plain": [
       "March        2049\n",
       "October      2022\n",
       "April        2018\n",
       "May          2013\n",
       "January      1997\n",
       "June         1964\n",
       "December     1850\n",
       "November     1833\n",
       "February     1768\n",
       "September    1730\n",
       "August       1724\n",
       "July         1697\n",
       "Name: month, dtype: int64"
      ]
     },
     "execution_count": 40,
     "metadata": {},
     "output_type": "execute_result"
    }
   ],
   "source": [
    "#Número total de viajes por mes\n",
    "monthly_rides = df0['month'].value_counts()\n",
    "monthly_rides"
   ]
  },
  {
   "cell_type": "code",
   "execution_count": 41,
   "id": "7ef2822f",
   "metadata": {},
   "outputs": [
    {
     "data": {
      "text/plain": [
       "January      1997\n",
       "February     1768\n",
       "March        2049\n",
       "April        2018\n",
       "May          2013\n",
       "June         1964\n",
       "July         1697\n",
       "August       1724\n",
       "September    1730\n",
       "October      2022\n",
       "November     1833\n",
       "December     1850\n",
       "Name: month, dtype: int64"
      ]
     },
     "execution_count": 41,
     "metadata": {},
     "output_type": "execute_result"
    }
   ],
   "source": [
    "#Ordenamos los meses\n",
    "month_order = ['January', 'February', 'March', 'April', 'May', 'June',\n",
    "               'July','August', 'September', 'October', 'November', 'December']\n",
    "monthly_rides = monthly_rides.reindex(index = month_order)\n",
    "monthly_rides"
   ]
  },
  {
   "cell_type": "code",
   "execution_count": 42,
   "id": "95d1463b",
   "metadata": {},
   "outputs": [
    {
     "data": {
      "image/png": "[encoded data removed]",
      "text/plain": [
       "<Figure size 864x504 with 1 Axes>"
      ]
     },
     "metadata": {
      "needs_background": "light"
     },
     "output_type": "display_data"
    }
   ],
   "source": [
    "#Gráfico de barras para los viajes al mes\n",
    "plt.figure(figsize = (12,7))\n",
    "pal = sns.color_palette(\"Greens_d\", len(monthly_rides))\n",
    "ax = sns.barplot(x = monthly_rides.index, y = monthly_rides, palette = pal)\n",
    "ax.set_xticklabels(month_order)\n",
    "plt.title('Ride count by month');"
   ]
  },
  {
   "cell_type": "markdown",
   "id": "ed7855f0",
   "metadata": {},
   "source": [
    "Los viajes mensuales son bastante constantes, con descensos notables en los meses de julio, agosto y septiembre, y también en febrero."
   ]
  },
  {
   "cell_type": "markdown",
   "id": "27ce347c",
   "metadata": {},
   "source": [
    "#### Viajes por día"
   ]
  },
  {
   "cell_type": "code",
   "execution_count": 43,
   "id": "933b769f",
   "metadata": {},
   "outputs": [
    {
     "data": {
      "text/plain": [
       "Monday       2925\n",
       "Tuesday      3193\n",
       "Wednesday    3385\n",
       "Thursday     3399\n",
       "Friday       3409\n",
       "Saturday     3362\n",
       "Sunday       2992\n",
       "Name: day, dtype: int64"
      ]
     },
     "execution_count": 43,
     "metadata": {},
     "output_type": "execute_result"
    }
   ],
   "source": [
    "#Mismo proceso pero esta vez para los días\n",
    "daily_rides = df0['day'].value_counts()\n",
    "day_order = ['Monday', 'Tuesday', 'Wednesday', 'Thursday', 'Friday', 'Saturday', 'Sunday']\n",
    "daily_rides = daily_rides.reindex(index = day_order)\n",
    "daily_rides"
   ]
  },
  {
   "cell_type": "code",
   "execution_count": 45,
   "id": "5a4afa47",
   "metadata": {
    "scrolled": false
   },
   "outputs": [
    {
     "data": {
      "image/png": "[encoded data removed]",
      "text/plain": [
       "<Figure size 864x504 with 1 Axes>"
      ]
     },
     "metadata": {
      "needs_background": "light"
     },
     "output_type": "display_data"
    }
   ],
   "source": [
    "#Gráfico de barras para los viajes al día\n",
    "plt.figure(figsize = (12,7))\n",
    "pal = sns.color_palette(\"Greens_d\", len(daily_rides))\n",
    "ax = sns.barplot(x = daily_rides.index, y = daily_rides, palette = pal)\n",
    "ax.set_xticklabels(day_order)\n",
    "plt.title('Ride count by day');"
   ]
  },
  {
   "cell_type": "markdown",
   "id": "d04ad5b0",
   "metadata": {},
   "source": [
    "De miércoles a sábado se registró el mayor número de viajes diarios, mientras que el domingo y el lunes fueron los menos."
   ]
  },
  {
   "cell_type": "markdown",
   "id": "eac1848b",
   "metadata": {},
   "source": [
    "#### Ingresos totales al día"
   ]
  },
  {
   "cell_type": "code",
   "execution_count": 46,
   "id": "2411513a",
   "metadata": {},
   "outputs": [
    {
     "data": {
      "text/html": [
       "<div>\n",
       "<style scoped>\n",
       "    .dataframe tbody tr th:only-of-type {\n",
       "        vertical-align: middle;\n",
       "    }\n",
       "\n",
       "    .dataframe tbody tr th {\n",
       "        vertical-align: top;\n",
       "    }\n",
       "\n",
       "    .dataframe thead th {\n",
       "        text-align: right;\n",
       "    }\n",
       "</style>\n",
       "<table border=\"1\" class=\"dataframe\">\n",
       "  <thead>\n",
       "    <tr style=\"text-align: right;\">\n",
       "      <th></th>\n",
       "      <th>total_amount</th>\n",
       "    </tr>\n",
       "    <tr>\n",
       "      <th>day</th>\n",
       "      <th></th>\n",
       "    </tr>\n",
       "  </thead>\n",
       "  <tbody>\n",
       "    <tr>\n",
       "      <th>Monday</th>\n",
       "      <td>48306.13</td>\n",
       "    </tr>\n",
       "    <tr>\n",
       "      <th>Tuesday</th>\n",
       "      <td>52353.17</td>\n",
       "    </tr>\n",
       "    <tr>\n",
       "      <th>Wednesday</th>\n",
       "      <td>55210.46</td>\n",
       "    </tr>\n",
       "    <tr>\n",
       "      <th>Thursday</th>\n",
       "      <td>57147.46</td>\n",
       "    </tr>\n",
       "    <tr>\n",
       "      <th>Friday</th>\n",
       "      <td>55757.89</td>\n",
       "    </tr>\n",
       "    <tr>\n",
       "      <th>Saturday</th>\n",
       "      <td>51118.65</td>\n",
       "    </tr>\n",
       "    <tr>\n",
       "      <th>Sunday</th>\n",
       "      <td>48556.44</td>\n",
       "    </tr>\n",
       "  </tbody>\n",
       "</table>\n",
       "</div>"
      ],
      "text/plain": [
       "           total_amount\n",
       "day                    \n",
       "Monday         48306.13\n",
       "Tuesday        52353.17\n",
       "Wednesday      55210.46\n",
       "Thursday       57147.46\n",
       "Friday         55757.89\n",
       "Saturday       51118.65\n",
       "Sunday         48556.44"
      ]
     },
     "execution_count": 46,
     "metadata": {},
     "output_type": "execute_result"
    }
   ],
   "source": [
    "total_amount_day = df0.groupby('day')[['total_amount']].sum()\n",
    "total_amount_day = total_amount_day.reindex(index = day_order)\n",
    "total_amount_day"
   ]
  },
  {
   "cell_type": "code",
   "execution_count": 47,
   "id": "4301993d",
   "metadata": {},
   "outputs": [
    {
     "data": {
      "image/png": "[encoded data removed]",
      "text/plain": [
       "<Figure size 864x504 with 1 Axes>"
      ]
     },
     "metadata": {
      "needs_background": "light"
     },
     "output_type": "display_data"
    }
   ],
   "source": [
    "plt.figure(figsize = (12,7))\n",
    "pal = sns.color_palette(\"Greens_d\", len(total_amount_day))\n",
    "ax = sns.barplot(x = total_amount_day.index, y = total_amount_day['total_amount'], palette = pal)\n",
    "ax.set_xticklabels(day_order)\n",
    "ax.set_ylabel('Revenue (USD)')\n",
    "plt.title('Total amount by day');"
   ]
  },
  {
   "cell_type": "markdown",
   "id": "74efe2cf",
   "metadata": {},
   "source": [
    "El jueves es el día que más ingresos brutos hay mientras que el domingo y el lunes los que menos. Esto tiene sentido teniendo en cuenta los viajes realizados cada día. Lo que sí soprende es que la diferencia entre los ingresos el jueves y el sábado es de unos 6000 dólares habiendo únicamente 35 viajes menos. El descenso en ingresos entre el jueves y el sábado es del 10%, bastante elevado para haber únicamente una diferencia de 35 viajes."
   ]
  },
  {
   "cell_type": "markdown",
   "id": "e042d0f2",
   "metadata": {},
   "source": [
    "#### Ingresos totales por mes"
   ]
  },
  {
   "cell_type": "code",
   "execution_count": 48,
   "id": "96f657ee",
   "metadata": {
    "scrolled": false
   },
   "outputs": [
    {
     "data": {
      "text/html": [
       "<div>\n",
       "<style scoped>\n",
       "    .dataframe tbody tr th:only-of-type {\n",
       "        vertical-align: middle;\n",
       "    }\n",
       "\n",
       "    .dataframe tbody tr th {\n",
       "        vertical-align: top;\n",
       "    }\n",
       "\n",
       "    .dataframe thead th {\n",
       "        text-align: right;\n",
       "    }\n",
       "</style>\n",
       "<table border=\"1\" class=\"dataframe\">\n",
       "  <thead>\n",
       "    <tr style=\"text-align: right;\">\n",
       "      <th></th>\n",
       "      <th>total_amount</th>\n",
       "    </tr>\n",
       "    <tr>\n",
       "      <th>month</th>\n",
       "      <th></th>\n",
       "    </tr>\n",
       "  </thead>\n",
       "  <tbody>\n",
       "    <tr>\n",
       "      <th>January</th>\n",
       "      <td>31735.25</td>\n",
       "    </tr>\n",
       "    <tr>\n",
       "      <th>February</th>\n",
       "      <td>27737.60</td>\n",
       "    </tr>\n",
       "    <tr>\n",
       "      <th>March</th>\n",
       "      <td>33085.89</td>\n",
       "    </tr>\n",
       "    <tr>\n",
       "      <th>April</th>\n",
       "      <td>31934.54</td>\n",
       "    </tr>\n",
       "    <tr>\n",
       "      <th>May</th>\n",
       "      <td>33828.58</td>\n",
       "    </tr>\n",
       "    <tr>\n",
       "      <th>June</th>\n",
       "      <td>32920.52</td>\n",
       "    </tr>\n",
       "    <tr>\n",
       "      <th>July</th>\n",
       "      <td>26617.64</td>\n",
       "    </tr>\n",
       "    <tr>\n",
       "      <th>August</th>\n",
       "      <td>27759.56</td>\n",
       "    </tr>\n",
       "    <tr>\n",
       "      <th>September</th>\n",
       "      <td>28164.78</td>\n",
       "    </tr>\n",
       "    <tr>\n",
       "      <th>October</th>\n",
       "      <td>32954.05</td>\n",
       "    </tr>\n",
       "    <tr>\n",
       "      <th>November</th>\n",
       "      <td>30614.52</td>\n",
       "    </tr>\n",
       "    <tr>\n",
       "      <th>December</th>\n",
       "      <td>31097.27</td>\n",
       "    </tr>\n",
       "  </tbody>\n",
       "</table>\n",
       "</div>"
      ],
      "text/plain": [
       "           total_amount\n",
       "month                  \n",
       "January        31735.25\n",
       "February       27737.60\n",
       "March          33085.89\n",
       "April          31934.54\n",
       "May            33828.58\n",
       "June           32920.52\n",
       "July           26617.64\n",
       "August         27759.56\n",
       "September      28164.78\n",
       "October        32954.05\n",
       "November       30614.52\n",
       "December       31097.27"
      ]
     },
     "execution_count": 48,
     "metadata": {},
     "output_type": "execute_result"
    }
   ],
   "source": [
    "total_amount_month = df0.groupby('month')[['total_amount']].sum()\n",
    "total_amount_month = total_amount_month.reindex(index = month_order)\n",
    "total_amount_month\n"
   ]
  },
  {
   "cell_type": "code",
   "execution_count": 49,
   "id": "3296e2b6",
   "metadata": {},
   "outputs": [
    {
     "data": {
      "image/png": "[encoded data removed]",
      "text/plain": [
       "<Figure size 864x504 with 1 Axes>"
      ]
     },
     "metadata": {
      "needs_background": "light"
     },
     "output_type": "display_data"
    }
   ],
   "source": [
    "plt.figure(figsize = (12,7))\n",
    "ax = sns.barplot(x = total_amount_month.index, y = total_amount_month['total_amount'], palette = 'Greens_d')\n",
    "ax.set_ylabel('Revenue (USD)')\n",
    "plt.title('Total revenue by month');"
   ]
  },
  {
   "cell_type": "markdown",
   "id": "ec81611a",
   "metadata": {},
   "source": [
    "En general, los ingresos mensuales siguen la pauta de los viajes mensuales, con notables caídas en los meses de verano de julio, agosto y septiembre, y también una en febrero."
   ]
  },
  {
   "cell_type": "markdown",
   "id": "4f412de2",
   "metadata": {},
   "source": [
    "#### Construir la columna `mean_distance`"
   ]
  },
  {
   "cell_type": "markdown",
   "id": "4858c69f",
   "metadata": {},
   "source": [
    "Cuando vayamos a desarrollar el modelo para predecir el coste del viaje en taxi no podremos usar la duración del viaje pues es un dato que no tendremos hasta finalizar el viaje. Sin embargo, podemos usar estadísticas de viajes que sí sabemos para generalizar sobre las que no sabemos.\n",
    "\n",
    "Para hacer eso vamos a construir una columna que sea distancia media. Esta columna nos va a dar la distancia media para cada viaje dependiendo del punto de salida y de llegada. Estos datos sí los sabremos desde el principio del viaje. Para entenderlo mejor usaremos el siguiente ejemplo:\n",
    "\n",
    "|Viaje|Comienzo|Final|Distancia|\n",
    "|--: |:---:|:-:| ---:   |\n",
    "| 1  | A   | B | 1  |\n",
    "| 2  | C   | D | 2  |\n",
    "| 3  | A   | B |1.5 |\n",
    "| 4  | D   | C | 3  |\n",
    "\n",
    "La columna `mean_distance` sería de la siguiente forma:\n",
    "\n",
    "|Viaje|Comienzo|Final|Distancia|mean_distance|\n",
    "|--: |:---:|:-:|  :--   |:--   |\n",
    "| 1  | A   | B | 1      | 1.25 |\n",
    "| 2  | C   | D | 2      | 2    |\n",
    "| 3  | A   | B |1.5     | 1.25 |\n",
    "| 4  | D   | C | 3      | 3    |\n"
   ]
  },
  {
   "cell_type": "markdown",
   "id": "a8b8e339",
   "metadata": {},
   "source": [
    "Para hacer esto lo primero será crear una columna llamada `pickup_dropoff` donde juntemos los ID de los puntos de comienzo y final de trayecto."
   ]
  },
  {
   "cell_type": "code",
   "execution_count": 50,
   "id": "f725759f",
   "metadata": {},
   "outputs": [
    {
     "data": {
      "text/plain": [
       "0    100 231\n",
       "1     186 43\n",
       "2    262 236\n",
       "Name: pickup_dropoff, dtype: object"
      ]
     },
     "execution_count": 50,
     "metadata": {},
     "output_type": "execute_result"
    }
   ],
   "source": [
    "df0['pickup_dropoff'] = df0['PULocationID'].astype(str) + ' ' + df0['DOLocationID'].astype(str)\n",
    "df0['pickup_dropoff'].head(3)"
   ]
  },
  {
   "cell_type": "code",
   "execution_count": 51,
   "id": "24575074",
   "metadata": {},
   "outputs": [
    {
     "data": {
      "text/html": [
       "<div>\n",
       "<style scoped>\n",
       "    .dataframe tbody tr th:only-of-type {\n",
       "        vertical-align: middle;\n",
       "    }\n",
       "\n",
       "    .dataframe tbody tr th {\n",
       "        vertical-align: top;\n",
       "    }\n",
       "\n",
       "    .dataframe thead th {\n",
       "        text-align: right;\n",
       "    }\n",
       "</style>\n",
       "<table border=\"1\" class=\"dataframe\">\n",
       "  <thead>\n",
       "    <tr style=\"text-align: right;\">\n",
       "      <th></th>\n",
       "      <th>trip_distance</th>\n",
       "    </tr>\n",
       "    <tr>\n",
       "      <th>pickup_dropoff</th>\n",
       "      <th></th>\n",
       "    </tr>\n",
       "  </thead>\n",
       "  <tbody>\n",
       "    <tr>\n",
       "      <th>1 1</th>\n",
       "      <td>2.433333</td>\n",
       "    </tr>\n",
       "    <tr>\n",
       "      <th>10 148</th>\n",
       "      <td>15.700000</td>\n",
       "    </tr>\n",
       "    <tr>\n",
       "      <th>100 1</th>\n",
       "      <td>16.890000</td>\n",
       "    </tr>\n",
       "    <tr>\n",
       "      <th>100 100</th>\n",
       "      <td>0.253333</td>\n",
       "    </tr>\n",
       "    <tr>\n",
       "      <th>100 107</th>\n",
       "      <td>1.180000</td>\n",
       "    </tr>\n",
       "  </tbody>\n",
       "</table>\n",
       "</div>"
      ],
      "text/plain": [
       "                trip_distance\n",
       "pickup_dropoff               \n",
       "1 1                  2.433333\n",
       "10 148              15.700000\n",
       "100 1               16.890000\n",
       "100 100              0.253333\n",
       "100 107              1.180000"
      ]
     },
     "execution_count": 51,
     "metadata": {},
     "output_type": "execute_result"
    }
   ],
   "source": [
    "grouped = df0.groupby('pickup_dropoff')[['trip_distance']].mean(numeric_only = True)\n",
    "grouped[:5]"
   ]
  },
  {
   "cell_type": "code",
   "execution_count": 52,
   "id": "cd7556e2",
   "metadata": {},
   "outputs": [],
   "source": [
    "grouped_dict = grouped.to_dict()\n",
    "\n",
    "grouped_dict = grouped_dict['trip_distance']"
   ]
  },
  {
   "cell_type": "code",
   "execution_count": 53,
   "id": "3b242eac",
   "metadata": {},
   "outputs": [
    {
     "data": {
      "text/html": [
       "<div>\n",
       "<style scoped>\n",
       "    .dataframe tbody tr th:only-of-type {\n",
       "        vertical-align: middle;\n",
       "    }\n",
       "\n",
       "    .dataframe tbody tr th {\n",
       "        vertical-align: top;\n",
       "    }\n",
       "\n",
       "    .dataframe thead th {\n",
       "        text-align: right;\n",
       "    }\n",
       "</style>\n",
       "<table border=\"1\" class=\"dataframe\">\n",
       "  <thead>\n",
       "    <tr style=\"text-align: right;\">\n",
       "      <th></th>\n",
       "      <th>mean_distance</th>\n",
       "    </tr>\n",
       "  </thead>\n",
       "  <tbody>\n",
       "    <tr>\n",
       "      <th>0</th>\n",
       "      <td>3.521667</td>\n",
       "    </tr>\n",
       "    <tr>\n",
       "      <th>4909</th>\n",
       "      <td>3.521667</td>\n",
       "    </tr>\n",
       "    <tr>\n",
       "      <th>16636</th>\n",
       "      <td>3.521667</td>\n",
       "    </tr>\n",
       "    <tr>\n",
       "      <th>18134</th>\n",
       "      <td>3.521667</td>\n",
       "    </tr>\n",
       "    <tr>\n",
       "      <th>19761</th>\n",
       "      <td>3.521667</td>\n",
       "    </tr>\n",
       "    <tr>\n",
       "      <th>20581</th>\n",
       "      <td>3.521667</td>\n",
       "    </tr>\n",
       "  </tbody>\n",
       "</table>\n",
       "</div>"
      ],
      "text/plain": [
       "       mean_distance\n",
       "0           3.521667\n",
       "4909        3.521667\n",
       "16636       3.521667\n",
       "18134       3.521667\n",
       "19761       3.521667\n",
       "20581       3.521667"
      ]
     },
     "execution_count": 53,
     "metadata": {},
     "output_type": "execute_result"
    }
   ],
   "source": [
    "df0['mean_distance'] = df0['pickup_dropoff']\n",
    "\n",
    "df0['mean_distance'] = df0['mean_distance'].map(grouped_dict)\n",
    "\n",
    "df0[(df0['PULocationID'] == 100) & (df0['DOLocationID'] == 231)][['mean_distance']]"
   ]
  },
  {
   "cell_type": "markdown",
   "id": "d2613053",
   "metadata": {},
   "source": [
    "Como podemos ver la columna nos da una distancia media dependiendo del ID. En la celda superior podemos ver que todos los viajes que han salido de '100' y han acabado en '231' tienen el mismo valor en la columna de `mean_distance`. Esta columna será muy útil a la hora de construir el modelo."
   ]
  },
  {
   "cell_type": "markdown",
   "id": "c755529f",
   "metadata": {},
   "source": [
    "#### Construir la columna `mean_duration` "
   ]
  },
  {
   "cell_type": "markdown",
   "id": "e95a5555",
   "metadata": {},
   "source": [
    "Vamos a realizar lo mismo que con la columna anterior pero esta vez asociando a cada viaje una duración media dependiendo del punto de salida y el punto de llegada."
   ]
  },
  {
   "cell_type": "code",
   "execution_count": 54,
   "id": "10c7ece4",
   "metadata": {},
   "outputs": [
    {
     "data": {
      "text/html": [
       "<div>\n",
       "<style scoped>\n",
       "    .dataframe tbody tr th:only-of-type {\n",
       "        vertical-align: middle;\n",
       "    }\n",
       "\n",
       "    .dataframe tbody tr th {\n",
       "        vertical-align: top;\n",
       "    }\n",
       "\n",
       "    .dataframe thead th {\n",
       "        text-align: right;\n",
       "    }\n",
       "</style>\n",
       "<table border=\"1\" class=\"dataframe\">\n",
       "  <thead>\n",
       "    <tr style=\"text-align: right;\">\n",
       "      <th></th>\n",
       "      <th>mean_duration</th>\n",
       "    </tr>\n",
       "  </thead>\n",
       "  <tbody>\n",
       "    <tr>\n",
       "      <th>0</th>\n",
       "      <td>22.847222</td>\n",
       "    </tr>\n",
       "    <tr>\n",
       "      <th>4909</th>\n",
       "      <td>22.847222</td>\n",
       "    </tr>\n",
       "    <tr>\n",
       "      <th>16636</th>\n",
       "      <td>22.847222</td>\n",
       "    </tr>\n",
       "    <tr>\n",
       "      <th>18134</th>\n",
       "      <td>22.847222</td>\n",
       "    </tr>\n",
       "    <tr>\n",
       "      <th>19761</th>\n",
       "      <td>22.847222</td>\n",
       "    </tr>\n",
       "    <tr>\n",
       "      <th>20581</th>\n",
       "      <td>22.847222</td>\n",
       "    </tr>\n",
       "  </tbody>\n",
       "</table>\n",
       "</div>"
      ],
      "text/plain": [
       "       mean_duration\n",
       "0          22.847222\n",
       "4909       22.847222\n",
       "16636      22.847222\n",
       "18134      22.847222\n",
       "19761      22.847222\n",
       "20581      22.847222"
      ]
     },
     "execution_count": 54,
     "metadata": {},
     "output_type": "execute_result"
    }
   ],
   "source": [
    "grouped = df0.groupby('pickup_dropoff')[['duration']].mean(numeric_only = True)\n",
    "grouped\n",
    "\n",
    "grouped_dict = grouped.to_dict()\n",
    "grouped_dict = grouped_dict['duration']\n",
    "\n",
    "df0['mean_duration'] = df0['pickup_dropoff']\n",
    "df0['mean_duration'] = df0['mean_duration'].map(grouped_dict)\n",
    "\n",
    "df0[(df0['PULocationID'] == 100) & (df0['DOLocationID'] == 231)][['mean_duration']]"
   ]
  },
  {
   "cell_type": "markdown",
   "id": "97888229",
   "metadata": {},
   "source": [
    "#### Construir la columna `rush_hour`"
   ]
  },
  {
   "cell_type": "markdown",
   "id": "07af60e1",
   "metadata": {},
   "source": [
    "La 'rush hour' se va a definir como:\n",
    "- Cualquier día entre semana (no sábados y dómingos)\n",
    "- Los intervalos de 6:00-10:00 y 16:00-20:00\n",
    "\n",
    "Vamos a crear una columna binaria que nos indique si el viaje se ha realizado durante la 'rush_hour' o no."
   ]
  },
  {
   "cell_type": "code",
   "execution_count": 55,
   "id": "8ec18fea",
   "metadata": {},
   "outputs": [],
   "source": [
    "df0['rush_hour'] = df0['tpep_pickup_datetime'].dt.hour\n",
    "\n",
    "df0.loc[df0['day'].isin(['Saturday', 'Sunday']), 'rush_hour'] = 0"
   ]
  },
  {
   "cell_type": "code",
   "execution_count": 56,
   "id": "31429995",
   "metadata": {},
   "outputs": [],
   "source": [
    "def rush_horizer(hour):\n",
    "    if 6 <= hour['rush_hour'] < 10:\n",
    "        val = 1\n",
    "    elif 16 <= hour['rush_hour'] < 20:\n",
    "        val = 1\n",
    "    else: \n",
    "        val = 0\n",
    "    return val"
   ]
  },
  {
   "cell_type": "code",
   "execution_count": 57,
   "id": "30bc0631",
   "metadata": {},
   "outputs": [
    {
     "data": {
      "text/html": [
       "<div>\n",
       "<style scoped>\n",
       "    .dataframe tbody tr th:only-of-type {\n",
       "        vertical-align: middle;\n",
       "    }\n",
       "\n",
       "    .dataframe tbody tr th {\n",
       "        vertical-align: top;\n",
       "    }\n",
       "\n",
       "    .dataframe thead th {\n",
       "        text-align: right;\n",
       "    }\n",
       "</style>\n",
       "<table border=\"1\" class=\"dataframe\">\n",
       "  <thead>\n",
       "    <tr style=\"text-align: right;\">\n",
       "      <th></th>\n",
       "      <th>Unnamed: 0</th>\n",
       "      <th>VendorID</th>\n",
       "      <th>tpep_pickup_datetime</th>\n",
       "      <th>tpep_dropoff_datetime</th>\n",
       "      <th>passenger_count</th>\n",
       "      <th>trip_distance</th>\n",
       "      <th>RatecodeID</th>\n",
       "      <th>store_and_fwd_flag</th>\n",
       "      <th>PULocationID</th>\n",
       "      <th>DOLocationID</th>\n",
       "      <th>payment_type</th>\n",
       "      <th>fare_amount</th>\n",
       "      <th>extra</th>\n",
       "      <th>mta_tax</th>\n",
       "      <th>tip_amount</th>\n",
       "      <th>tolls_amount</th>\n",
       "      <th>improvement_surcharge</th>\n",
       "      <th>total_amount</th>\n",
       "      <th>duration</th>\n",
       "      <th>month</th>\n",
       "      <th>day</th>\n",
       "      <th>pickup_dropoff</th>\n",
       "      <th>mean_distance</th>\n",
       "      <th>mean_duration</th>\n",
       "      <th>rush_hour</th>\n",
       "    </tr>\n",
       "  </thead>\n",
       "  <tbody>\n",
       "    <tr>\n",
       "      <th>0</th>\n",
       "      <td>24870114</td>\n",
       "      <td>2</td>\n",
       "      <td>2017-03-25 08:55:43</td>\n",
       "      <td>2017-03-25 09:09:47</td>\n",
       "      <td>6</td>\n",
       "      <td>3.34</td>\n",
       "      <td>1</td>\n",
       "      <td>N</td>\n",
       "      <td>100</td>\n",
       "      <td>231</td>\n",
       "      <td>1</td>\n",
       "      <td>13.0</td>\n",
       "      <td>0.0</td>\n",
       "      <td>0.5</td>\n",
       "      <td>2.76</td>\n",
       "      <td>0.0</td>\n",
       "      <td>0.3</td>\n",
       "      <td>16.56</td>\n",
       "      <td>14.066667</td>\n",
       "      <td>March</td>\n",
       "      <td>Saturday</td>\n",
       "      <td>100 231</td>\n",
       "      <td>3.521667</td>\n",
       "      <td>22.847222</td>\n",
       "      <td>0</td>\n",
       "    </tr>\n",
       "    <tr>\n",
       "      <th>1</th>\n",
       "      <td>35634249</td>\n",
       "      <td>1</td>\n",
       "      <td>2017-04-11 14:53:28</td>\n",
       "      <td>2017-04-11 15:19:58</td>\n",
       "      <td>1</td>\n",
       "      <td>1.80</td>\n",
       "      <td>1</td>\n",
       "      <td>N</td>\n",
       "      <td>186</td>\n",
       "      <td>43</td>\n",
       "      <td>1</td>\n",
       "      <td>16.0</td>\n",
       "      <td>0.0</td>\n",
       "      <td>0.5</td>\n",
       "      <td>4.00</td>\n",
       "      <td>0.0</td>\n",
       "      <td>0.3</td>\n",
       "      <td>20.80</td>\n",
       "      <td>26.500000</td>\n",
       "      <td>April</td>\n",
       "      <td>Tuesday</td>\n",
       "      <td>186 43</td>\n",
       "      <td>3.108889</td>\n",
       "      <td>24.470370</td>\n",
       "      <td>0</td>\n",
       "    </tr>\n",
       "    <tr>\n",
       "      <th>2</th>\n",
       "      <td>106203690</td>\n",
       "      <td>1</td>\n",
       "      <td>2017-12-15 07:26:56</td>\n",
       "      <td>2017-12-15 07:34:08</td>\n",
       "      <td>1</td>\n",
       "      <td>1.00</td>\n",
       "      <td>1</td>\n",
       "      <td>N</td>\n",
       "      <td>262</td>\n",
       "      <td>236</td>\n",
       "      <td>1</td>\n",
       "      <td>6.5</td>\n",
       "      <td>0.0</td>\n",
       "      <td>0.5</td>\n",
       "      <td>1.45</td>\n",
       "      <td>0.0</td>\n",
       "      <td>0.3</td>\n",
       "      <td>8.75</td>\n",
       "      <td>7.200000</td>\n",
       "      <td>December</td>\n",
       "      <td>Friday</td>\n",
       "      <td>262 236</td>\n",
       "      <td>0.881429</td>\n",
       "      <td>7.250000</td>\n",
       "      <td>1</td>\n",
       "    </tr>\n",
       "    <tr>\n",
       "      <th>3</th>\n",
       "      <td>38942136</td>\n",
       "      <td>2</td>\n",
       "      <td>2017-05-07 13:17:59</td>\n",
       "      <td>2017-05-07 13:48:14</td>\n",
       "      <td>1</td>\n",
       "      <td>3.70</td>\n",
       "      <td>1</td>\n",
       "      <td>N</td>\n",
       "      <td>188</td>\n",
       "      <td>97</td>\n",
       "      <td>1</td>\n",
       "      <td>20.5</td>\n",
       "      <td>0.0</td>\n",
       "      <td>0.5</td>\n",
       "      <td>6.39</td>\n",
       "      <td>0.0</td>\n",
       "      <td>0.3</td>\n",
       "      <td>27.69</td>\n",
       "      <td>30.250000</td>\n",
       "      <td>May</td>\n",
       "      <td>Sunday</td>\n",
       "      <td>188 97</td>\n",
       "      <td>3.700000</td>\n",
       "      <td>30.250000</td>\n",
       "      <td>0</td>\n",
       "    </tr>\n",
       "    <tr>\n",
       "      <th>4</th>\n",
       "      <td>30841670</td>\n",
       "      <td>2</td>\n",
       "      <td>2017-04-15 23:32:20</td>\n",
       "      <td>2017-04-15 23:49:03</td>\n",
       "      <td>1</td>\n",
       "      <td>4.37</td>\n",
       "      <td>1</td>\n",
       "      <td>N</td>\n",
       "      <td>4</td>\n",
       "      <td>112</td>\n",
       "      <td>2</td>\n",
       "      <td>16.5</td>\n",
       "      <td>0.5</td>\n",
       "      <td>0.5</td>\n",
       "      <td>0.00</td>\n",
       "      <td>0.0</td>\n",
       "      <td>0.3</td>\n",
       "      <td>17.80</td>\n",
       "      <td>16.716667</td>\n",
       "      <td>April</td>\n",
       "      <td>Saturday</td>\n",
       "      <td>4 112</td>\n",
       "      <td>4.435000</td>\n",
       "      <td>14.616667</td>\n",
       "      <td>0</td>\n",
       "    </tr>\n",
       "  </tbody>\n",
       "</table>\n",
       "</div>"
      ],
      "text/plain": [
       "   Unnamed: 0  VendorID tpep_pickup_datetime tpep_dropoff_datetime  \\\n",
       "0    24870114         2  2017-03-25 08:55:43   2017-03-25 09:09:47   \n",
       "1    35634249         1  2017-04-11 14:53:28   2017-04-11 15:19:58   \n",
       "2   106203690         1  2017-12-15 07:26:56   2017-12-15 07:34:08   \n",
       "3    38942136         2  2017-05-07 13:17:59   2017-05-07 13:48:14   \n",
       "4    30841670         2  2017-04-15 23:32:20   2017-04-15 23:49:03   \n",
       "\n",
       "   passenger_count  trip_distance  RatecodeID store_and_fwd_flag  \\\n",
       "0                6           3.34           1                  N   \n",
       "1                1           1.80           1                  N   \n",
       "2                1           1.00           1                  N   \n",
       "3                1           3.70           1                  N   \n",
       "4                1           4.37           1                  N   \n",
       "\n",
       "   PULocationID  DOLocationID  payment_type  fare_amount  extra  mta_tax  \\\n",
       "0           100           231             1         13.0    0.0      0.5   \n",
       "1           186            43             1         16.0    0.0      0.5   \n",
       "2           262           236             1          6.5    0.0      0.5   \n",
       "3           188            97             1         20.5    0.0      0.5   \n",
       "4             4           112             2         16.5    0.5      0.5   \n",
       "\n",
       "   tip_amount  tolls_amount  improvement_surcharge  total_amount   duration  \\\n",
       "0        2.76           0.0                    0.3         16.56  14.066667   \n",
       "1        4.00           0.0                    0.3         20.80  26.500000   \n",
       "2        1.45           0.0                    0.3          8.75   7.200000   \n",
       "3        6.39           0.0                    0.3         27.69  30.250000   \n",
       "4        0.00           0.0                    0.3         17.80  16.716667   \n",
       "\n",
       "      month       day pickup_dropoff  mean_distance  mean_duration  rush_hour  \n",
       "0     March  Saturday        100 231       3.521667      22.847222          0  \n",
       "1     April   Tuesday         186 43       3.108889      24.470370          0  \n",
       "2  December    Friday        262 236       0.881429       7.250000          1  \n",
       "3       May    Sunday         188 97       3.700000      30.250000          0  \n",
       "4     April  Saturday          4 112       4.435000      14.616667          0  "
      ]
     },
     "execution_count": 57,
     "metadata": {},
     "output_type": "execute_result"
    }
   ],
   "source": [
    "df0.loc[(df0.day != 'Saturday') & (df0.day != 'Sunday'), 'rush_hour'] = df0.apply(rush_horizer, axis = 1)\n",
    "df0.head()"
   ]
  },
  {
   "cell_type": "code",
   "execution_count": 58,
   "id": "9b4b64b3",
   "metadata": {},
   "outputs": [
    {
     "data": {
      "text/plain": [
       "0    15940\n",
       "1     6725\n",
       "Name: rush_hour, dtype: int64"
      ]
     },
     "execution_count": 58,
     "metadata": {},
     "output_type": "execute_result"
    }
   ],
   "source": [
    "df0['rush_hour'].value_counts()"
   ]
  },
  {
   "cell_type": "code",
   "execution_count": 59,
   "id": "1aee8d9b",
   "metadata": {},
   "outputs": [
    {
     "data": {
      "image/png": "[encoded data removed]",
      "text/plain": [
       "<Figure size 360x360 with 1 Axes>"
      ]
     },
     "metadata": {},
     "output_type": "display_data"
    }
   ],
   "source": [
    "#Gráfico de la duración media frente a la cantidad \n",
    "sns.set(style = 'whitegrid')\n",
    "f = plt.figure()\n",
    "f.set_figwidth(5)\n",
    "f.set_figheight(5)\n",
    "sns.regplot(x = df0['mean_duration'], y = df0['fare_amount'],\n",
    "            scatter_kws = {'alpha':0.5, 's':5},\n",
    "            line_kws = {'color':'red'})\n",
    "plt.ylim(0,70)\n",
    "plt.xlim(0,70)\n",
    "plt.title('Mean duration x fare amount');"
   ]
  },
  {
   "cell_type": "markdown",
   "id": "71015798",
   "metadata": {},
   "source": [
    "La variable `mean_duration` tiene una clara correlación positiva con la varriable objetivo a predecir en el modelo, `fare_amount` en este caso. Pero aparece una pregunta, ¿qué son las líneas horizontales que aparecen en 52 y 63 dólares? \n",
    "\n",
    "Una de las filas sabemos su causa. Todos los valores en 62,50 dólares es debido a que se modificaron todos los datos que superaban el umbral superior. ¿Cuál es la otra línea?"
   ]
  },
  {
   "cell_type": "code",
   "execution_count": 60,
   "id": "20dbfabe",
   "metadata": {},
   "outputs": [
    {
     "data": {
      "text/plain": [
       "52.0    514\n",
       "62.5     82\n",
       "59.0      9\n",
       "50.5      9\n",
       "57.5      8\n",
       "Name: fare_amount, dtype: int64"
      ]
     },
     "execution_count": 60,
     "metadata": {},
     "output_type": "execute_result"
    }
   ],
   "source": [
    "df0[df0['fare_amount'] > 50]['fare_amount'].value_counts().head()"
   ]
  },
  {
   "cell_type": "code",
   "execution_count": 61,
   "id": "3322c034",
   "metadata": {},
   "outputs": [
    {
     "data": {
      "text/html": [
       "<div>\n",
       "<style scoped>\n",
       "    .dataframe tbody tr th:only-of-type {\n",
       "        vertical-align: middle;\n",
       "    }\n",
       "\n",
       "    .dataframe tbody tr th {\n",
       "        vertical-align: top;\n",
       "    }\n",
       "\n",
       "    .dataframe thead th {\n",
       "        text-align: right;\n",
       "    }\n",
       "</style>\n",
       "<table border=\"1\" class=\"dataframe\">\n",
       "  <thead>\n",
       "    <tr style=\"text-align: right;\">\n",
       "      <th></th>\n",
       "      <th>Unnamed: 0</th>\n",
       "      <th>VendorID</th>\n",
       "      <th>tpep_pickup_datetime</th>\n",
       "      <th>tpep_dropoff_datetime</th>\n",
       "      <th>passenger_count</th>\n",
       "      <th>trip_distance</th>\n",
       "      <th>RatecodeID</th>\n",
       "      <th>store_and_fwd_flag</th>\n",
       "      <th>PULocationID</th>\n",
       "      <th>DOLocationID</th>\n",
       "      <th>payment_type</th>\n",
       "      <th>fare_amount</th>\n",
       "      <th>extra</th>\n",
       "      <th>mta_tax</th>\n",
       "      <th>tip_amount</th>\n",
       "      <th>tolls_amount</th>\n",
       "      <th>improvement_surcharge</th>\n",
       "      <th>total_amount</th>\n",
       "      <th>duration</th>\n",
       "      <th>month</th>\n",
       "      <th>day</th>\n",
       "      <th>pickup_dropoff</th>\n",
       "      <th>mean_distance</th>\n",
       "      <th>mean_duration</th>\n",
       "      <th>rush_hour</th>\n",
       "    </tr>\n",
       "  </thead>\n",
       "  <tbody>\n",
       "    <tr>\n",
       "      <th>11</th>\n",
       "      <td>18600059</td>\n",
       "      <td>2</td>\n",
       "      <td>2017-03-05 19:15:30</td>\n",
       "      <td>2017-03-05 19:52:18</td>\n",
       "      <td>2</td>\n",
       "      <td>18.90</td>\n",
       "      <td>2</td>\n",
       "      <td>N</td>\n",
       "      <td>236</td>\n",
       "      <td>132</td>\n",
       "      <td>1</td>\n",
       "      <td>52.0</td>\n",
       "      <td>0.0</td>\n",
       "      <td>0.5</td>\n",
       "      <td>14.58</td>\n",
       "      <td>5.54</td>\n",
       "      <td>0.3</td>\n",
       "      <td>72.92</td>\n",
       "      <td>36.800000</td>\n",
       "      <td>March</td>\n",
       "      <td>Sunday</td>\n",
       "      <td>236 132</td>\n",
       "      <td>19.211667</td>\n",
       "      <td>40.500000</td>\n",
       "      <td>0</td>\n",
       "    </tr>\n",
       "    <tr>\n",
       "      <th>21</th>\n",
       "      <td>85505540</td>\n",
       "      <td>2</td>\n",
       "      <td>2017-10-11 12:34:49</td>\n",
       "      <td>2017-10-11 13:22:38</td>\n",
       "      <td>1</td>\n",
       "      <td>12.30</td>\n",
       "      <td>5</td>\n",
       "      <td>N</td>\n",
       "      <td>138</td>\n",
       "      <td>265</td>\n",
       "      <td>1</td>\n",
       "      <td>62.5</td>\n",
       "      <td>0.0</td>\n",
       "      <td>0.0</td>\n",
       "      <td>12.00</td>\n",
       "      <td>16.26</td>\n",
       "      <td>0.3</td>\n",
       "      <td>96.81</td>\n",
       "      <td>47.816667</td>\n",
       "      <td>October</td>\n",
       "      <td>Wednesday</td>\n",
       "      <td>138 265</td>\n",
       "      <td>20.552000</td>\n",
       "      <td>39.376667</td>\n",
       "      <td>0</td>\n",
       "    </tr>\n",
       "    <tr>\n",
       "      <th>29</th>\n",
       "      <td>94052446</td>\n",
       "      <td>2</td>\n",
       "      <td>2017-11-06 20:30:50</td>\n",
       "      <td>2017-11-07 00:00:00</td>\n",
       "      <td>1</td>\n",
       "      <td>30.83</td>\n",
       "      <td>1</td>\n",
       "      <td>N</td>\n",
       "      <td>132</td>\n",
       "      <td>23</td>\n",
       "      <td>1</td>\n",
       "      <td>62.5</td>\n",
       "      <td>0.5</td>\n",
       "      <td>0.5</td>\n",
       "      <td>18.56</td>\n",
       "      <td>11.52</td>\n",
       "      <td>0.3</td>\n",
       "      <td>111.38</td>\n",
       "      <td>88.783333</td>\n",
       "      <td>November</td>\n",
       "      <td>Monday</td>\n",
       "      <td>132 23</td>\n",
       "      <td>30.830000</td>\n",
       "      <td>88.783333</td>\n",
       "      <td>0</td>\n",
       "    </tr>\n",
       "    <tr>\n",
       "      <th>110</th>\n",
       "      <td>47959795</td>\n",
       "      <td>1</td>\n",
       "      <td>2017-06-03 14:24:57</td>\n",
       "      <td>2017-06-03 15:31:48</td>\n",
       "      <td>1</td>\n",
       "      <td>18.00</td>\n",
       "      <td>2</td>\n",
       "      <td>N</td>\n",
       "      <td>132</td>\n",
       "      <td>163</td>\n",
       "      <td>1</td>\n",
       "      <td>52.0</td>\n",
       "      <td>0.0</td>\n",
       "      <td>0.5</td>\n",
       "      <td>0.00</td>\n",
       "      <td>0.00</td>\n",
       "      <td>0.3</td>\n",
       "      <td>52.80</td>\n",
       "      <td>66.850000</td>\n",
       "      <td>June</td>\n",
       "      <td>Saturday</td>\n",
       "      <td>132 163</td>\n",
       "      <td>19.229000</td>\n",
       "      <td>52.941667</td>\n",
       "      <td>0</td>\n",
       "    </tr>\n",
       "    <tr>\n",
       "      <th>156</th>\n",
       "      <td>104881101</td>\n",
       "      <td>1</td>\n",
       "      <td>2017-12-11 10:21:18</td>\n",
       "      <td>2017-12-11 11:14:57</td>\n",
       "      <td>1</td>\n",
       "      <td>15.60</td>\n",
       "      <td>1</td>\n",
       "      <td>N</td>\n",
       "      <td>138</td>\n",
       "      <td>88</td>\n",
       "      <td>1</td>\n",
       "      <td>51.5</td>\n",
       "      <td>0.0</td>\n",
       "      <td>0.5</td>\n",
       "      <td>11.60</td>\n",
       "      <td>5.76</td>\n",
       "      <td>0.3</td>\n",
       "      <td>69.66</td>\n",
       "      <td>53.650000</td>\n",
       "      <td>December</td>\n",
       "      <td>Monday</td>\n",
       "      <td>138 88</td>\n",
       "      <td>15.393333</td>\n",
       "      <td>64.316667</td>\n",
       "      <td>0</td>\n",
       "    </tr>\n",
       "    <tr>\n",
       "      <th>161</th>\n",
       "      <td>95729204</td>\n",
       "      <td>2</td>\n",
       "      <td>2017-11-11 20:16:16</td>\n",
       "      <td>2017-11-11 20:17:14</td>\n",
       "      <td>1</td>\n",
       "      <td>0.23</td>\n",
       "      <td>2</td>\n",
       "      <td>N</td>\n",
       "      <td>132</td>\n",
       "      <td>132</td>\n",
       "      <td>2</td>\n",
       "      <td>52.0</td>\n",
       "      <td>0.0</td>\n",
       "      <td>0.5</td>\n",
       "      <td>0.00</td>\n",
       "      <td>0.00</td>\n",
       "      <td>0.3</td>\n",
       "      <td>52.80</td>\n",
       "      <td>0.966667</td>\n",
       "      <td>November</td>\n",
       "      <td>Saturday</td>\n",
       "      <td>132 132</td>\n",
       "      <td>2.255862</td>\n",
       "      <td>3.021839</td>\n",
       "      <td>0</td>\n",
       "    </tr>\n",
       "    <tr>\n",
       "      <th>174</th>\n",
       "      <td>53109134</td>\n",
       "      <td>1</td>\n",
       "      <td>2017-06-22 14:22:05</td>\n",
       "      <td>2017-06-22 16:07:28</td>\n",
       "      <td>1</td>\n",
       "      <td>16.90</td>\n",
       "      <td>1</td>\n",
       "      <td>N</td>\n",
       "      <td>230</td>\n",
       "      <td>219</td>\n",
       "      <td>2</td>\n",
       "      <td>62.5</td>\n",
       "      <td>0.0</td>\n",
       "      <td>0.5</td>\n",
       "      <td>0.00</td>\n",
       "      <td>0.00</td>\n",
       "      <td>0.3</td>\n",
       "      <td>72.30</td>\n",
       "      <td>88.783333</td>\n",
       "      <td>June</td>\n",
       "      <td>Thursday</td>\n",
       "      <td>230 219</td>\n",
       "      <td>16.900000</td>\n",
       "      <td>88.783333</td>\n",
       "      <td>0</td>\n",
       "    </tr>\n",
       "    <tr>\n",
       "      <th>176</th>\n",
       "      <td>50046493</td>\n",
       "      <td>2</td>\n",
       "      <td>2017-06-13 20:05:03</td>\n",
       "      <td>2017-06-13 20:42:53</td>\n",
       "      <td>1</td>\n",
       "      <td>18.05</td>\n",
       "      <td>3</td>\n",
       "      <td>N</td>\n",
       "      <td>163</td>\n",
       "      <td>1</td>\n",
       "      <td>2</td>\n",
       "      <td>62.5</td>\n",
       "      <td>0.5</td>\n",
       "      <td>0.0</td>\n",
       "      <td>0.00</td>\n",
       "      <td>10.50</td>\n",
       "      <td>0.3</td>\n",
       "      <td>80.80</td>\n",
       "      <td>37.833333</td>\n",
       "      <td>June</td>\n",
       "      <td>Tuesday</td>\n",
       "      <td>163 1</td>\n",
       "      <td>18.050000</td>\n",
       "      <td>37.833333</td>\n",
       "      <td>0</td>\n",
       "    </tr>\n",
       "    <tr>\n",
       "      <th>220</th>\n",
       "      <td>95620783</td>\n",
       "      <td>2</td>\n",
       "      <td>2017-11-11 13:39:55</td>\n",
       "      <td>2017-11-11 14:53:05</td>\n",
       "      <td>1</td>\n",
       "      <td>13.61</td>\n",
       "      <td>1</td>\n",
       "      <td>N</td>\n",
       "      <td>132</td>\n",
       "      <td>181</td>\n",
       "      <td>1</td>\n",
       "      <td>55.0</td>\n",
       "      <td>0.0</td>\n",
       "      <td>0.5</td>\n",
       "      <td>11.16</td>\n",
       "      <td>0.00</td>\n",
       "      <td>0.3</td>\n",
       "      <td>66.96</td>\n",
       "      <td>73.166667</td>\n",
       "      <td>November</td>\n",
       "      <td>Saturday</td>\n",
       "      <td>132 181</td>\n",
       "      <td>17.358571</td>\n",
       "      <td>42.697619</td>\n",
       "      <td>0</td>\n",
       "    </tr>\n",
       "    <tr>\n",
       "      <th>242</th>\n",
       "      <td>67332929</td>\n",
       "      <td>2</td>\n",
       "      <td>2017-08-09 08:32:09</td>\n",
       "      <td>2017-08-09 09:31:11</td>\n",
       "      <td>1</td>\n",
       "      <td>15.89</td>\n",
       "      <td>1</td>\n",
       "      <td>N</td>\n",
       "      <td>138</td>\n",
       "      <td>87</td>\n",
       "      <td>1</td>\n",
       "      <td>53.0</td>\n",
       "      <td>0.0</td>\n",
       "      <td>0.5</td>\n",
       "      <td>10.00</td>\n",
       "      <td>5.76</td>\n",
       "      <td>0.3</td>\n",
       "      <td>69.56</td>\n",
       "      <td>59.033333</td>\n",
       "      <td>August</td>\n",
       "      <td>Wednesday</td>\n",
       "      <td>138 87</td>\n",
       "      <td>13.812500</td>\n",
       "      <td>44.284722</td>\n",
       "      <td>1</td>\n",
       "    </tr>\n",
       "    <tr>\n",
       "      <th>247</th>\n",
       "      <td>103404868</td>\n",
       "      <td>2</td>\n",
       "      <td>2017-12-06 23:37:08</td>\n",
       "      <td>2017-12-07 00:06:19</td>\n",
       "      <td>1</td>\n",
       "      <td>18.93</td>\n",
       "      <td>2</td>\n",
       "      <td>N</td>\n",
       "      <td>132</td>\n",
       "      <td>79</td>\n",
       "      <td>2</td>\n",
       "      <td>52.0</td>\n",
       "      <td>0.0</td>\n",
       "      <td>0.5</td>\n",
       "      <td>0.00</td>\n",
       "      <td>0.00</td>\n",
       "      <td>0.3</td>\n",
       "      <td>52.80</td>\n",
       "      <td>29.183333</td>\n",
       "      <td>December</td>\n",
       "      <td>Wednesday</td>\n",
       "      <td>132 79</td>\n",
       "      <td>19.431667</td>\n",
       "      <td>47.275000</td>\n",
       "      <td>0</td>\n",
       "    </tr>\n",
       "    <tr>\n",
       "      <th>316</th>\n",
       "      <td>61694138</td>\n",
       "      <td>2</td>\n",
       "      <td>2017-07-20 13:21:55</td>\n",
       "      <td>2017-07-20 14:21:20</td>\n",
       "      <td>1</td>\n",
       "      <td>17.86</td>\n",
       "      <td>3</td>\n",
       "      <td>N</td>\n",
       "      <td>170</td>\n",
       "      <td>1</td>\n",
       "      <td>1</td>\n",
       "      <td>62.5</td>\n",
       "      <td>0.0</td>\n",
       "      <td>0.0</td>\n",
       "      <td>0.00</td>\n",
       "      <td>16.50</td>\n",
       "      <td>0.3</td>\n",
       "      <td>94.80</td>\n",
       "      <td>59.416667</td>\n",
       "      <td>July</td>\n",
       "      <td>Thursday</td>\n",
       "      <td>170 1</td>\n",
       "      <td>16.876667</td>\n",
       "      <td>38.955556</td>\n",
       "      <td>0</td>\n",
       "    </tr>\n",
       "    <tr>\n",
       "      <th>356</th>\n",
       "      <td>108458749</td>\n",
       "      <td>2</td>\n",
       "      <td>2017-12-21 21:31:12</td>\n",
       "      <td>2017-12-21 22:11:58</td>\n",
       "      <td>6</td>\n",
       "      <td>18.17</td>\n",
       "      <td>1</td>\n",
       "      <td>N</td>\n",
       "      <td>132</td>\n",
       "      <td>145</td>\n",
       "      <td>1</td>\n",
       "      <td>51.5</td>\n",
       "      <td>0.5</td>\n",
       "      <td>0.5</td>\n",
       "      <td>0.00</td>\n",
       "      <td>0.00</td>\n",
       "      <td>0.3</td>\n",
       "      <td>52.80</td>\n",
       "      <td>40.766667</td>\n",
       "      <td>December</td>\n",
       "      <td>Thursday</td>\n",
       "      <td>132 145</td>\n",
       "      <td>15.837143</td>\n",
       "      <td>40.759524</td>\n",
       "      <td>0</td>\n",
       "    </tr>\n",
       "    <tr>\n",
       "      <th>379</th>\n",
       "      <td>80479432</td>\n",
       "      <td>2</td>\n",
       "      <td>2017-09-24 23:45:45</td>\n",
       "      <td>2017-09-25 00:15:14</td>\n",
       "      <td>1</td>\n",
       "      <td>17.99</td>\n",
       "      <td>2</td>\n",
       "      <td>N</td>\n",
       "      <td>132</td>\n",
       "      <td>234</td>\n",
       "      <td>1</td>\n",
       "      <td>52.0</td>\n",
       "      <td>0.0</td>\n",
       "      <td>0.5</td>\n",
       "      <td>14.64</td>\n",
       "      <td>5.76</td>\n",
       "      <td>0.3</td>\n",
       "      <td>73.20</td>\n",
       "      <td>29.483333</td>\n",
       "      <td>September</td>\n",
       "      <td>Sunday</td>\n",
       "      <td>132 234</td>\n",
       "      <td>17.654000</td>\n",
       "      <td>49.833333</td>\n",
       "      <td>0</td>\n",
       "    </tr>\n",
       "    <tr>\n",
       "      <th>388</th>\n",
       "      <td>16226157</td>\n",
       "      <td>1</td>\n",
       "      <td>2017-02-28 18:30:05</td>\n",
       "      <td>2017-02-28 19:09:55</td>\n",
       "      <td>1</td>\n",
       "      <td>18.40</td>\n",
       "      <td>2</td>\n",
       "      <td>N</td>\n",
       "      <td>132</td>\n",
       "      <td>48</td>\n",
       "      <td>2</td>\n",
       "      <td>52.0</td>\n",
       "      <td>4.5</td>\n",
       "      <td>0.5</td>\n",
       "      <td>0.00</td>\n",
       "      <td>5.54</td>\n",
       "      <td>0.3</td>\n",
       "      <td>62.84</td>\n",
       "      <td>39.833333</td>\n",
       "      <td>February</td>\n",
       "      <td>Tuesday</td>\n",
       "      <td>132 48</td>\n",
       "      <td>18.761905</td>\n",
       "      <td>58.246032</td>\n",
       "      <td>1</td>\n",
       "    </tr>\n",
       "    <tr>\n",
       "      <th>406</th>\n",
       "      <td>55253442</td>\n",
       "      <td>2</td>\n",
       "      <td>2017-06-05 12:51:58</td>\n",
       "      <td>2017-06-05 13:07:35</td>\n",
       "      <td>1</td>\n",
       "      <td>4.73</td>\n",
       "      <td>2</td>\n",
       "      <td>N</td>\n",
       "      <td>228</td>\n",
       "      <td>88</td>\n",
       "      <td>2</td>\n",
       "      <td>52.0</td>\n",
       "      <td>0.0</td>\n",
       "      <td>0.5</td>\n",
       "      <td>0.00</td>\n",
       "      <td>5.76</td>\n",
       "      <td>0.3</td>\n",
       "      <td>58.56</td>\n",
       "      <td>15.616667</td>\n",
       "      <td>June</td>\n",
       "      <td>Monday</td>\n",
       "      <td>228 88</td>\n",
       "      <td>4.730000</td>\n",
       "      <td>15.616667</td>\n",
       "      <td>0</td>\n",
       "    </tr>\n",
       "    <tr>\n",
       "      <th>414</th>\n",
       "      <td>12955020</td>\n",
       "      <td>2</td>\n",
       "      <td>2017-02-18 12:44:04</td>\n",
       "      <td>2017-02-18 13:29:10</td>\n",
       "      <td>6</td>\n",
       "      <td>25.69</td>\n",
       "      <td>1</td>\n",
       "      <td>N</td>\n",
       "      <td>132</td>\n",
       "      <td>106</td>\n",
       "      <td>1</td>\n",
       "      <td>62.5</td>\n",
       "      <td>0.0</td>\n",
       "      <td>0.5</td>\n",
       "      <td>14.06</td>\n",
       "      <td>0.00</td>\n",
       "      <td>0.3</td>\n",
       "      <td>84.36</td>\n",
       "      <td>45.100000</td>\n",
       "      <td>February</td>\n",
       "      <td>Saturday</td>\n",
       "      <td>132 106</td>\n",
       "      <td>20.200000</td>\n",
       "      <td>40.483333</td>\n",
       "      <td>0</td>\n",
       "    </tr>\n",
       "    <tr>\n",
       "      <th>449</th>\n",
       "      <td>65900029</td>\n",
       "      <td>2</td>\n",
       "      <td>2017-08-03 22:47:14</td>\n",
       "      <td>2017-08-03 23:32:41</td>\n",
       "      <td>2</td>\n",
       "      <td>18.21</td>\n",
       "      <td>2</td>\n",
       "      <td>N</td>\n",
       "      <td>132</td>\n",
       "      <td>48</td>\n",
       "      <td>2</td>\n",
       "      <td>52.0</td>\n",
       "      <td>0.0</td>\n",
       "      <td>0.5</td>\n",
       "      <td>0.00</td>\n",
       "      <td>5.76</td>\n",
       "      <td>0.3</td>\n",
       "      <td>58.56</td>\n",
       "      <td>45.450000</td>\n",
       "      <td>August</td>\n",
       "      <td>Thursday</td>\n",
       "      <td>132 48</td>\n",
       "      <td>18.761905</td>\n",
       "      <td>58.246032</td>\n",
       "      <td>0</td>\n",
       "    </tr>\n",
       "    <tr>\n",
       "      <th>468</th>\n",
       "      <td>80904240</td>\n",
       "      <td>2</td>\n",
       "      <td>2017-09-26 13:48:26</td>\n",
       "      <td>2017-09-26 14:31:17</td>\n",
       "      <td>1</td>\n",
       "      <td>17.27</td>\n",
       "      <td>2</td>\n",
       "      <td>N</td>\n",
       "      <td>186</td>\n",
       "      <td>132</td>\n",
       "      <td>2</td>\n",
       "      <td>52.0</td>\n",
       "      <td>0.0</td>\n",
       "      <td>0.5</td>\n",
       "      <td>0.00</td>\n",
       "      <td>5.76</td>\n",
       "      <td>0.3</td>\n",
       "      <td>58.56</td>\n",
       "      <td>42.850000</td>\n",
       "      <td>September</td>\n",
       "      <td>Tuesday</td>\n",
       "      <td>186 132</td>\n",
       "      <td>17.096000</td>\n",
       "      <td>42.920000</td>\n",
       "      <td>0</td>\n",
       "    </tr>\n",
       "    <tr>\n",
       "      <th>520</th>\n",
       "      <td>33706214</td>\n",
       "      <td>2</td>\n",
       "      <td>2017-04-23 21:34:48</td>\n",
       "      <td>2017-04-23 22:46:23</td>\n",
       "      <td>6</td>\n",
       "      <td>18.34</td>\n",
       "      <td>2</td>\n",
       "      <td>N</td>\n",
       "      <td>132</td>\n",
       "      <td>148</td>\n",
       "      <td>1</td>\n",
       "      <td>52.0</td>\n",
       "      <td>0.0</td>\n",
       "      <td>0.5</td>\n",
       "      <td>5.00</td>\n",
       "      <td>0.00</td>\n",
       "      <td>0.3</td>\n",
       "      <td>57.80</td>\n",
       "      <td>71.583333</td>\n",
       "      <td>April</td>\n",
       "      <td>Sunday</td>\n",
       "      <td>132 148</td>\n",
       "      <td>17.994286</td>\n",
       "      <td>46.340476</td>\n",
       "      <td>0</td>\n",
       "    </tr>\n",
       "    <tr>\n",
       "      <th>569</th>\n",
       "      <td>99259872</td>\n",
       "      <td>2</td>\n",
       "      <td>2017-11-22 21:31:32</td>\n",
       "      <td>2017-11-22 22:00:25</td>\n",
       "      <td>1</td>\n",
       "      <td>18.65</td>\n",
       "      <td>2</td>\n",
       "      <td>N</td>\n",
       "      <td>132</td>\n",
       "      <td>144</td>\n",
       "      <td>1</td>\n",
       "      <td>52.0</td>\n",
       "      <td>0.0</td>\n",
       "      <td>0.5</td>\n",
       "      <td>10.56</td>\n",
       "      <td>0.00</td>\n",
       "      <td>0.3</td>\n",
       "      <td>63.36</td>\n",
       "      <td>28.883333</td>\n",
       "      <td>November</td>\n",
       "      <td>Wednesday</td>\n",
       "      <td>132 144</td>\n",
       "      <td>18.537500</td>\n",
       "      <td>37.000000</td>\n",
       "      <td>0</td>\n",
       "    </tr>\n",
       "    <tr>\n",
       "      <th>572</th>\n",
       "      <td>61050418</td>\n",
       "      <td>2</td>\n",
       "      <td>2017-07-18 13:29:06</td>\n",
       "      <td>2017-07-18 13:29:19</td>\n",
       "      <td>1</td>\n",
       "      <td>0.00</td>\n",
       "      <td>2</td>\n",
       "      <td>N</td>\n",
       "      <td>230</td>\n",
       "      <td>161</td>\n",
       "      <td>1</td>\n",
       "      <td>52.0</td>\n",
       "      <td>0.0</td>\n",
       "      <td>0.5</td>\n",
       "      <td>11.71</td>\n",
       "      <td>5.76</td>\n",
       "      <td>0.3</td>\n",
       "      <td>70.27</td>\n",
       "      <td>0.216667</td>\n",
       "      <td>July</td>\n",
       "      <td>Tuesday</td>\n",
       "      <td>230 161</td>\n",
       "      <td>0.685484</td>\n",
       "      <td>7.965591</td>\n",
       "      <td>0</td>\n",
       "    </tr>\n",
       "    <tr>\n",
       "      <th>586</th>\n",
       "      <td>54444647</td>\n",
       "      <td>2</td>\n",
       "      <td>2017-06-26 13:39:12</td>\n",
       "      <td>2017-06-26 14:34:54</td>\n",
       "      <td>1</td>\n",
       "      <td>17.76</td>\n",
       "      <td>2</td>\n",
       "      <td>N</td>\n",
       "      <td>211</td>\n",
       "      <td>132</td>\n",
       "      <td>1</td>\n",
       "      <td>52.0</td>\n",
       "      <td>0.0</td>\n",
       "      <td>0.5</td>\n",
       "      <td>11.71</td>\n",
       "      <td>5.76</td>\n",
       "      <td>0.3</td>\n",
       "      <td>70.27</td>\n",
       "      <td>55.700000</td>\n",
       "      <td>June</td>\n",
       "      <td>Monday</td>\n",
       "      <td>211 132</td>\n",
       "      <td>16.580000</td>\n",
       "      <td>61.691667</td>\n",
       "      <td>0</td>\n",
       "    </tr>\n",
       "    <tr>\n",
       "      <th>692</th>\n",
       "      <td>94424289</td>\n",
       "      <td>2</td>\n",
       "      <td>2017-11-07 22:15:00</td>\n",
       "      <td>2017-11-07 22:45:32</td>\n",
       "      <td>2</td>\n",
       "      <td>16.97</td>\n",
       "      <td>2</td>\n",
       "      <td>N</td>\n",
       "      <td>132</td>\n",
       "      <td>170</td>\n",
       "      <td>1</td>\n",
       "      <td>52.0</td>\n",
       "      <td>0.0</td>\n",
       "      <td>0.5</td>\n",
       "      <td>11.71</td>\n",
       "      <td>5.76</td>\n",
       "      <td>0.3</td>\n",
       "      <td>70.27</td>\n",
       "      <td>30.533333</td>\n",
       "      <td>November</td>\n",
       "      <td>Tuesday</td>\n",
       "      <td>132 170</td>\n",
       "      <td>17.203000</td>\n",
       "      <td>37.113333</td>\n",
       "      <td>0</td>\n",
       "    </tr>\n",
       "    <tr>\n",
       "      <th>717</th>\n",
       "      <td>103094220</td>\n",
       "      <td>1</td>\n",
       "      <td>2017-12-06 05:19:50</td>\n",
       "      <td>2017-12-06 05:53:52</td>\n",
       "      <td>1</td>\n",
       "      <td>20.80</td>\n",
       "      <td>2</td>\n",
       "      <td>N</td>\n",
       "      <td>132</td>\n",
       "      <td>239</td>\n",
       "      <td>1</td>\n",
       "      <td>52.0</td>\n",
       "      <td>0.0</td>\n",
       "      <td>0.5</td>\n",
       "      <td>5.85</td>\n",
       "      <td>5.76</td>\n",
       "      <td>0.3</td>\n",
       "      <td>64.41</td>\n",
       "      <td>34.033333</td>\n",
       "      <td>December</td>\n",
       "      <td>Wednesday</td>\n",
       "      <td>132 239</td>\n",
       "      <td>20.901250</td>\n",
       "      <td>44.862500</td>\n",
       "      <td>0</td>\n",
       "    </tr>\n",
       "    <tr>\n",
       "      <th>719</th>\n",
       "      <td>66115834</td>\n",
       "      <td>1</td>\n",
       "      <td>2017-08-04 17:53:34</td>\n",
       "      <td>2017-08-04 18:50:56</td>\n",
       "      <td>1</td>\n",
       "      <td>21.60</td>\n",
       "      <td>2</td>\n",
       "      <td>N</td>\n",
       "      <td>264</td>\n",
       "      <td>264</td>\n",
       "      <td>1</td>\n",
       "      <td>52.0</td>\n",
       "      <td>4.5</td>\n",
       "      <td>0.5</td>\n",
       "      <td>12.60</td>\n",
       "      <td>5.76</td>\n",
       "      <td>0.3</td>\n",
       "      <td>75.66</td>\n",
       "      <td>57.366667</td>\n",
       "      <td>August</td>\n",
       "      <td>Friday</td>\n",
       "      <td>264 264</td>\n",
       "      <td>3.207091</td>\n",
       "      <td>15.679030</td>\n",
       "      <td>1</td>\n",
       "    </tr>\n",
       "    <tr>\n",
       "      <th>782</th>\n",
       "      <td>55934137</td>\n",
       "      <td>2</td>\n",
       "      <td>2017-06-09 09:31:25</td>\n",
       "      <td>2017-06-09 10:24:10</td>\n",
       "      <td>2</td>\n",
       "      <td>18.81</td>\n",
       "      <td>2</td>\n",
       "      <td>N</td>\n",
       "      <td>163</td>\n",
       "      <td>132</td>\n",
       "      <td>1</td>\n",
       "      <td>52.0</td>\n",
       "      <td>0.0</td>\n",
       "      <td>0.5</td>\n",
       "      <td>13.20</td>\n",
       "      <td>0.00</td>\n",
       "      <td>0.3</td>\n",
       "      <td>66.00</td>\n",
       "      <td>52.750000</td>\n",
       "      <td>June</td>\n",
       "      <td>Friday</td>\n",
       "      <td>163 132</td>\n",
       "      <td>17.275833</td>\n",
       "      <td>52.338889</td>\n",
       "      <td>1</td>\n",
       "    </tr>\n",
       "    <tr>\n",
       "      <th>816</th>\n",
       "      <td>13731926</td>\n",
       "      <td>2</td>\n",
       "      <td>2017-02-21 06:11:03</td>\n",
       "      <td>2017-02-21 06:59:39</td>\n",
       "      <td>5</td>\n",
       "      <td>16.94</td>\n",
       "      <td>2</td>\n",
       "      <td>N</td>\n",
       "      <td>132</td>\n",
       "      <td>170</td>\n",
       "      <td>1</td>\n",
       "      <td>52.0</td>\n",
       "      <td>0.0</td>\n",
       "      <td>0.5</td>\n",
       "      <td>2.00</td>\n",
       "      <td>5.54</td>\n",
       "      <td>0.3</td>\n",
       "      <td>60.34</td>\n",
       "      <td>48.600000</td>\n",
       "      <td>February</td>\n",
       "      <td>Tuesday</td>\n",
       "      <td>132 170</td>\n",
       "      <td>17.203000</td>\n",
       "      <td>37.113333</td>\n",
       "      <td>1</td>\n",
       "    </tr>\n",
       "    <tr>\n",
       "      <th>818</th>\n",
       "      <td>52277743</td>\n",
       "      <td>2</td>\n",
       "      <td>2017-06-20 08:15:18</td>\n",
       "      <td>2017-06-20 10:24:37</td>\n",
       "      <td>1</td>\n",
       "      <td>17.77</td>\n",
       "      <td>2</td>\n",
       "      <td>N</td>\n",
       "      <td>132</td>\n",
       "      <td>246</td>\n",
       "      <td>1</td>\n",
       "      <td>52.0</td>\n",
       "      <td>0.0</td>\n",
       "      <td>0.5</td>\n",
       "      <td>11.71</td>\n",
       "      <td>5.76</td>\n",
       "      <td>0.3</td>\n",
       "      <td>70.27</td>\n",
       "      <td>88.783333</td>\n",
       "      <td>June</td>\n",
       "      <td>Tuesday</td>\n",
       "      <td>132 246</td>\n",
       "      <td>18.515000</td>\n",
       "      <td>66.316667</td>\n",
       "      <td>1</td>\n",
       "    </tr>\n",
       "    <tr>\n",
       "      <th>835</th>\n",
       "      <td>2684305</td>\n",
       "      <td>2</td>\n",
       "      <td>2017-01-10 22:29:47</td>\n",
       "      <td>2017-01-10 23:06:46</td>\n",
       "      <td>1</td>\n",
       "      <td>18.57</td>\n",
       "      <td>2</td>\n",
       "      <td>N</td>\n",
       "      <td>132</td>\n",
       "      <td>48</td>\n",
       "      <td>1</td>\n",
       "      <td>52.0</td>\n",
       "      <td>0.0</td>\n",
       "      <td>0.5</td>\n",
       "      <td>13.20</td>\n",
       "      <td>0.00</td>\n",
       "      <td>0.3</td>\n",
       "      <td>66.00</td>\n",
       "      <td>36.983333</td>\n",
       "      <td>January</td>\n",
       "      <td>Tuesday</td>\n",
       "      <td>132 48</td>\n",
       "      <td>18.761905</td>\n",
       "      <td>58.246032</td>\n",
       "      <td>0</td>\n",
       "    </tr>\n",
       "  </tbody>\n",
       "</table>\n",
       "</div>"
      ],
      "text/plain": [
       "     Unnamed: 0  VendorID tpep_pickup_datetime tpep_dropoff_datetime  \\\n",
       "11     18600059         2  2017-03-05 19:15:30   2017-03-05 19:52:18   \n",
       "21     85505540         2  2017-10-11 12:34:49   2017-10-11 13:22:38   \n",
       "29     94052446         2  2017-11-06 20:30:50   2017-11-07 00:00:00   \n",
       "110    47959795         1  2017-06-03 14:24:57   2017-06-03 15:31:48   \n",
       "156   104881101         1  2017-12-11 10:21:18   2017-12-11 11:14:57   \n",
       "161    95729204         2  2017-11-11 20:16:16   2017-11-11 20:17:14   \n",
       "174    53109134         1  2017-06-22 14:22:05   2017-06-22 16:07:28   \n",
       "176    50046493         2  2017-06-13 20:05:03   2017-06-13 20:42:53   \n",
       "220    95620783         2  2017-11-11 13:39:55   2017-11-11 14:53:05   \n",
       "242    67332929         2  2017-08-09 08:32:09   2017-08-09 09:31:11   \n",
       "247   103404868         2  2017-12-06 23:37:08   2017-12-07 00:06:19   \n",
       "316    61694138         2  2017-07-20 13:21:55   2017-07-20 14:21:20   \n",
       "356   108458749         2  2017-12-21 21:31:12   2017-12-21 22:11:58   \n",
       "379    80479432         2  2017-09-24 23:45:45   2017-09-25 00:15:14   \n",
       "388    16226157         1  2017-02-28 18:30:05   2017-02-28 19:09:55   \n",
       "406    55253442         2  2017-06-05 12:51:58   2017-06-05 13:07:35   \n",
       "414    12955020         2  2017-02-18 12:44:04   2017-02-18 13:29:10   \n",
       "449    65900029         2  2017-08-03 22:47:14   2017-08-03 23:32:41   \n",
       "468    80904240         2  2017-09-26 13:48:26   2017-09-26 14:31:17   \n",
       "520    33706214         2  2017-04-23 21:34:48   2017-04-23 22:46:23   \n",
       "569    99259872         2  2017-11-22 21:31:32   2017-11-22 22:00:25   \n",
       "572    61050418         2  2017-07-18 13:29:06   2017-07-18 13:29:19   \n",
       "586    54444647         2  2017-06-26 13:39:12   2017-06-26 14:34:54   \n",
       "692    94424289         2  2017-11-07 22:15:00   2017-11-07 22:45:32   \n",
       "717   103094220         1  2017-12-06 05:19:50   2017-12-06 05:53:52   \n",
       "719    66115834         1  2017-08-04 17:53:34   2017-08-04 18:50:56   \n",
       "782    55934137         2  2017-06-09 09:31:25   2017-06-09 10:24:10   \n",
       "816    13731926         2  2017-02-21 06:11:03   2017-02-21 06:59:39   \n",
       "818    52277743         2  2017-06-20 08:15:18   2017-06-20 10:24:37   \n",
       "835     2684305         2  2017-01-10 22:29:47   2017-01-10 23:06:46   \n",
       "\n",
       "     passenger_count  trip_distance  RatecodeID store_and_fwd_flag  \\\n",
       "11                 2          18.90           2                  N   \n",
       "21                 1          12.30           5                  N   \n",
       "29                 1          30.83           1                  N   \n",
       "110                1          18.00           2                  N   \n",
       "156                1          15.60           1                  N   \n",
       "161                1           0.23           2                  N   \n",
       "174                1          16.90           1                  N   \n",
       "176                1          18.05           3                  N   \n",
       "220                1          13.61           1                  N   \n",
       "242                1          15.89           1                  N   \n",
       "247                1          18.93           2                  N   \n",
       "316                1          17.86           3                  N   \n",
       "356                6          18.17           1                  N   \n",
       "379                1          17.99           2                  N   \n",
       "388                1          18.40           2                  N   \n",
       "406                1           4.73           2                  N   \n",
       "414                6          25.69           1                  N   \n",
       "449                2          18.21           2                  N   \n",
       "468                1          17.27           2                  N   \n",
       "520                6          18.34           2                  N   \n",
       "569                1          18.65           2                  N   \n",
       "572                1           0.00           2                  N   \n",
       "586                1          17.76           2                  N   \n",
       "692                2          16.97           2                  N   \n",
       "717                1          20.80           2                  N   \n",
       "719                1          21.60           2                  N   \n",
       "782                2          18.81           2                  N   \n",
       "816                5          16.94           2                  N   \n",
       "818                1          17.77           2                  N   \n",
       "835                1          18.57           2                  N   \n",
       "\n",
       "     PULocationID  DOLocationID  payment_type  fare_amount  extra  mta_tax  \\\n",
       "11            236           132             1         52.0    0.0      0.5   \n",
       "21            138           265             1         62.5    0.0      0.0   \n",
       "29            132            23             1         62.5    0.5      0.5   \n",
       "110           132           163             1         52.0    0.0      0.5   \n",
       "156           138            88             1         51.5    0.0      0.5   \n",
       "161           132           132             2         52.0    0.0      0.5   \n",
       "174           230           219             2         62.5    0.0      0.5   \n",
       "176           163             1             2         62.5    0.5      0.0   \n",
       "220           132           181             1         55.0    0.0      0.5   \n",
       "242           138            87             1         53.0    0.0      0.5   \n",
       "247           132            79             2         52.0    0.0      0.5   \n",
       "316           170             1             1         62.5    0.0      0.0   \n",
       "356           132           145             1         51.5    0.5      0.5   \n",
       "379           132           234             1         52.0    0.0      0.5   \n",
       "388           132            48             2         52.0    4.5      0.5   \n",
       "406           228            88             2         52.0    0.0      0.5   \n",
       "414           132           106             1         62.5    0.0      0.5   \n",
       "449           132            48             2         52.0    0.0      0.5   \n",
       "468           186           132             2         52.0    0.0      0.5   \n",
       "520           132           148             1         52.0    0.0      0.5   \n",
       "569           132           144             1         52.0    0.0      0.5   \n",
       "572           230           161             1         52.0    0.0      0.5   \n",
       "586           211           132             1         52.0    0.0      0.5   \n",
       "692           132           170             1         52.0    0.0      0.5   \n",
       "717           132           239             1         52.0    0.0      0.5   \n",
       "719           264           264             1         52.0    4.5      0.5   \n",
       "782           163           132             1         52.0    0.0      0.5   \n",
       "816           132           170             1         52.0    0.0      0.5   \n",
       "818           132           246             1         52.0    0.0      0.5   \n",
       "835           132            48             1         52.0    0.0      0.5   \n",
       "\n",
       "     tip_amount  tolls_amount  improvement_surcharge  total_amount   duration  \\\n",
       "11        14.58          5.54                    0.3         72.92  36.800000   \n",
       "21        12.00         16.26                    0.3         96.81  47.816667   \n",
       "29        18.56         11.52                    0.3        111.38  88.783333   \n",
       "110        0.00          0.00                    0.3         52.80  66.850000   \n",
       "156       11.60          5.76                    0.3         69.66  53.650000   \n",
       "161        0.00          0.00                    0.3         52.80   0.966667   \n",
       "174        0.00          0.00                    0.3         72.30  88.783333   \n",
       "176        0.00         10.50                    0.3         80.80  37.833333   \n",
       "220       11.16          0.00                    0.3         66.96  73.166667   \n",
       "242       10.00          5.76                    0.3         69.56  59.033333   \n",
       "247        0.00          0.00                    0.3         52.80  29.183333   \n",
       "316        0.00         16.50                    0.3         94.80  59.416667   \n",
       "356        0.00          0.00                    0.3         52.80  40.766667   \n",
       "379       14.64          5.76                    0.3         73.20  29.483333   \n",
       "388        0.00          5.54                    0.3         62.84  39.833333   \n",
       "406        0.00          5.76                    0.3         58.56  15.616667   \n",
       "414       14.06          0.00                    0.3         84.36  45.100000   \n",
       "449        0.00          5.76                    0.3         58.56  45.450000   \n",
       "468        0.00          5.76                    0.3         58.56  42.850000   \n",
       "520        5.00          0.00                    0.3         57.80  71.583333   \n",
       "569       10.56          0.00                    0.3         63.36  28.883333   \n",
       "572       11.71          5.76                    0.3         70.27   0.216667   \n",
       "586       11.71          5.76                    0.3         70.27  55.700000   \n",
       "692       11.71          5.76                    0.3         70.27  30.533333   \n",
       "717        5.85          5.76                    0.3         64.41  34.033333   \n",
       "719       12.60          5.76                    0.3         75.66  57.366667   \n",
       "782       13.20          0.00                    0.3         66.00  52.750000   \n",
       "816        2.00          5.54                    0.3         60.34  48.600000   \n",
       "818       11.71          5.76                    0.3         70.27  88.783333   \n",
       "835       13.20          0.00                    0.3         66.00  36.983333   \n",
       "\n",
       "         month        day pickup_dropoff  mean_distance  mean_duration  \\\n",
       "11       March     Sunday        236 132      19.211667      40.500000   \n",
       "21     October  Wednesday        138 265      20.552000      39.376667   \n",
       "29    November     Monday         132 23      30.830000      88.783333   \n",
       "110       June   Saturday        132 163      19.229000      52.941667   \n",
       "156   December     Monday         138 88      15.393333      64.316667   \n",
       "161   November   Saturday        132 132       2.255862       3.021839   \n",
       "174       June   Thursday        230 219      16.900000      88.783333   \n",
       "176       June    Tuesday          163 1      18.050000      37.833333   \n",
       "220   November   Saturday        132 181      17.358571      42.697619   \n",
       "242     August  Wednesday         138 87      13.812500      44.284722   \n",
       "247   December  Wednesday         132 79      19.431667      47.275000   \n",
       "316       July   Thursday          170 1      16.876667      38.955556   \n",
       "356   December   Thursday        132 145      15.837143      40.759524   \n",
       "379  September     Sunday        132 234      17.654000      49.833333   \n",
       "388   February    Tuesday         132 48      18.761905      58.246032   \n",
       "406       June     Monday         228 88       4.730000      15.616667   \n",
       "414   February   Saturday        132 106      20.200000      40.483333   \n",
       "449     August   Thursday         132 48      18.761905      58.246032   \n",
       "468  September    Tuesday        186 132      17.096000      42.920000   \n",
       "520      April     Sunday        132 148      17.994286      46.340476   \n",
       "569   November  Wednesday        132 144      18.537500      37.000000   \n",
       "572       July    Tuesday        230 161       0.685484       7.965591   \n",
       "586       June     Monday        211 132      16.580000      61.691667   \n",
       "692   November    Tuesday        132 170      17.203000      37.113333   \n",
       "717   December  Wednesday        132 239      20.901250      44.862500   \n",
       "719     August     Friday        264 264       3.207091      15.679030   \n",
       "782       June     Friday        163 132      17.275833      52.338889   \n",
       "816   February    Tuesday        132 170      17.203000      37.113333   \n",
       "818       June    Tuesday        132 246      18.515000      66.316667   \n",
       "835    January    Tuesday         132 48      18.761905      58.246032   \n",
       "\n",
       "     rush_hour  \n",
       "11           0  \n",
       "21           0  \n",
       "29           0  \n",
       "110          0  \n",
       "156          0  \n",
       "161          0  \n",
       "174          0  \n",
       "176          0  \n",
       "220          0  \n",
       "242          1  \n",
       "247          0  \n",
       "316          0  \n",
       "356          0  \n",
       "379          0  \n",
       "388          1  \n",
       "406          0  \n",
       "414          0  \n",
       "449          0  \n",
       "468          0  \n",
       "520          0  \n",
       "569          0  \n",
       "572          0  \n",
       "586          0  \n",
       "692          0  \n",
       "717          0  \n",
       "719          1  \n",
       "782          1  \n",
       "816          1  \n",
       "818          1  \n",
       "835          0  "
      ]
     },
     "execution_count": 61,
     "metadata": {},
     "output_type": "execute_result"
    }
   ],
   "source": [
    "df0[df0['fare_amount'] > 50].head(30)"
   ]
  },
  {
   "cell_type": "markdown",
   "id": "4813e0c1",
   "metadata": {},
   "source": [
    "Parece que casi todos los viajes de estas primeras 30 filas en los que el importe es de 52 dólares empiezan o terminan en la ubicación 132, todos ellos con un RatecodeID de 2. No hay ninguna razón aparente para que la úbicación 132 tenga tantos viajes con la misma tarfia. Parece que estos viajes ocurren todos los días, a horas diferentes, con ambos proveedores, en todos los meses. Sin embargo, hay muchos peajes de 5,76 y 5,54 dólares. Esto parece indicar que la ubicación 132 se encuentra en una zona que con frecuencia requiere peajes para ir y volver.\n",
    "\n",
    "Comprobando el diccionario del dataset descubrimos que el RatecodeID de 2 indica el aeropuerto JFK. Una búsqueda rápida en google nos permite saber que en 2017, año del dataset, había una tarifa plana de 52 dólares para todos los viajes entre el aeropuerto y Manhattan.\n",
    "\n",
    "Dado que hemos encontrado una explicación a los datos, estos datos obviamente deben de permanecer en el dataset."
   ]
  },
  {
   "cell_type": "markdown",
   "id": "654ebf79",
   "metadata": {},
   "source": [
    "#### Aislar las variables de modelización"
   ]
  },
  {
   "cell_type": "code",
   "execution_count": 62,
   "id": "c9853dfe",
   "metadata": {},
   "outputs": [
    {
     "name": "stdout",
     "output_type": "stream",
     "text": [
      "<class 'pandas.core.frame.DataFrame'>\n",
      "Int64Index: 22665 entries, 0 to 22698\n",
      "Data columns (total 25 columns):\n",
      " #   Column                 Non-Null Count  Dtype         \n",
      "---  ------                 --------------  -----         \n",
      " 0   Unnamed: 0             22665 non-null  int64         \n",
      " 1   VendorID               22665 non-null  int64         \n",
      " 2   tpep_pickup_datetime   22665 non-null  datetime64[ns]\n",
      " 3   tpep_dropoff_datetime  22665 non-null  datetime64[ns]\n",
      " 4   passenger_count        22665 non-null  int64         \n",
      " 5   trip_distance          22665 non-null  float64       \n",
      " 6   RatecodeID             22665 non-null  int64         \n",
      " 7   store_and_fwd_flag     22665 non-null  object        \n",
      " 8   PULocationID           22665 non-null  int64         \n",
      " 9   DOLocationID           22665 non-null  int64         \n",
      " 10  payment_type           22665 non-null  int64         \n",
      " 11  fare_amount            22665 non-null  float64       \n",
      " 12  extra                  22665 non-null  float64       \n",
      " 13  mta_tax                22665 non-null  float64       \n",
      " 14  tip_amount             22665 non-null  float64       \n",
      " 15  tolls_amount           22665 non-null  float64       \n",
      " 16  improvement_surcharge  22665 non-null  float64       \n",
      " 17  total_amount           22665 non-null  float64       \n",
      " 18  duration               22665 non-null  float64       \n",
      " 19  month                  22665 non-null  object        \n",
      " 20  day                    22665 non-null  object        \n",
      " 21  pickup_dropoff         22665 non-null  object        \n",
      " 22  mean_distance          22665 non-null  float64       \n",
      " 23  mean_duration          22665 non-null  float64       \n",
      " 24  rush_hour              22665 non-null  int64         \n",
      "dtypes: datetime64[ns](2), float64(11), int64(8), object(4)\n",
      "memory usage: 5.0+ MB\n"
     ]
    }
   ],
   "source": [
    "df0.info()"
   ]
  },
  {
   "cell_type": "markdown",
   "id": "3a709b53",
   "metadata": {},
   "source": [
    "Vamos a eliminar las variables que no consideremos necesarias o que sean redundantes antes de construir el modelo."
   ]
  },
  {
   "cell_type": "code",
   "execution_count": 63,
   "id": "5b508e90",
   "metadata": {},
   "outputs": [
    {
     "name": "stdout",
     "output_type": "stream",
     "text": [
      "<class 'pandas.core.frame.DataFrame'>\n",
      "Int64Index: 22665 entries, 0 to 22698\n",
      "Data columns (total 6 columns):\n",
      " #   Column           Non-Null Count  Dtype  \n",
      "---  ------           --------------  -----  \n",
      " 0   VendorID         22665 non-null  int64  \n",
      " 1   passenger_count  22665 non-null  int64  \n",
      " 2   fare_amount      22665 non-null  float64\n",
      " 3   mean_distance    22665 non-null  float64\n",
      " 4   mean_duration    22665 non-null  float64\n",
      " 5   rush_hour        22665 non-null  int64  \n",
      "dtypes: float64(3), int64(3)\n",
      "memory usage: 1.7 MB\n"
     ]
    }
   ],
   "source": [
    "df1 = df0.copy()\n",
    "\n",
    "df1 = df1.drop(['Unnamed: 0', 'tpep_dropoff_datetime', 'tpep_pickup_datetime',\n",
    "               'trip_distance', 'RatecodeID', 'store_and_fwd_flag', 'PULocationID', 'DOLocationID',\n",
    "               'payment_type', 'extra', 'mta_tax', 'tip_amount', 'tolls_amount', 'improvement_surcharge',\n",
    "               'total_amount', 'tpep_dropoff_datetime', 'tpep_pickup_datetime', 'duration',\n",
    "               'pickup_dropoff', 'day', 'month'], axis = 1)\n",
    "df1.info()"
   ]
  },
  {
   "cell_type": "code",
   "execution_count": 217,
   "id": "2263500b",
   "metadata": {},
   "outputs": [
    {
     "data": {
      "text/html": [
       "<div>\n",
       "<style scoped>\n",
       "    .dataframe tbody tr th:only-of-type {\n",
       "        vertical-align: middle;\n",
       "    }\n",
       "\n",
       "    .dataframe tbody tr th {\n",
       "        vertical-align: top;\n",
       "    }\n",
       "\n",
       "    .dataframe thead th {\n",
       "        text-align: right;\n",
       "    }\n",
       "</style>\n",
       "<table border=\"1\" class=\"dataframe\">\n",
       "  <thead>\n",
       "    <tr style=\"text-align: right;\">\n",
       "      <th></th>\n",
       "      <th>VendorID</th>\n",
       "      <th>passenger_count</th>\n",
       "      <th>fare_amount</th>\n",
       "      <th>mean_distance</th>\n",
       "      <th>mean_duration</th>\n",
       "      <th>rush_hour</th>\n",
       "    </tr>\n",
       "  </thead>\n",
       "  <tbody>\n",
       "    <tr>\n",
       "      <th>0</th>\n",
       "      <td>2</td>\n",
       "      <td>6</td>\n",
       "      <td>13.0</td>\n",
       "      <td>3.521667</td>\n",
       "      <td>22.847222</td>\n",
       "      <td>0</td>\n",
       "    </tr>\n",
       "    <tr>\n",
       "      <th>1</th>\n",
       "      <td>1</td>\n",
       "      <td>1</td>\n",
       "      <td>16.0</td>\n",
       "      <td>3.108889</td>\n",
       "      <td>24.470370</td>\n",
       "      <td>0</td>\n",
       "    </tr>\n",
       "    <tr>\n",
       "      <th>2</th>\n",
       "      <td>1</td>\n",
       "      <td>1</td>\n",
       "      <td>6.5</td>\n",
       "      <td>0.881429</td>\n",
       "      <td>7.250000</td>\n",
       "      <td>1</td>\n",
       "    </tr>\n",
       "    <tr>\n",
       "      <th>3</th>\n",
       "      <td>2</td>\n",
       "      <td>1</td>\n",
       "      <td>20.5</td>\n",
       "      <td>3.700000</td>\n",
       "      <td>30.250000</td>\n",
       "      <td>0</td>\n",
       "    </tr>\n",
       "    <tr>\n",
       "      <th>4</th>\n",
       "      <td>2</td>\n",
       "      <td>1</td>\n",
       "      <td>16.5</td>\n",
       "      <td>4.435000</td>\n",
       "      <td>14.616667</td>\n",
       "      <td>0</td>\n",
       "    </tr>\n",
       "    <tr>\n",
       "      <th>5</th>\n",
       "      <td>2</td>\n",
       "      <td>6</td>\n",
       "      <td>9.0</td>\n",
       "      <td>2.052258</td>\n",
       "      <td>11.855376</td>\n",
       "      <td>0</td>\n",
       "    </tr>\n",
       "    <tr>\n",
       "      <th>6</th>\n",
       "      <td>2</td>\n",
       "      <td>1</td>\n",
       "      <td>47.5</td>\n",
       "      <td>12.830000</td>\n",
       "      <td>59.633333</td>\n",
       "      <td>1</td>\n",
       "    </tr>\n",
       "    <tr>\n",
       "      <th>7</th>\n",
       "      <td>2</td>\n",
       "      <td>1</td>\n",
       "      <td>16.0</td>\n",
       "      <td>4.022500</td>\n",
       "      <td>26.437500</td>\n",
       "      <td>1</td>\n",
       "    </tr>\n",
       "    <tr>\n",
       "      <th>8</th>\n",
       "      <td>2</td>\n",
       "      <td>1</td>\n",
       "      <td>9.0</td>\n",
       "      <td>1.019259</td>\n",
       "      <td>7.873457</td>\n",
       "      <td>0</td>\n",
       "    </tr>\n",
       "    <tr>\n",
       "      <th>9</th>\n",
       "      <td>1</td>\n",
       "      <td>1</td>\n",
       "      <td>13.0</td>\n",
       "      <td>1.580000</td>\n",
       "      <td>10.541111</td>\n",
       "      <td>0</td>\n",
       "    </tr>\n",
       "  </tbody>\n",
       "</table>\n",
       "</div>"
      ],
      "text/plain": [
       "   VendorID  passenger_count  fare_amount  mean_distance  mean_duration  \\\n",
       "0         2                6         13.0       3.521667      22.847222   \n",
       "1         1                1         16.0       3.108889      24.470370   \n",
       "2         1                1          6.5       0.881429       7.250000   \n",
       "3         2                1         20.5       3.700000      30.250000   \n",
       "4         2                1         16.5       4.435000      14.616667   \n",
       "5         2                6          9.0       2.052258      11.855376   \n",
       "6         2                1         47.5      12.830000      59.633333   \n",
       "7         2                1         16.0       4.022500      26.437500   \n",
       "8         2                1          9.0       1.019259       7.873457   \n",
       "9         1                1         13.0       1.580000      10.541111   \n",
       "\n",
       "   rush_hour  \n",
       "0          0  \n",
       "1          0  \n",
       "2          1  \n",
       "3          0  \n",
       "4          0  \n",
       "5          0  \n",
       "6          1  \n",
       "7          1  \n",
       "8          0  \n",
       "9          0  "
      ]
     },
     "execution_count": 217,
     "metadata": {},
     "output_type": "execute_result"
    }
   ],
   "source": [
    "df1.head(10)"
   ]
  },
  {
   "cell_type": "markdown",
   "id": "3ad7436d",
   "metadata": {},
   "source": [
    "#### Pair plot"
   ]
  },
  {
   "cell_type": "markdown",
   "id": "981a4cc7",
   "metadata": {},
   "source": [
    "Graficamos un Pair Plot para visualizar las relaciones entre las variables `fare_amount`, `mean_distance`, `mean_duration`."
   ]
  },
  {
   "cell_type": "code",
   "execution_count": 64,
   "id": "507b8c1e",
   "metadata": {},
   "outputs": [
    {
     "data": {
      "image/png": "[encoded data removed]",
      "text/plain": [
       "<Figure size 540x540 with 12 Axes>"
      ]
     },
     "metadata": {},
     "output_type": "display_data"
    }
   ],
   "source": [
    "sns.pairplot(df1[['fare_amount', 'mean_duration', 'mean_distance']],\n",
    "             plot_kws = {'alpha':0.4, 'size':5});"
   ]
  },
  {
   "cell_type": "markdown",
   "id": "f0273b92",
   "metadata": {},
   "source": [
    "Todas las variables parecen tener una correlación lineal con las otras dos variables."
   ]
  },
  {
   "cell_type": "markdown",
   "id": "26150fd6",
   "metadata": {},
   "source": [
    "#### Identificar correlaciones"
   ]
  },
  {
   "cell_type": "code",
   "execution_count": 65,
   "id": "f9f286fe",
   "metadata": {},
   "outputs": [
    {
     "data": {
      "image/png": "[encoded data removed]",
      "text/plain": [
       "<Figure size 720x576 with 2 Axes>"
      ]
     },
     "metadata": {},
     "output_type": "display_data"
    }
   ],
   "source": [
    "#Create a correlation heatmap\n",
    "plt.figure(figsize=(10,8))\n",
    "sns.heatmap(df1.corr(method = 'pearson'), annot = True, cmap = 'Reds')\n",
    "plt.title('Correlation heatmap');"
   ]
  },
  {
   "cell_type": "markdown",
   "id": "125ddcca",
   "metadata": {},
   "source": [
    "Tanto `mean_duration` como `mean_distance` están altamente correlacionadas con `fare_amount`, siendo esta la variable que queremos predecir. También están altamente correlacionadas entre ellas. Esto puede ser un problema pues las variables predictoras que están altamente correlacionadas entre ellas pueden ser perjudiciales para los modelos de regresión lineal cuando se desea poder realizar inferencias estadísticas sobre los datos a parti del modelo. Sin embargo, las variables predictoras correlacionadas pueden utiliarse para crear un modelo predictor preciso si es más importante la predicción en sí, como es el caso, que utilizar el modelo como herramienta para aprender sobre los datos.\n",
    "\n",
    "Este modelo predecirá `fare_amount`, que se utilizará omo variable de predicción en los modelos de aprendizaje automático. Por lo tanto, se pueden usar ambas vaiables para construir el modelo. "
   ]
  },
  {
   "cell_type": "markdown",
   "id": "56ff5c3f",
   "metadata": {},
   "source": [
    "#### Dividir los datos en variables de predicción y resultado"
   ]
  },
  {
   "cell_type": "code",
   "execution_count": 67,
   "id": "bf1c975a",
   "metadata": {},
   "outputs": [
    {
     "name": "stdout",
     "output_type": "stream",
     "text": [
      "<class 'pandas.core.frame.DataFrame'>\n",
      "Int64Index: 22665 entries, 0 to 22698\n",
      "Data columns (total 6 columns):\n",
      " #   Column           Non-Null Count  Dtype  \n",
      "---  ------           --------------  -----  \n",
      " 0   VendorID         22665 non-null  int64  \n",
      " 1   passenger_count  22665 non-null  int64  \n",
      " 2   fare_amount      22665 non-null  float64\n",
      " 3   mean_distance    22665 non-null  float64\n",
      " 4   mean_duration    22665 non-null  float64\n",
      " 5   rush_hour        22665 non-null  int64  \n",
      "dtypes: float64(3), int64(3)\n",
      "memory usage: 1.7 MB\n"
     ]
    }
   ],
   "source": [
    "df1.info()"
   ]
  },
  {
   "cell_type": "code",
   "execution_count": 68,
   "id": "a7e54536",
   "metadata": {},
   "outputs": [
    {
     "data": {
      "text/html": [
       "<div>\n",
       "<style scoped>\n",
       "    .dataframe tbody tr th:only-of-type {\n",
       "        vertical-align: middle;\n",
       "    }\n",
       "\n",
       "    .dataframe tbody tr th {\n",
       "        vertical-align: top;\n",
       "    }\n",
       "\n",
       "    .dataframe thead th {\n",
       "        text-align: right;\n",
       "    }\n",
       "</style>\n",
       "<table border=\"1\" class=\"dataframe\">\n",
       "  <thead>\n",
       "    <tr style=\"text-align: right;\">\n",
       "      <th></th>\n",
       "      <th>VendorID</th>\n",
       "      <th>passenger_count</th>\n",
       "      <th>mean_distance</th>\n",
       "      <th>mean_duration</th>\n",
       "      <th>rush_hour</th>\n",
       "    </tr>\n",
       "  </thead>\n",
       "  <tbody>\n",
       "    <tr>\n",
       "      <th>0</th>\n",
       "      <td>2</td>\n",
       "      <td>6</td>\n",
       "      <td>3.521667</td>\n",
       "      <td>22.847222</td>\n",
       "      <td>0</td>\n",
       "    </tr>\n",
       "    <tr>\n",
       "      <th>1</th>\n",
       "      <td>1</td>\n",
       "      <td>1</td>\n",
       "      <td>3.108889</td>\n",
       "      <td>24.470370</td>\n",
       "      <td>0</td>\n",
       "    </tr>\n",
       "    <tr>\n",
       "      <th>2</th>\n",
       "      <td>1</td>\n",
       "      <td>1</td>\n",
       "      <td>0.881429</td>\n",
       "      <td>7.250000</td>\n",
       "      <td>1</td>\n",
       "    </tr>\n",
       "    <tr>\n",
       "      <th>3</th>\n",
       "      <td>2</td>\n",
       "      <td>1</td>\n",
       "      <td>3.700000</td>\n",
       "      <td>30.250000</td>\n",
       "      <td>0</td>\n",
       "    </tr>\n",
       "    <tr>\n",
       "      <th>4</th>\n",
       "      <td>2</td>\n",
       "      <td>1</td>\n",
       "      <td>4.435000</td>\n",
       "      <td>14.616667</td>\n",
       "      <td>0</td>\n",
       "    </tr>\n",
       "  </tbody>\n",
       "</table>\n",
       "</div>"
      ],
      "text/plain": [
       "   VendorID  passenger_count  mean_distance  mean_duration  rush_hour\n",
       "0         2                6       3.521667      22.847222          0\n",
       "1         1                1       3.108889      24.470370          0\n",
       "2         1                1       0.881429       7.250000          1\n",
       "3         2                1       3.700000      30.250000          0\n",
       "4         2                1       4.435000      14.616667          0"
      ]
     },
     "execution_count": 68,
     "metadata": {},
     "output_type": "execute_result"
    }
   ],
   "source": [
    "X = df1.drop(columns=['fare_amount'])\n",
    "\n",
    "y = df1[['fare_amount']]\n",
    "\n",
    "X.head()"
   ]
  },
  {
   "cell_type": "markdown",
   "id": "0aaada74",
   "metadata": {},
   "source": [
    "#### Preprocesamiento de los datos"
   ]
  },
  {
   "cell_type": "code",
   "execution_count": 69,
   "id": "00910432",
   "metadata": {},
   "outputs": [
    {
     "data": {
      "text/html": [
       "<div>\n",
       "<style scoped>\n",
       "    .dataframe tbody tr th:only-of-type {\n",
       "        vertical-align: middle;\n",
       "    }\n",
       "\n",
       "    .dataframe tbody tr th {\n",
       "        vertical-align: top;\n",
       "    }\n",
       "\n",
       "    .dataframe thead th {\n",
       "        text-align: right;\n",
       "    }\n",
       "</style>\n",
       "<table border=\"1\" class=\"dataframe\">\n",
       "  <thead>\n",
       "    <tr style=\"text-align: right;\">\n",
       "      <th></th>\n",
       "      <th>passenger_count</th>\n",
       "      <th>mean_distance</th>\n",
       "      <th>mean_duration</th>\n",
       "      <th>rush_hour</th>\n",
       "      <th>VendorID_2</th>\n",
       "    </tr>\n",
       "  </thead>\n",
       "  <tbody>\n",
       "    <tr>\n",
       "      <th>0</th>\n",
       "      <td>6</td>\n",
       "      <td>3.521667</td>\n",
       "      <td>22.847222</td>\n",
       "      <td>0</td>\n",
       "      <td>1</td>\n",
       "    </tr>\n",
       "    <tr>\n",
       "      <th>1</th>\n",
       "      <td>1</td>\n",
       "      <td>3.108889</td>\n",
       "      <td>24.470370</td>\n",
       "      <td>0</td>\n",
       "      <td>0</td>\n",
       "    </tr>\n",
       "    <tr>\n",
       "      <th>2</th>\n",
       "      <td>1</td>\n",
       "      <td>0.881429</td>\n",
       "      <td>7.250000</td>\n",
       "      <td>1</td>\n",
       "      <td>0</td>\n",
       "    </tr>\n",
       "    <tr>\n",
       "      <th>3</th>\n",
       "      <td>1</td>\n",
       "      <td>3.700000</td>\n",
       "      <td>30.250000</td>\n",
       "      <td>0</td>\n",
       "      <td>1</td>\n",
       "    </tr>\n",
       "    <tr>\n",
       "      <th>4</th>\n",
       "      <td>1</td>\n",
       "      <td>4.435000</td>\n",
       "      <td>14.616667</td>\n",
       "      <td>0</td>\n",
       "      <td>1</td>\n",
       "    </tr>\n",
       "  </tbody>\n",
       "</table>\n",
       "</div>"
      ],
      "text/plain": [
       "   passenger_count  mean_distance  mean_duration  rush_hour  VendorID_2\n",
       "0                6       3.521667      22.847222          0           1\n",
       "1                1       3.108889      24.470370          0           0\n",
       "2                1       0.881429       7.250000          1           0\n",
       "3                1       3.700000      30.250000          0           1\n",
       "4                1       4.435000      14.616667          0           1"
      ]
     },
     "execution_count": 69,
     "metadata": {},
     "output_type": "execute_result"
    }
   ],
   "source": [
    "X['VendorID'] = X['VendorID'].astype(str)\n",
    "\n",
    "X = pd.get_dummies(X, drop_first= True)\n",
    "X.head()"
   ]
  },
  {
   "cell_type": "code",
   "execution_count": 70,
   "id": "700e6465",
   "metadata": {},
   "outputs": [],
   "source": [
    "#Crear training y test sets \n",
    "\n",
    "X_train, X_test, y_train, y_test = train_test_split(X, y, test_size=0.2, random_state=0)"
   ]
  },
  {
   "cell_type": "code",
   "execution_count": 71,
   "id": "9ef289d2",
   "metadata": {},
   "outputs": [
    {
     "name": "stdout",
     "output_type": "stream",
     "text": [
      "X_Train_scaled [[-0.50024647 -0.54385868 -0.71738506 -0.64884754  0.89545986]\n",
      " [-0.50024647  0.13809851 -0.24180475  1.54119409 -1.11674464]\n",
      " [-0.50024647 -0.53585843 -0.43457719 -0.64884754  0.89545986]\n",
      " ...\n",
      " [-0.50024647 -0.43628922 -0.18913147 -0.64884754 -1.11674464]\n",
      " [-0.50024647 -0.56439095 -0.76753128 -0.64884754  0.89545986]\n",
      " [-0.50024647  0.13559882  0.44747556  1.54119409 -1.11674464]]\n"
     ]
    }
   ],
   "source": [
    "scaler = StandardScaler().fit(X_train)\n",
    "X_train_scaled = scaler.transform(X_train)\n",
    "print('X_Train_scaled', X_train_scaled)"
   ]
  },
  {
   "cell_type": "code",
   "execution_count": 72,
   "id": "5c9e8ec2",
   "metadata": {},
   "outputs": [
    {
     "data": {
      "text/plain": [
       "LinearRegression()"
      ]
     },
     "execution_count": 72,
     "metadata": {},
     "output_type": "execute_result"
    }
   ],
   "source": [
    "lr = LinearRegression()\n",
    "lr.fit(X_train_scaled, y_train)"
   ]
  },
  {
   "cell_type": "code",
   "execution_count": 73,
   "id": "3ae09a26",
   "metadata": {},
   "outputs": [
    {
     "name": "stdout",
     "output_type": "stream",
     "text": [
      "Coefficient of determination: 0.847399680109636\n",
      "R^2: 0.847399680109636\n",
      "MAE: 2.1709653256315193\n",
      "MSE: 16.875182293846574\n",
      "RMSE: 4.107941369329238\n"
     ]
    }
   ],
   "source": [
    "r_sq = lr.score(X_train_scaled, y_train)\n",
    "print('Coefficient of determination:', r_sq)\n",
    "y_pred_train = lr.predict(X_train_scaled)\n",
    "print('R^2:', r2_score(y_train, y_pred_train))\n",
    "print('MAE:', mean_absolute_error(y_train, y_pred_train))\n",
    "print('MSE:', mean_squared_error(y_train, y_pred_train))\n",
    "print('RMSE:', np.sqrt(mean_squared_error(y_train, y_pred_train)))"
   ]
  },
  {
   "cell_type": "code",
   "execution_count": 74,
   "id": "ab0f75a8",
   "metadata": {},
   "outputs": [],
   "source": [
    "X_test_scaled = scaler.transform(X_test)"
   ]
  },
  {
   "cell_type": "code",
   "execution_count": 75,
   "id": "b89ecc3f",
   "metadata": {},
   "outputs": [
    {
     "name": "stdout",
     "output_type": "stream",
     "text": [
      "Coefficient of determination: 0.8467126425131878\n",
      "R^2: 0.8467126425131878\n",
      "MAE: 2.136294482868575\n",
      "MSE: 17.25033314747087\n",
      "RMSE: 4.153352037507881\n"
     ]
    }
   ],
   "source": [
    "r_sq_test = lr.score(X_test_scaled, y_test)\n",
    "print('Coefficient of determination:', r_sq_test)\n",
    "y_pred_test = lr.predict(X_test_scaled)\n",
    "print('R^2:', r2_score(y_test, y_pred_test))\n",
    "print('MAE:', mean_absolute_error(y_test, y_pred_test))\n",
    "print('MSE:', mean_squared_error(y_test, y_pred_test))\n",
    "print('RMSE:', np.sqrt(mean_squared_error(y_test, y_pred_test)))"
   ]
  },
  {
   "cell_type": "markdown",
   "id": "cae2cde1",
   "metadata": {},
   "source": [
    "El rendimiento del modelo es bueno tanto en los sets de entrenamiento como en los de testing, lo que sugiere que no hay sesgo en el modelo y que éste no presenta overfitting. Para los daots de testing el valor de $R^2 = 0.847$ significa que el 84.7% de la varianza en `fare_amount` estan descritos por el modelo.   "
   ]
  },
  {
   "cell_type": "markdown",
   "id": "1ec4e0f9",
   "metadata": {},
   "source": [
    "#### Resultados"
   ]
  },
  {
   "cell_type": "code",
   "execution_count": 77,
   "id": "e2469a04",
   "metadata": {},
   "outputs": [
    {
     "data": {
      "text/html": [
       "<div>\n",
       "<style scoped>\n",
       "    .dataframe tbody tr th:only-of-type {\n",
       "        vertical-align: middle;\n",
       "    }\n",
       "\n",
       "    .dataframe tbody tr th {\n",
       "        vertical-align: top;\n",
       "    }\n",
       "\n",
       "    .dataframe thead th {\n",
       "        text-align: right;\n",
       "    }\n",
       "</style>\n",
       "<table border=\"1\" class=\"dataframe\">\n",
       "  <thead>\n",
       "    <tr style=\"text-align: right;\">\n",
       "      <th></th>\n",
       "      <th>actual</th>\n",
       "      <th>predicted</th>\n",
       "      <th>residual</th>\n",
       "    </tr>\n",
       "  </thead>\n",
       "  <tbody>\n",
       "    <tr>\n",
       "      <th>9825</th>\n",
       "      <td>10.5</td>\n",
       "      <td>11.903327</td>\n",
       "      <td>-1.403327</td>\n",
       "    </tr>\n",
       "    <tr>\n",
       "      <th>14103</th>\n",
       "      <td>9.5</td>\n",
       "      <td>8.154051</td>\n",
       "      <td>1.345949</td>\n",
       "    </tr>\n",
       "    <tr>\n",
       "      <th>3516</th>\n",
       "      <td>4.0</td>\n",
       "      <td>4.797943</td>\n",
       "      <td>-0.797943</td>\n",
       "    </tr>\n",
       "    <tr>\n",
       "      <th>16596</th>\n",
       "      <td>8.5</td>\n",
       "      <td>10.739782</td>\n",
       "      <td>-2.239782</td>\n",
       "    </tr>\n",
       "    <tr>\n",
       "      <th>21399</th>\n",
       "      <td>40.0</td>\n",
       "      <td>33.359174</td>\n",
       "      <td>6.640826</td>\n",
       "    </tr>\n",
       "  </tbody>\n",
       "</table>\n",
       "</div>"
      ],
      "text/plain": [
       "       actual  predicted  residual\n",
       "9825     10.5  11.903327 -1.403327\n",
       "14103     9.5   8.154051  1.345949\n",
       "3516      4.0   4.797943 -0.797943\n",
       "16596     8.5  10.739782 -2.239782\n",
       "21399    40.0  33.359174  6.640826"
      ]
     },
     "execution_count": 77,
     "metadata": {},
     "output_type": "execute_result"
    }
   ],
   "source": [
    "#Crear un dataframe con los resultados\n",
    "results = pd.DataFrame(data = {'actual':y_test['fare_amount'],\n",
    "                               'predicted': y_pred_test.ravel(),})\n",
    "results['residual'] = results['actual'] - results['predicted']\n",
    "results.head()"
   ]
  },
  {
   "cell_type": "code",
   "execution_count": 78,
   "id": "f2ac47bc",
   "metadata": {},
   "outputs": [
    {
     "data": {
      "image/png": "[encoded data removed]",
      "text/plain": [
       "<Figure size 576x576 with 1 Axes>"
      ]
     },
     "metadata": {},
     "output_type": "display_data"
    }
   ],
   "source": [
    "#Visualizamos lo predicho frente a los datos actuales\n",
    "fig, ax = plt.subplots(figsize = (8,8))\n",
    "sns.set(style = 'whitegrid')\n",
    "sns.scatterplot(x = 'actual',\n",
    "                y = 'predicted',\n",
    "                data = results,\n",
    "                s = 20,\n",
    "                alpha = 0.5,\n",
    "                ax = ax)\n",
    "plt.plot([0,60],[0,60], c = 'red', linewidth = 2)\n",
    "plt.title('Actual vs. Predicted');"
   ]
  },
  {
   "cell_type": "code",
   "execution_count": 79,
   "id": "19f179ba",
   "metadata": {},
   "outputs": [
    {
     "data": {
      "image/png": "[encoded data removed]",
      "text/plain": [
       "<Figure size 432x288 with 1 Axes>"
      ]
     },
     "metadata": {},
     "output_type": "display_data"
    }
   ],
   "source": [
    "#Dsitribución de los residuos\n",
    "sns.histplot(results['residual'], bins = np.arange(-15.0,15.5,0.5))\n",
    "plt.title('Distribution of residuals')\n",
    "plt.xlabel('residual value')\n",
    "plt.ylabel('count');"
   ]
  },
  {
   "cell_type": "code",
   "execution_count": 80,
   "id": "a49085d4",
   "metadata": {},
   "outputs": [
    {
     "data": {
      "text/plain": [
       "0.030221354042436293"
      ]
     },
     "execution_count": 80,
     "metadata": {},
     "output_type": "execute_result"
    }
   ],
   "source": [
    "results['residual'].mean()"
   ]
  },
  {
   "cell_type": "code",
   "execution_count": 81,
   "id": "e4f6da89",
   "metadata": {},
   "outputs": [
    {
     "data": {
      "image/png": "[encoded data removed]",
      "text/plain": [
       "<Figure size 432x288 with 1 Axes>"
      ]
     },
     "metadata": {},
     "output_type": "display_data"
    }
   ],
   "source": [
    "#Datos predichos frente a los residuos\n",
    "sns.set(style = 'whitegrid')\n",
    "sns.scatterplot(x = 'predicted',\n",
    "                y = 'residual',\n",
    "                data = results,\n",
    "                s = 20,\n",
    "                alpha = 0.5)\n",
    "plt.axhline(0, c = 'red')\n",
    "plt.title('Actual vs. Predicted');"
   ]
  },
  {
   "cell_type": "markdown",
   "id": "5c117bd7",
   "metadata": {},
   "source": [
    "En los tres gráficos anteriores hemos comprobado que se cumple tanto la linealidad, la distribución normal de residuos y la homocedasticidad. En la última característica hay unas líneas inclinadas que hacen referencia a los valores de 62,5 y 52 doláres."
   ]
  },
  {
   "cell_type": "code",
   "execution_count": 82,
   "id": "aebd06f3",
   "metadata": {},
   "outputs": [
    {
     "data": {
      "text/html": [
       "<div>\n",
       "<style scoped>\n",
       "    .dataframe tbody tr th:only-of-type {\n",
       "        vertical-align: middle;\n",
       "    }\n",
       "\n",
       "    .dataframe tbody tr th {\n",
       "        vertical-align: top;\n",
       "    }\n",
       "\n",
       "    .dataframe thead th {\n",
       "        text-align: right;\n",
       "    }\n",
       "</style>\n",
       "<table border=\"1\" class=\"dataframe\">\n",
       "  <thead>\n",
       "    <tr style=\"text-align: right;\">\n",
       "      <th></th>\n",
       "      <th>passenger_count</th>\n",
       "      <th>mean_distance</th>\n",
       "      <th>mean_duration</th>\n",
       "      <th>rush_hour</th>\n",
       "      <th>VendorID_2</th>\n",
       "    </tr>\n",
       "  </thead>\n",
       "  <tbody>\n",
       "    <tr>\n",
       "      <th>0</th>\n",
       "      <td>0.018123</td>\n",
       "      <td>7.116245</td>\n",
       "      <td>2.829013</td>\n",
       "      <td>0.12079</td>\n",
       "      <td>-0.027526</td>\n",
       "    </tr>\n",
       "  </tbody>\n",
       "</table>\n",
       "</div>"
      ],
      "text/plain": [
       "   passenger_count  mean_distance  mean_duration  rush_hour  VendorID_2\n",
       "0         0.018123       7.116245       2.829013    0.12079   -0.027526"
      ]
     },
     "execution_count": 82,
     "metadata": {},
     "output_type": "execute_result"
    }
   ],
   "source": [
    "coefficients = pd.DataFrame(lr.coef_, columns=X.columns)\n",
    "coefficients"
   ]
  },
  {
   "cell_type": "markdown",
   "id": "5540e59f",
   "metadata": {},
   "source": [
    "Los coeficientes revelan que `mean_distance` es la variable con más peso a la hora de predecir `fare_amount`. Hay que tener cuidado a la hora de interpretar los datos. Se podría interpretar como que por cada milla recorrida el precio aumenta en 7,17 dólares pero esto no es cierto. La variable X ha sido estandarizada previamente por lo que las unidades ya no son millas. La interpretación correcta es: controlando las otras variables, por cada cambio de +1 en la desviación estandar, el impore de la tarifa aumenta una media de 7,13 dólares.\n",
    "\n",
    "También hay que destacar que al no haber eliminado algunas variables bastantes correlacionadas, el intervalo de confianza de esta evaluación es más amplio."
   ]
  },
  {
   "cell_type": "markdown",
   "id": "474b81e1",
   "metadata": {},
   "source": [
    "### Test de hipótesis"
   ]
  },
  {
   "cell_type": "markdown",
   "id": "98307695",
   "metadata": {},
   "source": [
    "Vamos a realizar un test de hipótesis acerca de los tipos de pago que nos va a servir para entender mejor cuando un cliente es generoso o no. Esto nos será muy útil cuando construyamos el siguiente modelo."
   ]
  },
  {
   "cell_type": "markdown",
   "id": "a680685a",
   "metadata": {},
   "source": [
    "En el dataset, `payment_type` está codificado de la siguiente manera:\n",
    "*   1: Credit card\n",
    "*   2: Cash\n",
    "*   3: No charge\n",
    "*   4: Dispute\n",
    "*   5: Unknown\n",
    "\n"
   ]
  },
  {
   "cell_type": "code",
   "execution_count": 83,
   "id": "bf859430",
   "metadata": {},
   "outputs": [
    {
     "data": {
      "text/html": [
       "<div>\n",
       "<style scoped>\n",
       "    .dataframe tbody tr th:only-of-type {\n",
       "        vertical-align: middle;\n",
       "    }\n",
       "\n",
       "    .dataframe tbody tr th {\n",
       "        vertical-align: top;\n",
       "    }\n",
       "\n",
       "    .dataframe thead th {\n",
       "        text-align: right;\n",
       "    }\n",
       "</style>\n",
       "<table border=\"1\" class=\"dataframe\">\n",
       "  <thead>\n",
       "    <tr style=\"text-align: right;\">\n",
       "      <th></th>\n",
       "      <th>fare_amount</th>\n",
       "    </tr>\n",
       "    <tr>\n",
       "      <th>payment_type</th>\n",
       "      <th></th>\n",
       "    </tr>\n",
       "  </thead>\n",
       "  <tbody>\n",
       "    <tr>\n",
       "      <th>1</th>\n",
       "      <td>13.272901</td>\n",
       "    </tr>\n",
       "    <tr>\n",
       "      <th>2</th>\n",
       "      <td>12.109145</td>\n",
       "    </tr>\n",
       "    <tr>\n",
       "      <th>3</th>\n",
       "      <td>12.343140</td>\n",
       "    </tr>\n",
       "    <tr>\n",
       "      <th>4</th>\n",
       "      <td>12.989130</td>\n",
       "    </tr>\n",
       "  </tbody>\n",
       "</table>\n",
       "</div>"
      ],
      "text/plain": [
       "              fare_amount\n",
       "payment_type             \n",
       "1               13.272901\n",
       "2               12.109145\n",
       "3               12.343140\n",
       "4               12.989130"
      ]
     },
     "execution_count": 83,
     "metadata": {},
     "output_type": "execute_result"
    }
   ],
   "source": [
    "df0.groupby('payment_type')[['fare_amount']].mean()"
   ]
  },
  {
   "cell_type": "markdown",
   "id": "5e909e18",
   "metadata": {},
   "source": [
    "$H_0$: No hay diferencia en el importe medio de las tarifas entre los clientes que utilizan tarjetas de crédito y los que utilizan efectivo.\n",
    "\n",
    "$H_A$: Existe una diferencia en el importe medio de las tarifas entre los clientes que utilizan tarjetas de crédito y los que utilizan efectivo"
   ]
  },
  {
   "cell_type": "markdown",
   "id": "b3b40fb6",
   "metadata": {},
   "source": [
    "Elegimos 5% como nivel de significación y se procede a un t-test de dos muestras."
   ]
  },
  {
   "cell_type": "code",
   "execution_count": 84,
   "id": "493b255f",
   "metadata": {},
   "outputs": [
    {
     "data": {
      "text/plain": [
       "Ttest_indResult(statistic=7.92611592041291, pvalue=2.419651649979705e-15)"
      ]
     },
     "execution_count": 84,
     "metadata": {},
     "output_type": "execute_result"
    }
   ],
   "source": [
    "credit_card = df0[df0['payment_type'] == 1]['fare_amount']\n",
    "cash = df0[df0['payment_type'] == 2]['fare_amount']\n",
    "stats.ttest_ind(a = credit_card, b = cash, equal_var=False)"
   ]
  },
  {
   "cell_type": "markdown",
   "id": "aa49984d",
   "metadata": {},
   "source": [
    "Como el p-value es menor del 5% concluimos que la hipótesis nula debe de ser rechaza y se puede afirmar que la gente que paga con tarjeta paga más que la gente que paga con efectivo."
   ]
  },
  {
   "cell_type": "markdown",
   "id": "5dc0040b",
   "metadata": {},
   "source": [
    "1.   Puede ser que animar a los clientes a pagar con tarjeta de crédito puede generar más ingresos para los taxistas. \n",
    "\n",
    "2.   Este proyecto requiere suponer que se obligaba a los pasajeros a pagar de una forma u otra y que, una vez informados de este requisito, siempre lo cumplían. Los datos no se recogieron de esta manera, por lo que hubo que partir de la hipótesis de agrupar aleatoriamente las entradas de datos para realizar una prueba A/B. Este conjunto de datos no tiene en cuenta otras explicaciones probables. Por ejemplo, es posible que los usuarios no lleven mucho dinero en efectivo, por lo que es más fácil pagar los viajes más largos o lejanos con tarjeta de crédito. En otras palabras, es mucho más probable que el importe del billete determine el tipo de pago, y no al revés. "
   ]
  },
  {
   "cell_type": "markdown",
   "id": "b8ef0b39",
   "metadata": {},
   "source": []
  }
 ],
 "metadata": {
  "kernelspec": {
   "display_name": "Python 3",
   "language": "python",
   "name": "python3"
  },
  "language_info": {
   "codemirror_mode": {
    "name": "ipython",
    "version": 3
   },
   "file_extension": ".py",
   "mimetype": "text/x-python",
   "name": "python",
   "nbconvert_exporter": "python",
   "pygments_lexer": "ipython3",
   "version": "3.8.8"
  }
 },
 "nbformat": 4,
 "nbformat_minor": 5
}
